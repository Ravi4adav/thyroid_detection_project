{
 "cells": [
  {
   "cell_type": "code",
   "execution_count": 92,
   "id": "6dea8970",
   "metadata": {},
   "outputs": [],
   "source": [
    "from sklearn.preprocessing import StandardScaler\n",
    "from sklearn.model_selection import train_test_split\n",
    "from sklearn.feature_selection import mutual_info_classif, SelectKBest\n",
    "import pandas as pd\n",
    "\n",
    "from collections import Counter\n",
    "from imblearn.over_sampling import SMOTE, RandomOverSampler\n",
    "from imblearn.combine import SMOTETomek\n",
    "from imblearn.under_sampling import NearMiss"
   ]
  },
  {
   "cell_type": "code",
   "execution_count": 93,
   "id": "539a7930",
   "metadata": {},
   "outputs": [],
   "source": [
    "df=pd.read_csv('raw copy.csv')"
   ]
  },
  {
   "cell_type": "code",
   "execution_count": 94,
   "id": "da679043",
   "metadata": {},
   "outputs": [
    {
     "data": {
      "text/plain": [
       "(4925, 30)"
      ]
     },
     "execution_count": 94,
     "metadata": {},
     "output_type": "execute_result"
    }
   ],
   "source": [
    "df.shape"
   ]
  },
  {
   "cell_type": "code",
   "execution_count": 95,
   "id": "342f3645",
   "metadata": {},
   "outputs": [
    {
     "data": {
      "text/plain": [
       "disease\n",
       "0    3612\n",
       "1    1313\n",
       "Name: count, dtype: int64"
      ]
     },
     "execution_count": 95,
     "metadata": {},
     "output_type": "execute_result"
    }
   ],
   "source": [
    "df['disease'].value_counts()"
   ]
  },
  {
   "cell_type": "code",
   "execution_count": 96,
   "id": "2133f47b",
   "metadata": {},
   "outputs": [],
   "source": [
    "x,y=train_test_split(df, test_size=0.2)"
   ]
  },
  {
   "cell_type": "code",
   "execution_count": 97,
   "id": "ddad1f1d",
   "metadata": {},
   "outputs": [
    {
     "data": {
      "text/plain": [
       "disease\n",
       "0    2894\n",
       "1    1046\n",
       "Name: count, dtype: int64"
      ]
     },
     "execution_count": 97,
     "metadata": {},
     "output_type": "execute_result"
    }
   ],
   "source": [
    "x['disease'].value_counts()"
   ]
  },
  {
   "cell_type": "code",
   "execution_count": 98,
   "id": "c812c007",
   "metadata": {},
   "outputs": [],
   "source": [
    "y_train=x['disease']\n",
    "x_train=x.drop('disease',axis=1)"
   ]
  },
  {
   "cell_type": "code",
   "execution_count": 99,
   "id": "9068b6aa",
   "metadata": {},
   "outputs": [],
   "source": [
    "y_test=y['disease']\n",
    "x_test=y.drop('disease',axis=1)"
   ]
  },
  {
   "cell_type": "code",
   "execution_count": 100,
   "id": "3e464f24",
   "metadata": {},
   "outputs": [
    {
     "data": {
      "text/plain": [
       "(985, 29)"
      ]
     },
     "execution_count": 100,
     "metadata": {},
     "output_type": "execute_result"
    }
   ],
   "source": [
    "x_test.shape"
   ]
  },
  {
   "cell_type": "code",
   "execution_count": 101,
   "id": "f013de2a",
   "metadata": {},
   "outputs": [
    {
     "data": {
      "text/plain": [
       "(3940, 29)"
      ]
     },
     "execution_count": 101,
     "metadata": {},
     "output_type": "execute_result"
    }
   ],
   "source": [
    "x_train.shape"
   ]
  },
  {
   "cell_type": "code",
   "execution_count": 102,
   "id": "9a6bed4a",
   "metadata": {},
   "outputs": [
    {
     "data": {
      "text/plain": [
       "disease\n",
       "0    2894\n",
       "1    1046\n",
       "Name: count, dtype: int64"
      ]
     },
     "execution_count": 102,
     "metadata": {},
     "output_type": "execute_result"
    }
   ],
   "source": [
    "y_train.value_counts()"
   ]
  },
  {
   "cell_type": "code",
   "execution_count": 103,
   "id": "cb69bf9f",
   "metadata": {},
   "outputs": [],
   "source": [
    "def oversample_data(x, y):\n",
    "    class_weight={0: y.value_counts()[0], 1:int((y.value_counts()[0])*0.7)}\n",
    "    print(class_weight)\n",
    "    smote=SMOTE(sampling_strategy=class_weight,k_neighbors=4)\n",
    "    smote=SMOTETomek(sampling_strategy='not minority', random_state=0,smote=smote)\n",
    "\n",
    "    ros=RandomOverSampler(sampling_strategy='not majority')\n",
    "    x,y=smote.fit_resample(x,y)\n",
    "    \n",
    "    return x,y"
   ]
  },
  {
   "cell_type": "code",
   "execution_count": 104,
   "id": "0d4037d2",
   "metadata": {},
   "outputs": [
    {
     "name": "stdout",
     "output_type": "stream",
     "text": [
      "Original dataset shape Counter({0: 2894, 1: 1046})\n",
      "{0: 2894, 1: 2025}\n",
      "Resampled dataset shape Counter({0: 2854, 1: 1985})\n"
     ]
    }
   ],
   "source": [
    "print('Original dataset shape %s' % Counter(y_train))\n",
    "# x,y=smote.fit_resample(final_dataset.iloc[:,:-1],final_dataset['disease'])\n",
    "\n",
    "x,y=oversample_data(x_train,y_train)\n",
    "\n",
    "# x,y=us.fit_resample(final_dataset.iloc[:,:-1],final_dataset['disease'])\n",
    "print('Resampled dataset shape %s' % Counter(y))"
   ]
  },
  {
   "cell_type": "code",
   "execution_count": 105,
   "id": "4da8a23b",
   "metadata": {},
   "outputs": [],
   "source": [
    "# x_train=pd.DataFrame(x)\n",
    "# y_train=pd.DataFrame(y)"
   ]
  },
  {
   "cell_type": "code",
   "execution_count": 106,
   "id": "f383aa9c",
   "metadata": {},
   "outputs": [],
   "source": [
    "def best_feature(x,y):\n",
    "    best_feature=SelectKBest(mutual_info_classif,k=5)\n",
    "    best_feature.fit(x,y)\n",
    "    feature_names=x.columns[best_feature.get_support()]\n",
    "    return feature_names"
   ]
  },
  {
   "cell_type": "code",
   "execution_count": 107,
   "id": "607ad14f",
   "metadata": {},
   "outputs": [],
   "source": [
    "feature_names=best_feature(x_train,y_train)"
   ]
  },
  {
   "cell_type": "code",
   "execution_count": 108,
   "id": "c49674a5",
   "metadata": {},
   "outputs": [],
   "source": [
    "x_train=x_train[feature_names]\n",
    "y_train=y_train"
   ]
  },
  {
   "cell_type": "code",
   "execution_count": 109,
   "id": "8a987511",
   "metadata": {},
   "outputs": [],
   "source": [
    "x_test=x_test[feature_names]\n",
    "y_test=y_test"
   ]
  },
  {
   "cell_type": "code",
   "execution_count": 110,
   "id": "5549cd81",
   "metadata": {},
   "outputs": [
    {
     "data": {
      "text/html": [
       "<div>\n",
       "<style scoped>\n",
       "    .dataframe tbody tr th:only-of-type {\n",
       "        vertical-align: middle;\n",
       "    }\n",
       "\n",
       "    .dataframe tbody tr th {\n",
       "        vertical-align: top;\n",
       "    }\n",
       "\n",
       "    .dataframe thead th {\n",
       "        text-align: right;\n",
       "    }\n",
       "</style>\n",
       "<table border=\"1\" class=\"dataframe\">\n",
       "  <thead>\n",
       "    <tr style=\"text-align: right;\">\n",
       "      <th></th>\n",
       "      <th>fti</th>\n",
       "      <th>t3</th>\n",
       "      <th>tbg</th>\n",
       "      <th>tsh</th>\n",
       "      <th>tt4</th>\n",
       "    </tr>\n",
       "  </thead>\n",
       "  <tbody>\n",
       "    <tr>\n",
       "      <th>1421</th>\n",
       "      <td>17.0</td>\n",
       "      <td>0.60</td>\n",
       "      <td>25.0</td>\n",
       "      <td>55.000</td>\n",
       "      <td>15.0</td>\n",
       "    </tr>\n",
       "    <tr>\n",
       "      <th>1765</th>\n",
       "      <td>101.0</td>\n",
       "      <td>2.40</td>\n",
       "      <td>24.4</td>\n",
       "      <td>1.000</td>\n",
       "      <td>107.0</td>\n",
       "    </tr>\n",
       "    <tr>\n",
       "      <th>428</th>\n",
       "      <td>71.0</td>\n",
       "      <td>1.90</td>\n",
       "      <td>25.0</td>\n",
       "      <td>12.542</td>\n",
       "      <td>81.0</td>\n",
       "    </tr>\n",
       "    <tr>\n",
       "      <th>2946</th>\n",
       "      <td>77.0</td>\n",
       "      <td>2.50</td>\n",
       "      <td>25.0</td>\n",
       "      <td>2.300</td>\n",
       "      <td>78.0</td>\n",
       "    </tr>\n",
       "    <tr>\n",
       "      <th>3614</th>\n",
       "      <td>77.0</td>\n",
       "      <td>2.18</td>\n",
       "      <td>25.0</td>\n",
       "      <td>19.000</td>\n",
       "      <td>93.0</td>\n",
       "    </tr>\n",
       "    <tr>\n",
       "      <th>...</th>\n",
       "      <td>...</td>\n",
       "      <td>...</td>\n",
       "      <td>...</td>\n",
       "      <td>...</td>\n",
       "      <td>...</td>\n",
       "    </tr>\n",
       "    <tr>\n",
       "      <th>495</th>\n",
       "      <td>101.0</td>\n",
       "      <td>1.70</td>\n",
       "      <td>24.4</td>\n",
       "      <td>0.200</td>\n",
       "      <td>85.0</td>\n",
       "    </tr>\n",
       "    <tr>\n",
       "      <th>1784</th>\n",
       "      <td>48.0</td>\n",
       "      <td>1.60</td>\n",
       "      <td>25.0</td>\n",
       "      <td>29.000</td>\n",
       "      <td>47.0</td>\n",
       "    </tr>\n",
       "    <tr>\n",
       "      <th>2437</th>\n",
       "      <td>112.0</td>\n",
       "      <td>2.00</td>\n",
       "      <td>24.4</td>\n",
       "      <td>20.960</td>\n",
       "      <td>96.0</td>\n",
       "    </tr>\n",
       "    <tr>\n",
       "      <th>1501</th>\n",
       "      <td>152.0</td>\n",
       "      <td>1.60</td>\n",
       "      <td>24.4</td>\n",
       "      <td>0.200</td>\n",
       "      <td>122.0</td>\n",
       "    </tr>\n",
       "    <tr>\n",
       "      <th>2235</th>\n",
       "      <td>88.0</td>\n",
       "      <td>2.00</td>\n",
       "      <td>24.4</td>\n",
       "      <td>5.500</td>\n",
       "      <td>95.0</td>\n",
       "    </tr>\n",
       "  </tbody>\n",
       "</table>\n",
       "<p>3940 rows × 5 columns</p>\n",
       "</div>"
      ],
      "text/plain": [
       "        fti    t3   tbg     tsh    tt4\n",
       "1421   17.0  0.60  25.0  55.000   15.0\n",
       "1765  101.0  2.40  24.4   1.000  107.0\n",
       "428    71.0  1.90  25.0  12.542   81.0\n",
       "2946   77.0  2.50  25.0   2.300   78.0\n",
       "3614   77.0  2.18  25.0  19.000   93.0\n",
       "...     ...   ...   ...     ...    ...\n",
       "495   101.0  1.70  24.4   0.200   85.0\n",
       "1784   48.0  1.60  25.0  29.000   47.0\n",
       "2437  112.0  2.00  24.4  20.960   96.0\n",
       "1501  152.0  1.60  24.4   0.200  122.0\n",
       "2235   88.0  2.00  24.4   5.500   95.0\n",
       "\n",
       "[3940 rows x 5 columns]"
      ]
     },
     "execution_count": 110,
     "metadata": {},
     "output_type": "execute_result"
    }
   ],
   "source": [
    "x_train"
   ]
  },
  {
   "cell_type": "code",
   "execution_count": 111,
   "id": "8bbec466",
   "metadata": {},
   "outputs": [
    {
     "data": {
      "text/html": [
       "<div>\n",
       "<style scoped>\n",
       "    .dataframe tbody tr th:only-of-type {\n",
       "        vertical-align: middle;\n",
       "    }\n",
       "\n",
       "    .dataframe tbody tr th {\n",
       "        vertical-align: top;\n",
       "    }\n",
       "\n",
       "    .dataframe thead th {\n",
       "        text-align: right;\n",
       "    }\n",
       "</style>\n",
       "<table border=\"1\" class=\"dataframe\">\n",
       "  <thead>\n",
       "    <tr style=\"text-align: right;\">\n",
       "      <th></th>\n",
       "      <th>fti</th>\n",
       "      <th>t3</th>\n",
       "      <th>tbg</th>\n",
       "      <th>tsh</th>\n",
       "      <th>tt4</th>\n",
       "    </tr>\n",
       "  </thead>\n",
       "  <tbody>\n",
       "    <tr>\n",
       "      <th>4405</th>\n",
       "      <td>103.0</td>\n",
       "      <td>2.30</td>\n",
       "      <td>24.4</td>\n",
       "      <td>1.000000</td>\n",
       "      <td>116.0</td>\n",
       "    </tr>\n",
       "    <tr>\n",
       "      <th>2861</th>\n",
       "      <td>4.0</td>\n",
       "      <td>0.50</td>\n",
       "      <td>25.8</td>\n",
       "      <td>500.000000</td>\n",
       "      <td>5.0</td>\n",
       "    </tr>\n",
       "    <tr>\n",
       "      <th>4423</th>\n",
       "      <td>122.0</td>\n",
       "      <td>1.30</td>\n",
       "      <td>24.4</td>\n",
       "      <td>2.100000</td>\n",
       "      <td>109.0</td>\n",
       "    </tr>\n",
       "    <tr>\n",
       "      <th>3806</th>\n",
       "      <td>130.0</td>\n",
       "      <td>2.30</td>\n",
       "      <td>24.4</td>\n",
       "      <td>2.900000</td>\n",
       "      <td>192.0</td>\n",
       "    </tr>\n",
       "    <tr>\n",
       "      <th>1633</th>\n",
       "      <td>90.0</td>\n",
       "      <td>1.38</td>\n",
       "      <td>24.4</td>\n",
       "      <td>9.100000</td>\n",
       "      <td>101.0</td>\n",
       "    </tr>\n",
       "    <tr>\n",
       "      <th>...</th>\n",
       "      <td>...</td>\n",
       "      <td>...</td>\n",
       "      <td>...</td>\n",
       "      <td>...</td>\n",
       "      <td>...</td>\n",
       "    </tr>\n",
       "    <tr>\n",
       "      <th>2222</th>\n",
       "      <td>101.0</td>\n",
       "      <td>1.90</td>\n",
       "      <td>24.4</td>\n",
       "      <td>14.299999</td>\n",
       "      <td>111.0</td>\n",
       "    </tr>\n",
       "    <tr>\n",
       "      <th>4420</th>\n",
       "      <td>124.0</td>\n",
       "      <td>2.06</td>\n",
       "      <td>24.4</td>\n",
       "      <td>0.500000</td>\n",
       "      <td>126.0</td>\n",
       "    </tr>\n",
       "    <tr>\n",
       "      <th>2847</th>\n",
       "      <td>64.0</td>\n",
       "      <td>2.18</td>\n",
       "      <td>25.0</td>\n",
       "      <td>49.000000</td>\n",
       "      <td>87.0</td>\n",
       "    </tr>\n",
       "    <tr>\n",
       "      <th>168</th>\n",
       "      <td>163.0</td>\n",
       "      <td>2.00</td>\n",
       "      <td>24.4</td>\n",
       "      <td>0.005000</td>\n",
       "      <td>147.0</td>\n",
       "    </tr>\n",
       "    <tr>\n",
       "      <th>3845</th>\n",
       "      <td>139.0</td>\n",
       "      <td>4.30</td>\n",
       "      <td>24.4</td>\n",
       "      <td>0.100000</td>\n",
       "      <td>147.0</td>\n",
       "    </tr>\n",
       "  </tbody>\n",
       "</table>\n",
       "<p>985 rows × 5 columns</p>\n",
       "</div>"
      ],
      "text/plain": [
       "        fti    t3   tbg         tsh    tt4\n",
       "4405  103.0  2.30  24.4    1.000000  116.0\n",
       "2861    4.0  0.50  25.8  500.000000    5.0\n",
       "4423  122.0  1.30  24.4    2.100000  109.0\n",
       "3806  130.0  2.30  24.4    2.900000  192.0\n",
       "1633   90.0  1.38  24.4    9.100000  101.0\n",
       "...     ...   ...   ...         ...    ...\n",
       "2222  101.0  1.90  24.4   14.299999  111.0\n",
       "4420  124.0  2.06  24.4    0.500000  126.0\n",
       "2847   64.0  2.18  25.0   49.000000   87.0\n",
       "168   163.0  2.00  24.4    0.005000  147.0\n",
       "3845  139.0  4.30  24.4    0.100000  147.0\n",
       "\n",
       "[985 rows x 5 columns]"
      ]
     },
     "execution_count": 111,
     "metadata": {},
     "output_type": "execute_result"
    }
   ],
   "source": [
    "x_test"
   ]
  },
  {
   "cell_type": "code",
   "execution_count": 112,
   "id": "66da685a",
   "metadata": {},
   "outputs": [],
   "source": [
    "def transform(X):\n",
    "    scale=StandardScaler()\n",
    "    trans_x=pd.DataFrame(scale.fit_transform(X), columns=X.columns)\n",
    "    return trans_x"
   ]
  },
  {
   "cell_type": "code",
   "execution_count": 113,
   "id": "18159281",
   "metadata": {},
   "outputs": [],
   "source": [
    "x_train=transform(x_train)"
   ]
  },
  {
   "cell_type": "code",
   "execution_count": 114,
   "id": "b5f1d67c",
   "metadata": {},
   "outputs": [],
   "source": [
    "x_test=transform(x_test)"
   ]
  },
  {
   "cell_type": "code",
   "execution_count": 115,
   "id": "d7dedaf8",
   "metadata": {},
   "outputs": [
    {
     "data": {
      "text/html": [
       "<div>\n",
       "<style scoped>\n",
       "    .dataframe tbody tr th:only-of-type {\n",
       "        vertical-align: middle;\n",
       "    }\n",
       "\n",
       "    .dataframe tbody tr th {\n",
       "        vertical-align: top;\n",
       "    }\n",
       "\n",
       "    .dataframe thead th {\n",
       "        text-align: right;\n",
       "    }\n",
       "</style>\n",
       "<table border=\"1\" class=\"dataframe\">\n",
       "  <thead>\n",
       "    <tr style=\"text-align: right;\">\n",
       "      <th></th>\n",
       "      <th>fti</th>\n",
       "      <th>t3</th>\n",
       "      <th>tbg</th>\n",
       "      <th>tsh</th>\n",
       "      <th>tt4</th>\n",
       "    </tr>\n",
       "  </thead>\n",
       "  <tbody>\n",
       "    <tr>\n",
       "      <th>0</th>\n",
       "      <td>-1.921949</td>\n",
       "      <td>-1.475043</td>\n",
       "      <td>1.001030</td>\n",
       "      <td>1.118210</td>\n",
       "      <td>-2.062293</td>\n",
       "    </tr>\n",
       "    <tr>\n",
       "      <th>1</th>\n",
       "      <td>-0.185984</td>\n",
       "      <td>0.362295</td>\n",
       "      <td>-0.216961</td>\n",
       "      <td>-0.275671</td>\n",
       "      <td>0.005496</td>\n",
       "    </tr>\n",
       "    <tr>\n",
       "      <th>2</th>\n",
       "      <td>-0.805972</td>\n",
       "      <td>-0.148077</td>\n",
       "      <td>1.001030</td>\n",
       "      <td>0.022259</td>\n",
       "      <td>-0.578879</td>\n",
       "    </tr>\n",
       "    <tr>\n",
       "      <th>3</th>\n",
       "      <td>-0.681974</td>\n",
       "      <td>0.464369</td>\n",
       "      <td>1.001030</td>\n",
       "      <td>-0.242114</td>\n",
       "      <td>-0.646307</td>\n",
       "    </tr>\n",
       "    <tr>\n",
       "      <th>4</th>\n",
       "      <td>-0.681974</td>\n",
       "      <td>0.137731</td>\n",
       "      <td>1.001030</td>\n",
       "      <td>0.188956</td>\n",
       "      <td>-0.309168</td>\n",
       "    </tr>\n",
       "  </tbody>\n",
       "</table>\n",
       "</div>"
      ],
      "text/plain": [
       "        fti        t3       tbg       tsh       tt4\n",
       "0 -1.921949 -1.475043  1.001030  1.118210 -2.062293\n",
       "1 -0.185984  0.362295 -0.216961 -0.275671  0.005496\n",
       "2 -0.805972 -0.148077  1.001030  0.022259 -0.578879\n",
       "3 -0.681974  0.464369  1.001030 -0.242114 -0.646307\n",
       "4 -0.681974  0.137731  1.001030  0.188956 -0.309168"
      ]
     },
     "execution_count": 115,
     "metadata": {},
     "output_type": "execute_result"
    }
   ],
   "source": [
    "x_train.head()"
   ]
  },
  {
   "cell_type": "code",
   "execution_count": 116,
   "id": "6d26ff71",
   "metadata": {},
   "outputs": [],
   "source": [
    "x_train.to_csv('temp_train_data.csv',index=False)\n",
    "y_train.to_csv('temp_output_train_data.csv',index=False)"
   ]
  },
  {
   "cell_type": "code",
   "execution_count": 117,
   "id": "16e23d4b",
   "metadata": {},
   "outputs": [],
   "source": [
    "x_test.to_csv('temp_test_data.csv',index=False)\n",
    "y_test.to_csv('temp_output_test_data.csv',index=False)"
   ]
  },
  {
   "cell_type": "code",
   "execution_count": null,
   "id": "0fd12518",
   "metadata": {},
   "outputs": [],
   "source": []
  }
 ],
 "metadata": {
  "kernelspec": {
   "display_name": "Python 3 (ipykernel)",
   "language": "python",
   "name": "python3"
  },
  "language_info": {
   "codemirror_mode": {
    "name": "ipython",
    "version": 3
   },
   "file_extension": ".py",
   "mimetype": "text/x-python",
   "name": "python",
   "nbconvert_exporter": "python",
   "pygments_lexer": "ipython3",
   "version": "3.11.5"
  }
 },
 "nbformat": 4,
 "nbformat_minor": 5
}
