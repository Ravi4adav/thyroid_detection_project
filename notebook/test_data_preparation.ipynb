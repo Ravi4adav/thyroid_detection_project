{
 "cells": [
  {
   "cell_type": "code",
   "execution_count": 235,
   "id": "4555d182",
   "metadata": {},
   "outputs": [],
   "source": [
    "import matplotlib.pyplot as plt\n",
    "import pandas as pd\n",
    "import seaborn as sns\n",
    "import numpy as np\n",
    "import os\n",
    "import re"
   ]
  },
  {
   "cell_type": "code",
   "execution_count": 236,
   "id": "21281a4f",
   "metadata": {},
   "outputs": [],
   "source": [
    "pd.set_option('display.max_columns',None)\n",
    "pd.set_option('display.max_rows',10000)"
   ]
  },
  {
   "cell_type": "markdown",
   "id": "ff8cf2e3",
   "metadata": {},
   "source": [
    "### 3.1 Defining paths for Format-1 and Format-2 file folders"
   ]
  },
  {
   "cell_type": "code",
   "execution_count": 237,
   "id": "ba7996e7",
   "metadata": {},
   "outputs": [],
   "source": [
    "file_path_1='raw_thyroid_dataset/format_1_data'"
   ]
  },
  {
   "cell_type": "code",
   "execution_count": 238,
   "id": "c21df57a",
   "metadata": {},
   "outputs": [],
   "source": [
    "file_path_2='raw_thyroid_dataset/format_2_data'"
   ]
  },
  {
   "cell_type": "markdown",
   "id": "2d6930bb",
   "metadata": {},
   "source": [
    "- Below function will be used for fetching the training file names"
   ]
  },
  {
   "cell_type": "code",
   "execution_count": 239,
   "id": "dfdf01e3",
   "metadata": {},
   "outputs": [],
   "source": [
    "def fetch_file_names(dir_path):\n",
    "    files=os.listdir(dir_path)\n",
    "    data_file_names=[file for file in files if file.endswith('.test')]\n",
    "    return data_file_names"
   ]
  },
  {
   "cell_type": "markdown",
   "id": "14875ea5",
   "metadata": {},
   "source": [
    "- Below function will be used for combining all the individual datasets"
   ]
  },
  {
   "cell_type": "code",
   "execution_count": 240,
   "id": "1dfddfd6",
   "metadata": {},
   "outputs": [],
   "source": [
    "def merge_dataset(dir_path, data_file_names_list):\n",
    "    if len(data_file_names_list)!=0:\n",
    "        df=pd.read_csv(f\"{dir_path}/{data_file_names_list[0]}\",header=None)\n",
    "        for file in data_file_names_list[1:]:\n",
    "            temp_df=pd.read_csv(os.path.join(dir_path,file),header=None,)\n",
    "            df=pd.concat([df,temp_df],axis=0, ignore_index=True)\n",
    "        return df\n",
    "    else:\n",
    "        pass"
   ]
  },
  {
   "cell_type": "markdown",
   "id": "dff3bb78",
   "metadata": {},
   "source": [
    "### 3.2 Combining the all Format-1 datasets in a single file"
   ]
  },
  {
   "cell_type": "code",
   "execution_count": 241,
   "id": "9b3b954e",
   "metadata": {},
   "outputs": [],
   "source": [
    "file_names=fetch_file_names(file_path_1)\n",
    "df=merge_dataset(file_path_1,file_names)"
   ]
  },
  {
   "cell_type": "code",
   "execution_count": 242,
   "id": "315b33f3",
   "metadata": {},
   "outputs": [
    {
     "data": {
      "text/html": [
       "<div>\n",
       "<style scoped>\n",
       "    .dataframe tbody tr th:only-of-type {\n",
       "        vertical-align: middle;\n",
       "    }\n",
       "\n",
       "    .dataframe tbody tr th {\n",
       "        vertical-align: top;\n",
       "    }\n",
       "\n",
       "    .dataframe thead th {\n",
       "        text-align: right;\n",
       "    }\n",
       "</style>\n",
       "<table border=\"1\" class=\"dataframe\">\n",
       "  <thead>\n",
       "    <tr style=\"text-align: right;\">\n",
       "      <th></th>\n",
       "      <th>0</th>\n",
       "      <th>1</th>\n",
       "      <th>2</th>\n",
       "      <th>3</th>\n",
       "      <th>4</th>\n",
       "      <th>5</th>\n",
       "      <th>6</th>\n",
       "      <th>7</th>\n",
       "      <th>8</th>\n",
       "      <th>9</th>\n",
       "      <th>10</th>\n",
       "      <th>11</th>\n",
       "      <th>12</th>\n",
       "      <th>13</th>\n",
       "      <th>14</th>\n",
       "      <th>15</th>\n",
       "      <th>16</th>\n",
       "      <th>17</th>\n",
       "      <th>18</th>\n",
       "      <th>19</th>\n",
       "      <th>20</th>\n",
       "      <th>21</th>\n",
       "      <th>22</th>\n",
       "      <th>23</th>\n",
       "      <th>24</th>\n",
       "      <th>25</th>\n",
       "      <th>26</th>\n",
       "      <th>27</th>\n",
       "      <th>28</th>\n",
       "      <th>29</th>\n",
       "    </tr>\n",
       "  </thead>\n",
       "  <tbody>\n",
       "    <tr>\n",
       "      <th>0</th>\n",
       "      <td>35</td>\n",
       "      <td>F</td>\n",
       "      <td>f</td>\n",
       "      <td>f</td>\n",
       "      <td>f</td>\n",
       "      <td>f</td>\n",
       "      <td>f</td>\n",
       "      <td>f</td>\n",
       "      <td>f</td>\n",
       "      <td>f</td>\n",
       "      <td>f</td>\n",
       "      <td>f</td>\n",
       "      <td>f</td>\n",
       "      <td>f</td>\n",
       "      <td>f</td>\n",
       "      <td>f</td>\n",
       "      <td>f</td>\n",
       "      <td>?</td>\n",
       "      <td>f</td>\n",
       "      <td>?</td>\n",
       "      <td>f</td>\n",
       "      <td>?</td>\n",
       "      <td>f</td>\n",
       "      <td>?</td>\n",
       "      <td>f</td>\n",
       "      <td>?</td>\n",
       "      <td>f</td>\n",
       "      <td>?</td>\n",
       "      <td>other</td>\n",
       "      <td>negative.|219</td>\n",
       "    </tr>\n",
       "    <tr>\n",
       "      <th>1</th>\n",
       "      <td>63</td>\n",
       "      <td>M</td>\n",
       "      <td>f</td>\n",
       "      <td>f</td>\n",
       "      <td>f</td>\n",
       "      <td>f</td>\n",
       "      <td>f</td>\n",
       "      <td>f</td>\n",
       "      <td>f</td>\n",
       "      <td>f</td>\n",
       "      <td>f</td>\n",
       "      <td>f</td>\n",
       "      <td>f</td>\n",
       "      <td>f</td>\n",
       "      <td>f</td>\n",
       "      <td>f</td>\n",
       "      <td>t</td>\n",
       "      <td>3.5</td>\n",
       "      <td>t</td>\n",
       "      <td>2.5</td>\n",
       "      <td>t</td>\n",
       "      <td>108</td>\n",
       "      <td>t</td>\n",
       "      <td>0.96</td>\n",
       "      <td>t</td>\n",
       "      <td>113</td>\n",
       "      <td>f</td>\n",
       "      <td>?</td>\n",
       "      <td>SVI</td>\n",
       "      <td>negative.|2059</td>\n",
       "    </tr>\n",
       "    <tr>\n",
       "      <th>2</th>\n",
       "      <td>25</td>\n",
       "      <td>F</td>\n",
       "      <td>f</td>\n",
       "      <td>f</td>\n",
       "      <td>f</td>\n",
       "      <td>f</td>\n",
       "      <td>f</td>\n",
       "      <td>f</td>\n",
       "      <td>f</td>\n",
       "      <td>f</td>\n",
       "      <td>f</td>\n",
       "      <td>f</td>\n",
       "      <td>f</td>\n",
       "      <td>f</td>\n",
       "      <td>f</td>\n",
       "      <td>f</td>\n",
       "      <td>t</td>\n",
       "      <td>4.6</td>\n",
       "      <td>t</td>\n",
       "      <td>2.4</td>\n",
       "      <td>t</td>\n",
       "      <td>61</td>\n",
       "      <td>t</td>\n",
       "      <td>0.82</td>\n",
       "      <td>t</td>\n",
       "      <td>75</td>\n",
       "      <td>f</td>\n",
       "      <td>?</td>\n",
       "      <td>SVHD</td>\n",
       "      <td>negative.|399</td>\n",
       "    </tr>\n",
       "    <tr>\n",
       "      <th>3</th>\n",
       "      <td>53</td>\n",
       "      <td>F</td>\n",
       "      <td>f</td>\n",
       "      <td>f</td>\n",
       "      <td>f</td>\n",
       "      <td>f</td>\n",
       "      <td>f</td>\n",
       "      <td>f</td>\n",
       "      <td>f</td>\n",
       "      <td>t</td>\n",
       "      <td>f</td>\n",
       "      <td>f</td>\n",
       "      <td>f</td>\n",
       "      <td>f</td>\n",
       "      <td>f</td>\n",
       "      <td>f</td>\n",
       "      <td>t</td>\n",
       "      <td>0.25</td>\n",
       "      <td>t</td>\n",
       "      <td>2.1</td>\n",
       "      <td>t</td>\n",
       "      <td>145</td>\n",
       "      <td>t</td>\n",
       "      <td>1.03</td>\n",
       "      <td>t</td>\n",
       "      <td>141</td>\n",
       "      <td>f</td>\n",
       "      <td>?</td>\n",
       "      <td>other</td>\n",
       "      <td>negative.|1911</td>\n",
       "    </tr>\n",
       "    <tr>\n",
       "      <th>4</th>\n",
       "      <td>92</td>\n",
       "      <td>F</td>\n",
       "      <td>f</td>\n",
       "      <td>f</td>\n",
       "      <td>f</td>\n",
       "      <td>f</td>\n",
       "      <td>f</td>\n",
       "      <td>f</td>\n",
       "      <td>f</td>\n",
       "      <td>f</td>\n",
       "      <td>f</td>\n",
       "      <td>f</td>\n",
       "      <td>f</td>\n",
       "      <td>f</td>\n",
       "      <td>f</td>\n",
       "      <td>f</td>\n",
       "      <td>t</td>\n",
       "      <td>0.7</td>\n",
       "      <td>t</td>\n",
       "      <td>1.3</td>\n",
       "      <td>t</td>\n",
       "      <td>120</td>\n",
       "      <td>t</td>\n",
       "      <td>0.84</td>\n",
       "      <td>t</td>\n",
       "      <td>143</td>\n",
       "      <td>f</td>\n",
       "      <td>?</td>\n",
       "      <td>SVI</td>\n",
       "      <td>negative.|487</td>\n",
       "    </tr>\n",
       "  </tbody>\n",
       "</table>\n",
       "</div>"
      ],
      "text/plain": [
       "   0  1  2  3  4  5  6  7  8  9  10 11 12 13 14 15 16    17 18   19 20   21  \\\n",
       "0  35  F  f  f  f  f  f  f  f  f  f  f  f  f  f  f  f     ?  f    ?  f    ?   \n",
       "1  63  M  f  f  f  f  f  f  f  f  f  f  f  f  f  f  t   3.5  t  2.5  t  108   \n",
       "2  25  F  f  f  f  f  f  f  f  f  f  f  f  f  f  f  t   4.6  t  2.4  t   61   \n",
       "3  53  F  f  f  f  f  f  f  f  t  f  f  f  f  f  f  t  0.25  t  2.1  t  145   \n",
       "4  92  F  f  f  f  f  f  f  f  f  f  f  f  f  f  f  t   0.7  t  1.3  t  120   \n",
       "\n",
       "  22    23 24   25 26 27     28              29  \n",
       "0  f     ?  f    ?  f  ?  other   negative.|219  \n",
       "1  t  0.96  t  113  f  ?    SVI  negative.|2059  \n",
       "2  t  0.82  t   75  f  ?   SVHD   negative.|399  \n",
       "3  t  1.03  t  141  f  ?  other  negative.|1911  \n",
       "4  t  0.84  t  143  f  ?    SVI   negative.|487  "
      ]
     },
     "execution_count": 242,
     "metadata": {},
     "output_type": "execute_result"
    }
   ],
   "source": [
    "df.head()"
   ]
  },
  {
   "cell_type": "markdown",
   "id": "e239a0de",
   "metadata": {},
   "source": [
    "- Format-1 data has 5832 instances and 30 attributes"
   ]
  },
  {
   "cell_type": "markdown",
   "id": "159ca968",
   "metadata": {},
   "source": [
    "#### 3.2.1 Fetching Feature names of dataset"
   ]
  },
  {
   "cell_type": "markdown",
   "id": "ff56a786",
   "metadata": {},
   "source": [
    "- Below function will fetch the features names from the given source path"
   ]
  },
  {
   "cell_type": "code",
   "execution_count": 243,
   "id": "1f4acd2e",
   "metadata": {},
   "outputs": [],
   "source": [
    "def fetch_feature_names(src_path):\n",
    "    with open(src_path) as file:\n",
    "        itr_line=file.readlines()\n",
    "        features_begining_point=itr_line.index('age:\\t\\t\\t\\tcontinuous.\\n')\n",
    "        itr_line=itr_line[features_begining_point:len(itr_line)]\n",
    "\n",
    "        features_list=[]\n",
    "        for features in itr_line:\n",
    "            sep_point=features.find(\":\")\n",
    "            features_list.append(features[:sep_point])\n",
    "    return features_list"
   ]
  },
  {
   "cell_type": "code",
   "execution_count": 244,
   "id": "385b4185",
   "metadata": {},
   "outputs": [],
   "source": [
    "feature_list=fetch_feature_names(f\"{file_path_1}/allhyper.names\")"
   ]
  },
  {
   "cell_type": "markdown",
   "id": "f6ff2125",
   "metadata": {},
   "source": [
    "#### df dataset has 30 columns where we have only 29 feature names in features name list\n",
    "- Appending the disease feature to list for 30th column"
   ]
  },
  {
   "cell_type": "code",
   "execution_count": 245,
   "id": "fbb99ad4",
   "metadata": {},
   "outputs": [],
   "source": [
    "feature_list.append('disease')"
   ]
  },
  {
   "cell_type": "markdown",
   "id": "0a8db2f9",
   "metadata": {},
   "source": [
    "- Assigning features names to the header of dataset"
   ]
  },
  {
   "cell_type": "code",
   "execution_count": 246,
   "id": "d0f8024b",
   "metadata": {},
   "outputs": [],
   "source": [
    "df.columns=feature_list"
   ]
  },
  {
   "cell_type": "code",
   "execution_count": 247,
   "id": "0918811f",
   "metadata": {},
   "outputs": [
    {
     "data": {
      "text/html": [
       "<div>\n",
       "<style scoped>\n",
       "    .dataframe tbody tr th:only-of-type {\n",
       "        vertical-align: middle;\n",
       "    }\n",
       "\n",
       "    .dataframe tbody tr th {\n",
       "        vertical-align: top;\n",
       "    }\n",
       "\n",
       "    .dataframe thead th {\n",
       "        text-align: right;\n",
       "    }\n",
       "</style>\n",
       "<table border=\"1\" class=\"dataframe\">\n",
       "  <thead>\n",
       "    <tr style=\"text-align: right;\">\n",
       "      <th></th>\n",
       "      <th>age</th>\n",
       "      <th>sex</th>\n",
       "      <th>on thyroxine</th>\n",
       "      <th>query on thyroxine</th>\n",
       "      <th>on antithyroid medication</th>\n",
       "      <th>sick</th>\n",
       "      <th>pregnant</th>\n",
       "      <th>thyroid surgery</th>\n",
       "      <th>I131 treatment</th>\n",
       "      <th>query hypothyroid</th>\n",
       "      <th>query hyperthyroid</th>\n",
       "      <th>lithium</th>\n",
       "      <th>goitre</th>\n",
       "      <th>tumor</th>\n",
       "      <th>hypopituitary</th>\n",
       "      <th>psych</th>\n",
       "      <th>TSH measured</th>\n",
       "      <th>TSH</th>\n",
       "      <th>T3 measured</th>\n",
       "      <th>T3</th>\n",
       "      <th>TT4 measured</th>\n",
       "      <th>TT4</th>\n",
       "      <th>T4U measured</th>\n",
       "      <th>T4U</th>\n",
       "      <th>FTI measured</th>\n",
       "      <th>FTI</th>\n",
       "      <th>TBG measured</th>\n",
       "      <th>TBG</th>\n",
       "      <th>referral source</th>\n",
       "      <th>disease</th>\n",
       "    </tr>\n",
       "  </thead>\n",
       "  <tbody>\n",
       "    <tr>\n",
       "      <th>0</th>\n",
       "      <td>35</td>\n",
       "      <td>F</td>\n",
       "      <td>f</td>\n",
       "      <td>f</td>\n",
       "      <td>f</td>\n",
       "      <td>f</td>\n",
       "      <td>f</td>\n",
       "      <td>f</td>\n",
       "      <td>f</td>\n",
       "      <td>f</td>\n",
       "      <td>f</td>\n",
       "      <td>f</td>\n",
       "      <td>f</td>\n",
       "      <td>f</td>\n",
       "      <td>f</td>\n",
       "      <td>f</td>\n",
       "      <td>f</td>\n",
       "      <td>?</td>\n",
       "      <td>f</td>\n",
       "      <td>?</td>\n",
       "      <td>f</td>\n",
       "      <td>?</td>\n",
       "      <td>f</td>\n",
       "      <td>?</td>\n",
       "      <td>f</td>\n",
       "      <td>?</td>\n",
       "      <td>f</td>\n",
       "      <td>?</td>\n",
       "      <td>other</td>\n",
       "      <td>negative.|219</td>\n",
       "    </tr>\n",
       "    <tr>\n",
       "      <th>1</th>\n",
       "      <td>63</td>\n",
       "      <td>M</td>\n",
       "      <td>f</td>\n",
       "      <td>f</td>\n",
       "      <td>f</td>\n",
       "      <td>f</td>\n",
       "      <td>f</td>\n",
       "      <td>f</td>\n",
       "      <td>f</td>\n",
       "      <td>f</td>\n",
       "      <td>f</td>\n",
       "      <td>f</td>\n",
       "      <td>f</td>\n",
       "      <td>f</td>\n",
       "      <td>f</td>\n",
       "      <td>f</td>\n",
       "      <td>t</td>\n",
       "      <td>3.5</td>\n",
       "      <td>t</td>\n",
       "      <td>2.5</td>\n",
       "      <td>t</td>\n",
       "      <td>108</td>\n",
       "      <td>t</td>\n",
       "      <td>0.96</td>\n",
       "      <td>t</td>\n",
       "      <td>113</td>\n",
       "      <td>f</td>\n",
       "      <td>?</td>\n",
       "      <td>SVI</td>\n",
       "      <td>negative.|2059</td>\n",
       "    </tr>\n",
       "    <tr>\n",
       "      <th>2</th>\n",
       "      <td>25</td>\n",
       "      <td>F</td>\n",
       "      <td>f</td>\n",
       "      <td>f</td>\n",
       "      <td>f</td>\n",
       "      <td>f</td>\n",
       "      <td>f</td>\n",
       "      <td>f</td>\n",
       "      <td>f</td>\n",
       "      <td>f</td>\n",
       "      <td>f</td>\n",
       "      <td>f</td>\n",
       "      <td>f</td>\n",
       "      <td>f</td>\n",
       "      <td>f</td>\n",
       "      <td>f</td>\n",
       "      <td>t</td>\n",
       "      <td>4.6</td>\n",
       "      <td>t</td>\n",
       "      <td>2.4</td>\n",
       "      <td>t</td>\n",
       "      <td>61</td>\n",
       "      <td>t</td>\n",
       "      <td>0.82</td>\n",
       "      <td>t</td>\n",
       "      <td>75</td>\n",
       "      <td>f</td>\n",
       "      <td>?</td>\n",
       "      <td>SVHD</td>\n",
       "      <td>negative.|399</td>\n",
       "    </tr>\n",
       "    <tr>\n",
       "      <th>3</th>\n",
       "      <td>53</td>\n",
       "      <td>F</td>\n",
       "      <td>f</td>\n",
       "      <td>f</td>\n",
       "      <td>f</td>\n",
       "      <td>f</td>\n",
       "      <td>f</td>\n",
       "      <td>f</td>\n",
       "      <td>f</td>\n",
       "      <td>t</td>\n",
       "      <td>f</td>\n",
       "      <td>f</td>\n",
       "      <td>f</td>\n",
       "      <td>f</td>\n",
       "      <td>f</td>\n",
       "      <td>f</td>\n",
       "      <td>t</td>\n",
       "      <td>0.25</td>\n",
       "      <td>t</td>\n",
       "      <td>2.1</td>\n",
       "      <td>t</td>\n",
       "      <td>145</td>\n",
       "      <td>t</td>\n",
       "      <td>1.03</td>\n",
       "      <td>t</td>\n",
       "      <td>141</td>\n",
       "      <td>f</td>\n",
       "      <td>?</td>\n",
       "      <td>other</td>\n",
       "      <td>negative.|1911</td>\n",
       "    </tr>\n",
       "    <tr>\n",
       "      <th>4</th>\n",
       "      <td>92</td>\n",
       "      <td>F</td>\n",
       "      <td>f</td>\n",
       "      <td>f</td>\n",
       "      <td>f</td>\n",
       "      <td>f</td>\n",
       "      <td>f</td>\n",
       "      <td>f</td>\n",
       "      <td>f</td>\n",
       "      <td>f</td>\n",
       "      <td>f</td>\n",
       "      <td>f</td>\n",
       "      <td>f</td>\n",
       "      <td>f</td>\n",
       "      <td>f</td>\n",
       "      <td>f</td>\n",
       "      <td>t</td>\n",
       "      <td>0.7</td>\n",
       "      <td>t</td>\n",
       "      <td>1.3</td>\n",
       "      <td>t</td>\n",
       "      <td>120</td>\n",
       "      <td>t</td>\n",
       "      <td>0.84</td>\n",
       "      <td>t</td>\n",
       "      <td>143</td>\n",
       "      <td>f</td>\n",
       "      <td>?</td>\n",
       "      <td>SVI</td>\n",
       "      <td>negative.|487</td>\n",
       "    </tr>\n",
       "  </tbody>\n",
       "</table>\n",
       "</div>"
      ],
      "text/plain": [
       "   age sex on thyroxine query on thyroxine on antithyroid medication sick  \\\n",
       "0   35   F            f                  f                         f    f   \n",
       "1   63   M            f                  f                         f    f   \n",
       "2   25   F            f                  f                         f    f   \n",
       "3   53   F            f                  f                         f    f   \n",
       "4   92   F            f                  f                         f    f   \n",
       "\n",
       "  pregnant thyroid surgery I131 treatment query hypothyroid  \\\n",
       "0        f               f              f                 f   \n",
       "1        f               f              f                 f   \n",
       "2        f               f              f                 f   \n",
       "3        f               f              f                 t   \n",
       "4        f               f              f                 f   \n",
       "\n",
       "  query hyperthyroid lithium goitre tumor hypopituitary psych TSH measured  \\\n",
       "0                  f       f      f     f             f     f            f   \n",
       "1                  f       f      f     f             f     f            t   \n",
       "2                  f       f      f     f             f     f            t   \n",
       "3                  f       f      f     f             f     f            t   \n",
       "4                  f       f      f     f             f     f            t   \n",
       "\n",
       "    TSH T3 measured   T3 TT4 measured  TT4 T4U measured   T4U FTI measured  \\\n",
       "0     ?           f    ?            f    ?            f     ?            f   \n",
       "1   3.5           t  2.5            t  108            t  0.96            t   \n",
       "2   4.6           t  2.4            t   61            t  0.82            t   \n",
       "3  0.25           t  2.1            t  145            t  1.03            t   \n",
       "4   0.7           t  1.3            t  120            t  0.84            t   \n",
       "\n",
       "   FTI TBG measured TBG referral source         disease  \n",
       "0    ?            f   ?           other   negative.|219  \n",
       "1  113            f   ?             SVI  negative.|2059  \n",
       "2   75            f   ?            SVHD   negative.|399  \n",
       "3  141            f   ?           other  negative.|1911  \n",
       "4  143            f   ?             SVI   negative.|487  "
      ]
     },
     "execution_count": 247,
     "metadata": {},
     "output_type": "execute_result"
    }
   ],
   "source": [
    "df.head()"
   ]
  },
  {
   "cell_type": "markdown",
   "id": "37a05f0a",
   "metadata": {},
   "source": [
    "### 3.3 Combining all Format-2 datasets in a single file"
   ]
  },
  {
   "cell_type": "code",
   "execution_count": 248,
   "id": "a0d52d29",
   "metadata": {},
   "outputs": [],
   "source": [
    "file_names=fetch_file_names(file_path_2)\n",
    "df2=merge_dataset(file_path_2,file_names)"
   ]
  },
  {
   "cell_type": "code",
   "execution_count": 249,
   "id": "926d818a",
   "metadata": {},
   "outputs": [],
   "source": [
    "df2"
   ]
  },
  {
   "cell_type": "markdown",
   "id": "cdc09b8c",
   "metadata": {},
   "source": [
    "- Since no data from format-2 dataset. So our final dataset is format-1 dataset"
   ]
  },
  {
   "cell_type": "code",
   "execution_count": 250,
   "id": "79390a80",
   "metadata": {},
   "outputs": [],
   "source": [
    "final_dataset= df"
   ]
  },
  {
   "cell_type": "markdown",
   "id": "d37ce52c",
   "metadata": {},
   "source": [
    "#### Replacing whitespace with underscore in feature names of Format-1 dataset"
   ]
  },
  {
   "cell_type": "code",
   "execution_count": 251,
   "id": "b375445b",
   "metadata": {},
   "outputs": [],
   "source": [
    "df.columns=[features.replace(\" \",\"_\") for features in df.columns]"
   ]
  },
  {
   "cell_type": "markdown",
   "id": "3a8f49f1",
   "metadata": {},
   "source": [
    "###  Shape of dataset"
   ]
  },
  {
   "cell_type": "code",
   "execution_count": 252,
   "id": "aad912cd",
   "metadata": {},
   "outputs": [
    {
     "data": {
      "text/plain": [
       "(1944, 30)"
      ]
     },
     "execution_count": 252,
     "metadata": {},
     "output_type": "execute_result"
    }
   ],
   "source": [
    "final_dataset.shape"
   ]
  },
  {
   "cell_type": "markdown",
   "id": "d91e3380",
   "metadata": {},
   "source": [
    "### Dataset information"
   ]
  },
  {
   "cell_type": "code",
   "execution_count": 253,
   "id": "8920631c",
   "metadata": {
    "scrolled": true
   },
   "outputs": [
    {
     "name": "stdout",
     "output_type": "stream",
     "text": [
      "age:[35 63 25 53 92 67 60 48 27 73 19 72 16 54 39 38 33 45 21 51 64 40 71 49\n",
      " 79 20 59 37 42 46 50 69 30 31 89 77 68 65 24 75 80 23 11 18 62 76 22 70\n",
      " 47 56 26 28 83 74 78 58 61 55 41 85 86 32 43 17 57 66 34 14 52 93 36 81\n",
      " 84 15 12 44 29 82 87 88  7]\n",
      "sex:['F' 'M' '?']\n",
      "on_thyroxine:['f' 't']\n",
      "query_on_thyroxine:['f' 't']\n",
      "on_antithyroid_medication:['f' 't']\n",
      "sick:['f' 't']\n",
      "pregnant:['f' 't']\n",
      "thyroid_surgery:['f' 't']\n",
      "I131_treatment:['f' 't']\n",
      "query_hypothyroid:['f' 't']\n",
      "query_hyperthyroid:['f' 't']\n",
      "lithium:['f' 't']\n",
      "goitre:['f' 't']\n",
      "tumor:['f' 't']\n",
      "hypopituitary:['f']\n",
      "psych:['f' 't']\n",
      "TSH_measured:['f' 't']\n",
      "TSH:['?' '3.5' '4.6' '0.25' '0.7' '0.81' '1.2' '27' '2.8' '2.6' '4.4' '3.1'\n",
      " '1.1' '4.5' '0.14' '0.06' '7.4' '2.3' '2' '5.8' '0.78' '4' '1' '0.52'\n",
      " '0.4' '0.3' '0.1' '1.9' '17' '1.3' '0.2' '0.005' '0.015' '12' '1.5' '2.9'\n",
      " '0.05' '0.42' '1.4' '5' '0.5' '0.9' '2.1' '0.15' '1.8' '7.6' '1.6' '0.79'\n",
      " '3.7' '0.77' '0.64' '2.7' '0.98' '0.025' '0.93' '0.58' '0.34' '3.4'\n",
      " '0.86' '0.47' '1.7' '0.95' '34' '14.4' '4.8' '0.82' '28' '0.44' '2.4'\n",
      " '3.2' '58' '0.74' '0.01' '0.67' '21' '0.8' '0.02' '165' '4.2' '8.9' '7'\n",
      " '4.7' '5.4' '0.45' '3' '0.03' '0.83' '0.84' '4.9' '0.63' '3.3' '2.5'\n",
      " '9.2' '24' '31' '9.6' '22' '0.07' '2.2' '0.43' '0.37' '9.5' '0.6' '0.94'\n",
      " '80' '0.055' '0.65' '5.9' '0.045' '0.56' '0.04' '160' '0.39' '0.66'\n",
      " '0.21' '0.53' '0.57' '145' '25' '3.9' '30.5' '0.99' '20' '0.035' '19'\n",
      " '0.59' '5.1' '7.9' '0.51' '7.8' '0.61' '0.28' '3.6' '4.1' '0.32' '0.46'\n",
      " '0.97' '0.36' '6.3' '47' '0.68' '5.7' '3.8' '6.2' '6.7' '0.85' '0.33'\n",
      " '0.18' '0.26' '18' '0.71' '0.89' '0.96' '0.69' '50' '6.5' '0.75' '236'\n",
      " '52' '14' '23' '10' '440' '0.91' '6' '139' '0.73' '8' '0.76' '530' '0.19'\n",
      " '7.5' '0.55' '5.3' '0.35' '16' '26' '0.12' '109' '30' '0.08' '70' '4.3'\n",
      " '0.24' '0.31' '6.8' '0.41' '13' '8.2' '6.6' '400' '1.02' '230' '0.09'\n",
      " '5.73' '66' '15' '8.1' '65' '117' '55' '40' '8.5' '8.8']\n",
      "T3_measured:['f' 't']\n",
      "T3:['?' '2.5' '2.4' '2.1' '1.3' '2.6' '1.8' '2.2' '1.2' '2.8' '3.4' '1.4'\n",
      " '1.7' '2.3' '1.1' '1.6' '3.7' '3' '1.5' '1.9' '2.7' '0.8' '4.2' '2' '1'\n",
      " '4.1' '3.2' '2.9' '0.4' '0.7' '3.8' '0.6' '0.9' '4' '8.5' '0.3' '3.1'\n",
      " '1.44' '4.4' '3.3' '7.6' '3.6' '4.3' '3.9' '5.7' '3.5' '4.5' '0.2' '5.4'\n",
      " '0.5' '5.1' '6.6' '7.1' '4.7' '5.3']\n",
      "TT4_measured:['f' 't']\n",
      "TT4:['?' '108' '61' '145' '120' '84' '117' '65' '112' '94' '95' '131' '105'\n",
      " '148' '81' '132' '82' '92' '133' '261' '106' '90' '111' '96' '103' '66'\n",
      " '162' '87' '135' '151' '89' '140' '125' '68' '178' '114' '98' '76' '188'\n",
      " '122' '141' '88' '99' '119' '93' '164' '210' '123' '160' '110' '100' '83'\n",
      " '107' '158' '183' '118' '163' '104' '102' '69' '137' '161' '73' '85'\n",
      " '248' '152' '155' '78' '139' '129' '74' '51' '113' '97' '72' '86' '109'\n",
      " '75' '77' '25' '121' '124' '171' '53' '46' '67' '203' '17' '71' '79'\n",
      " '147' '115' '138' '157' '150' '146' '220' '197' '134' '256' '136' '116'\n",
      " '91' '149' '41' '209' '244' '126' '45' '179' '9.5' '127' '52' '19' '31'\n",
      " '175' '101' '130' '159' '212' '273' '57' '32' '222' '168' '142' '191'\n",
      " '186' '10' '153' '44' '70' '49' '80' '372' '180' '128' '166' '214' '144'\n",
      " '143' '64' '154' '60' '16' '156' '56' '28' '184' '33' '187' '24' '36'\n",
      " '165' '50' '4' '35' '3' '62' '30' '59' '63' '2.9' '174' '223' '172' '54'\n",
      " '55' '11' '216' '181' '15' '38' '258']\n",
      "T4U_measured:['f' 't']\n",
      "T4U:['?' '0.96' '0.82' '1.03' '0.84' '0.83' '1.31' '0.99' '0.92' '0.89' '1.11'\n",
      " '0.95' '0.5' '1.07' '1.23' '1.08' '0.87' '0.88' '1.16' '2.32' '1.02'\n",
      " '0.69' '0.91' '1' '1.47' '1.29' '0.74' '1.01' '0.62' '1.26' '1.06' '1.1'\n",
      " '0.8' '0.9' '0.98' '0.97' '1.09' '1.05' '1.12' '0.86' '1.55' '0.93'\n",
      " '1.63' '0.94' '0.65' '0.79' '1.5' '1.4' '1.14' '0.71' '0.77' '0.68'\n",
      " '1.27' '0.6' '0.67' '1.21' '1.36' '1.17' '1.2' '0.76' '1.19' '1.18'\n",
      " '0.75' '0.78' '1.15' '0.85' '1.04' '0.72' '1.71' '1.25' '1.68' '0.81'\n",
      " '1.65' '1.52' '1.13' '0.46' '0.73' '1.22' '0.63' '1.24' '1.82' '1.57'\n",
      " '0.64' '1.41' '1.7' '0.48' '0.7' '0.54' '1.49' '1.42' '1.62' '1.75'\n",
      " '1.53' '1.45' '1.51' '1.32' '1.54' '1.48' '0.47' '0.59' '1.35' '1.83'\n",
      " '1.38' '1.3' '1.34' '0.36' '1.43' '2.01' '1.28' '0.25']\n",
      "FTI_measured:['f' 't']\n",
      "FTI:['?' '113' '75' '141' '143' '101' '90' '66' '121' '106' '85' '138' '265'\n",
      " '118' '100' '94' '152' '92' '111' '115' '78' '109' '140' '114' '88' '65'\n",
      " '110' '105' '203' '160' '124' '142' '117' '104' '150' '108' '86' '194'\n",
      " '130' '103' '199' '147' '125' '76' '97' '120' '178' '99' '148' '95' '93'\n",
      " '126' '153' '82' '131' '135' '165' '154' '119' '87' '196' '168' '107'\n",
      " '132' '80' '162' '20' '145' '89' '174' '61' '200' '14' '77' '79' '84'\n",
      " '122' '129' '98' '198' '166' '128' '136' '46' '213' '81' '283' '149' '96'\n",
      " '179' '112' '36' '197' '249' '69' '137' '139' '102' '72' '83' '17' '123'\n",
      " '134' '63' '181' '222' '151' '51' '71' '183' '133' '156' '172' '116'\n",
      " '170' '91' '56' '155' '171' '127' '144' '8.4' '52' '157' '146' '58' '291'\n",
      " '55' '68' '73' '245' '161' '49' '204' '67' '70' '164' '33' '214' '205'\n",
      " '188' '18' '40' '8.5' '184' '74' '50' '60' '4' '3' '21' '280' '2.8' '9.1'\n",
      " '209' '27' '59' '28' '159' '15' '35' '227']\n",
      "TBG_measured:['f']\n",
      "TBG:['?']\n",
      "referral_source:['other' 'SVI' 'SVHD' 'SVHC' 'STMW']\n",
      "disease:['negative.|219' 'negative.|2059' 'negative.|399' ...\n",
      " 'compensated hypothyroid.|828' 'negative.|523'\n",
      " 'compensated hypothyroid.|1593']\n"
     ]
    }
   ],
   "source": [
    "for features in final_dataset.columns:\n",
    "    print(f\"{features}:{final_dataset[features].unique()}\")"
   ]
  },
  {
   "cell_type": "markdown",
   "id": "d8f0bacf",
   "metadata": {},
   "source": [
    "### 3.8 Dataset Information\n",
    "\n",
    "- age: continuous values\n",
    "- sex:['F' 'M' '?']\n",
    "- on_thyroxine:['f' 't']\n",
    "- query_on_thyroxine:['f' 't']\n",
    "- on_antithyroid_medication:['f' 't']\n",
    "- sick:['f' 't']\n",
    "- pregnant:['f' 't']\n",
    "- thyroid_surgery:['f' 't']\n",
    "- I131_treatment:['f' 't' nan]\n",
    "- query_hypothyroid:['f' 't']\n",
    "- query_hyperthyroid:['f' 't']\n",
    "- lithium:['f' 't']\n",
    "- goitre:['f' 't']\n",
    "- tumor:['f' 't']\n",
    "- hypopituitary:['f' 't' nan]\n",
    "- psych:['f' 't' nan]\n",
    "- TSH_measured:['t' 'f']\n",
    "- TSH: continuous values\n",
    "- T3_measured:['t' 'f']\n",
    "- T3: continuous values\n",
    "- TT4_measured:['t' 'f']\n",
    "- TT4: continuous values\n",
    "- T4U_measured:['t' 'f']\n",
    "- T4U: continuous values\n",
    "- FTI_measured:['t' 'f']\n",
    "- FTI: continuous values\n",
    "- TBG_measured:['f' 't']\n",
    "- TBG: continuous values\n",
    "- referral_source:['SVHC' 'other' 'SVI' 'STMW' 'SVHD' 'WEST' nan]\n",
    "- disease: multiclass categorical values"
   ]
  },
  {
   "cell_type": "markdown",
   "id": "054a8bac",
   "metadata": {},
   "source": [
    "## 4) Fixing the dataset\n",
    "\n",
    "- Due to presence of all features in object datatype some datachecks becomes difficult to implement. So fixing of dataset is required"
   ]
  },
  {
   "cell_type": "markdown",
   "id": "a5400b52",
   "metadata": {},
   "source": [
    "### 4.1 Replacing ? with Nan in features of dataset"
   ]
  },
  {
   "cell_type": "code",
   "execution_count": 254,
   "id": "a1907037",
   "metadata": {},
   "outputs": [],
   "source": [
    "for features in final_dataset.columns:\n",
    "    final_dataset[features]=np.where(final_dataset[features]==\"?\",np.nan,final_dataset[features])"
   ]
  },
  {
   "cell_type": "markdown",
   "id": "c42c8f99",
   "metadata": {},
   "source": [
    "#### Checking first 5 values of dataset"
   ]
  },
  {
   "cell_type": "code",
   "execution_count": 255,
   "id": "72fd46da",
   "metadata": {},
   "outputs": [
    {
     "data": {
      "text/html": [
       "<div>\n",
       "<style scoped>\n",
       "    .dataframe tbody tr th:only-of-type {\n",
       "        vertical-align: middle;\n",
       "    }\n",
       "\n",
       "    .dataframe tbody tr th {\n",
       "        vertical-align: top;\n",
       "    }\n",
       "\n",
       "    .dataframe thead th {\n",
       "        text-align: right;\n",
       "    }\n",
       "</style>\n",
       "<table border=\"1\" class=\"dataframe\">\n",
       "  <thead>\n",
       "    <tr style=\"text-align: right;\">\n",
       "      <th></th>\n",
       "      <th>age</th>\n",
       "      <th>sex</th>\n",
       "      <th>on_thyroxine</th>\n",
       "      <th>query_on_thyroxine</th>\n",
       "      <th>on_antithyroid_medication</th>\n",
       "      <th>sick</th>\n",
       "      <th>pregnant</th>\n",
       "      <th>thyroid_surgery</th>\n",
       "      <th>I131_treatment</th>\n",
       "      <th>query_hypothyroid</th>\n",
       "      <th>query_hyperthyroid</th>\n",
       "      <th>lithium</th>\n",
       "      <th>goitre</th>\n",
       "      <th>tumor</th>\n",
       "      <th>hypopituitary</th>\n",
       "      <th>psych</th>\n",
       "      <th>TSH_measured</th>\n",
       "      <th>TSH</th>\n",
       "      <th>T3_measured</th>\n",
       "      <th>T3</th>\n",
       "      <th>TT4_measured</th>\n",
       "      <th>TT4</th>\n",
       "      <th>T4U_measured</th>\n",
       "      <th>T4U</th>\n",
       "      <th>FTI_measured</th>\n",
       "      <th>FTI</th>\n",
       "      <th>TBG_measured</th>\n",
       "      <th>TBG</th>\n",
       "      <th>referral_source</th>\n",
       "      <th>disease</th>\n",
       "    </tr>\n",
       "  </thead>\n",
       "  <tbody>\n",
       "    <tr>\n",
       "      <th>0</th>\n",
       "      <td>35.0</td>\n",
       "      <td>F</td>\n",
       "      <td>f</td>\n",
       "      <td>f</td>\n",
       "      <td>f</td>\n",
       "      <td>f</td>\n",
       "      <td>f</td>\n",
       "      <td>f</td>\n",
       "      <td>f</td>\n",
       "      <td>f</td>\n",
       "      <td>f</td>\n",
       "      <td>f</td>\n",
       "      <td>f</td>\n",
       "      <td>f</td>\n",
       "      <td>f</td>\n",
       "      <td>f</td>\n",
       "      <td>f</td>\n",
       "      <td>NaN</td>\n",
       "      <td>f</td>\n",
       "      <td>NaN</td>\n",
       "      <td>f</td>\n",
       "      <td>NaN</td>\n",
       "      <td>f</td>\n",
       "      <td>NaN</td>\n",
       "      <td>f</td>\n",
       "      <td>NaN</td>\n",
       "      <td>f</td>\n",
       "      <td>NaN</td>\n",
       "      <td>other</td>\n",
       "      <td>negative.|219</td>\n",
       "    </tr>\n",
       "    <tr>\n",
       "      <th>1</th>\n",
       "      <td>63.0</td>\n",
       "      <td>M</td>\n",
       "      <td>f</td>\n",
       "      <td>f</td>\n",
       "      <td>f</td>\n",
       "      <td>f</td>\n",
       "      <td>f</td>\n",
       "      <td>f</td>\n",
       "      <td>f</td>\n",
       "      <td>f</td>\n",
       "      <td>f</td>\n",
       "      <td>f</td>\n",
       "      <td>f</td>\n",
       "      <td>f</td>\n",
       "      <td>f</td>\n",
       "      <td>f</td>\n",
       "      <td>t</td>\n",
       "      <td>3.5</td>\n",
       "      <td>t</td>\n",
       "      <td>2.5</td>\n",
       "      <td>t</td>\n",
       "      <td>108</td>\n",
       "      <td>t</td>\n",
       "      <td>0.96</td>\n",
       "      <td>t</td>\n",
       "      <td>113</td>\n",
       "      <td>f</td>\n",
       "      <td>NaN</td>\n",
       "      <td>SVI</td>\n",
       "      <td>negative.|2059</td>\n",
       "    </tr>\n",
       "    <tr>\n",
       "      <th>2</th>\n",
       "      <td>25.0</td>\n",
       "      <td>F</td>\n",
       "      <td>f</td>\n",
       "      <td>f</td>\n",
       "      <td>f</td>\n",
       "      <td>f</td>\n",
       "      <td>f</td>\n",
       "      <td>f</td>\n",
       "      <td>f</td>\n",
       "      <td>f</td>\n",
       "      <td>f</td>\n",
       "      <td>f</td>\n",
       "      <td>f</td>\n",
       "      <td>f</td>\n",
       "      <td>f</td>\n",
       "      <td>f</td>\n",
       "      <td>t</td>\n",
       "      <td>4.6</td>\n",
       "      <td>t</td>\n",
       "      <td>2.4</td>\n",
       "      <td>t</td>\n",
       "      <td>61</td>\n",
       "      <td>t</td>\n",
       "      <td>0.82</td>\n",
       "      <td>t</td>\n",
       "      <td>75</td>\n",
       "      <td>f</td>\n",
       "      <td>NaN</td>\n",
       "      <td>SVHD</td>\n",
       "      <td>negative.|399</td>\n",
       "    </tr>\n",
       "    <tr>\n",
       "      <th>3</th>\n",
       "      <td>53.0</td>\n",
       "      <td>F</td>\n",
       "      <td>f</td>\n",
       "      <td>f</td>\n",
       "      <td>f</td>\n",
       "      <td>f</td>\n",
       "      <td>f</td>\n",
       "      <td>f</td>\n",
       "      <td>f</td>\n",
       "      <td>t</td>\n",
       "      <td>f</td>\n",
       "      <td>f</td>\n",
       "      <td>f</td>\n",
       "      <td>f</td>\n",
       "      <td>f</td>\n",
       "      <td>f</td>\n",
       "      <td>t</td>\n",
       "      <td>0.25</td>\n",
       "      <td>t</td>\n",
       "      <td>2.1</td>\n",
       "      <td>t</td>\n",
       "      <td>145</td>\n",
       "      <td>t</td>\n",
       "      <td>1.03</td>\n",
       "      <td>t</td>\n",
       "      <td>141</td>\n",
       "      <td>f</td>\n",
       "      <td>NaN</td>\n",
       "      <td>other</td>\n",
       "      <td>negative.|1911</td>\n",
       "    </tr>\n",
       "    <tr>\n",
       "      <th>4</th>\n",
       "      <td>92.0</td>\n",
       "      <td>F</td>\n",
       "      <td>f</td>\n",
       "      <td>f</td>\n",
       "      <td>f</td>\n",
       "      <td>f</td>\n",
       "      <td>f</td>\n",
       "      <td>f</td>\n",
       "      <td>f</td>\n",
       "      <td>f</td>\n",
       "      <td>f</td>\n",
       "      <td>f</td>\n",
       "      <td>f</td>\n",
       "      <td>f</td>\n",
       "      <td>f</td>\n",
       "      <td>f</td>\n",
       "      <td>t</td>\n",
       "      <td>0.7</td>\n",
       "      <td>t</td>\n",
       "      <td>1.3</td>\n",
       "      <td>t</td>\n",
       "      <td>120</td>\n",
       "      <td>t</td>\n",
       "      <td>0.84</td>\n",
       "      <td>t</td>\n",
       "      <td>143</td>\n",
       "      <td>f</td>\n",
       "      <td>NaN</td>\n",
       "      <td>SVI</td>\n",
       "      <td>negative.|487</td>\n",
       "    </tr>\n",
       "  </tbody>\n",
       "</table>\n",
       "</div>"
      ],
      "text/plain": [
       "    age sex on_thyroxine query_on_thyroxine on_antithyroid_medication sick  \\\n",
       "0  35.0   F            f                  f                         f    f   \n",
       "1  63.0   M            f                  f                         f    f   \n",
       "2  25.0   F            f                  f                         f    f   \n",
       "3  53.0   F            f                  f                         f    f   \n",
       "4  92.0   F            f                  f                         f    f   \n",
       "\n",
       "  pregnant thyroid_surgery I131_treatment query_hypothyroid  \\\n",
       "0        f               f              f                 f   \n",
       "1        f               f              f                 f   \n",
       "2        f               f              f                 f   \n",
       "3        f               f              f                 t   \n",
       "4        f               f              f                 f   \n",
       "\n",
       "  query_hyperthyroid lithium goitre tumor hypopituitary psych TSH_measured  \\\n",
       "0                  f       f      f     f             f     f            f   \n",
       "1                  f       f      f     f             f     f            t   \n",
       "2                  f       f      f     f             f     f            t   \n",
       "3                  f       f      f     f             f     f            t   \n",
       "4                  f       f      f     f             f     f            t   \n",
       "\n",
       "    TSH T3_measured   T3 TT4_measured  TT4 T4U_measured   T4U FTI_measured  \\\n",
       "0   NaN           f  NaN            f  NaN            f   NaN            f   \n",
       "1   3.5           t  2.5            t  108            t  0.96            t   \n",
       "2   4.6           t  2.4            t   61            t  0.82            t   \n",
       "3  0.25           t  2.1            t  145            t  1.03            t   \n",
       "4   0.7           t  1.3            t  120            t  0.84            t   \n",
       "\n",
       "   FTI TBG_measured  TBG referral_source         disease  \n",
       "0  NaN            f  NaN           other   negative.|219  \n",
       "1  113            f  NaN             SVI  negative.|2059  \n",
       "2   75            f  NaN            SVHD   negative.|399  \n",
       "3  141            f  NaN           other  negative.|1911  \n",
       "4  143            f  NaN             SVI   negative.|487  "
      ]
     },
     "execution_count": 255,
     "metadata": {},
     "output_type": "execute_result"
    }
   ],
   "source": [
    "final_dataset.head()"
   ]
  },
  {
   "cell_type": "markdown",
   "id": "dbf4fcff",
   "metadata": {},
   "source": [
    "### 4.2 Fixing Numerical features"
   ]
  },
  {
   "cell_type": "code",
   "execution_count": 256,
   "id": "8497be73",
   "metadata": {},
   "outputs": [],
   "source": [
    "num_features=['age', 'TSH', 'T3', 'TT4', 'T4U', 'FTI','TBG']"
   ]
  },
  {
   "cell_type": "markdown",
   "id": "04e07af5",
   "metadata": {},
   "source": [
    "#### 4.2.1 Typecasting object features to float datatype"
   ]
  },
  {
   "cell_type": "code",
   "execution_count": 257,
   "id": "6b5f467a",
   "metadata": {},
   "outputs": [],
   "source": [
    "for features in num_features:\n",
    "    final_dataset[features]=final_dataset[features].astype(float)"
   ]
  },
  {
   "cell_type": "markdown",
   "id": "67ab673a",
   "metadata": {},
   "source": [
    "### 4.3 Fixing Categorical features"
   ]
  },
  {
   "cell_type": "code",
   "execution_count": 258,
   "id": "fc3d8f99",
   "metadata": {},
   "outputs": [],
   "source": [
    "cat_features=['sex', 'referral_source','disease']"
   ]
  },
  {
   "cell_type": "markdown",
   "id": "27d2d576",
   "metadata": {},
   "source": [
    "#### 4.3.1 Extracting the disease categories by splitting the character through \"|\" mark"
   ]
  },
  {
   "cell_type": "code",
   "execution_count": 259,
   "id": "634bd586",
   "metadata": {},
   "outputs": [],
   "source": [
    "final_dataset['disease']=final_dataset['disease'].str.split('.')\n",
    "final_dataset['disease']=[val[0].replace(\".\",\"\") for val in final_dataset['disease']]"
   ]
  },
  {
   "cell_type": "markdown",
   "id": "f6c608de",
   "metadata": {},
   "source": [
    "#### Extracting the disease categories by splitting the character through \"[\" mark"
   ]
  },
  {
   "cell_type": "code",
   "execution_count": 260,
   "id": "cc350b2e",
   "metadata": {},
   "outputs": [],
   "source": [
    "final_dataset['disease']=final_dataset['disease'].str.split('[')\n",
    "final_dataset['disease']=[val[0] for val in final_dataset['disease']]"
   ]
  },
  {
   "cell_type": "markdown",
   "id": "8565161e",
   "metadata": {},
   "source": [
    "#### Checking the frequency of each class in disease feature"
   ]
  },
  {
   "cell_type": "code",
   "execution_count": 261,
   "id": "6b6b0cb7",
   "metadata": {},
   "outputs": [
    {
     "data": {
      "text/plain": [
       "disease\n",
       "negative                   1848\n",
       "compensated hypothyroid      40\n",
       "primary hypothyroid          31\n",
       "hyperthyroid                 17\n",
       "goitre                        5\n",
       "T3 toxic                      2\n",
       "secondary toxic               1\n",
       "Name: count, dtype: int64"
      ]
     },
     "execution_count": 261,
     "metadata": {},
     "output_type": "execute_result"
    }
   ],
   "source": [
    "final_dataset['disease'].value_counts()"
   ]
  },
  {
   "cell_type": "markdown",
   "id": "af9bbcdd",
   "metadata": {},
   "source": [
    "##### 4.3.2 Applying mapping over Alphabetic characters in disease categories"
   ]
  },
  {
   "cell_type": "code",
   "execution_count": 262,
   "id": "2b7722a0",
   "metadata": {},
   "outputs": [],
   "source": [
    "disease_symbols={'-':'negative',\n",
    "    'A':'hyperthyroid',\n",
    "    'B':'T3 toxic',\n",
    "    'C':'toxic goitre',\n",
    "    'D':'secondary toxic',\n",
    "    'E':'hypothyroid',\n",
    "    'F':'primary hypothyroid',\n",
    "    'G':'compensated hypothyroid',\n",
    "    'H':'secondary hypothyroid',\n",
    "    'I':'increased binding protein',\n",
    "    'J':'decreased binding protein',\n",
    "    'K':'concurrent non-thyroidal illness',\n",
    "    'L':'consistent with replacement therapy',\n",
    "    'M':'underreplaced',\n",
    "    'N':'overreplaced',\n",
    "    'O':'antithyroid drugs',\n",
    "    'P':'I131 treatment',\n",
    "    'Q':'surgery',\n",
    "    'R':'discordant assay results',\n",
    "    'S':'elevated TBG',\n",
    "    'T':'elevated thyroid hormones'}"
   ]
  },
  {
   "cell_type": "markdown",
   "id": "59bec9cd",
   "metadata": {},
   "source": [
    "###### creating replica of disease feature and keeping only alphabetical values in disease feature replica"
   ]
  },
  {
   "cell_type": "code",
   "execution_count": 263,
   "id": "7983de34",
   "metadata": {},
   "outputs": [],
   "source": [
    "final_dataset['disease2']=final_dataset['disease']\n",
    "final_dataset['disease2']=np.where(final_dataset['disease']==final_dataset['disease'].str.upper(),final_dataset['disease'],np.nan)"
   ]
  },
  {
   "cell_type": "markdown",
   "id": "1f2c152b",
   "metadata": {},
   "source": [
    "###### applying mapping over alphabetic symbols in disease feature"
   ]
  },
  {
   "cell_type": "code",
   "execution_count": 264,
   "id": "3bf745dd",
   "metadata": {},
   "outputs": [],
   "source": [
    "map_lis=[]\n",
    "for features in final_dataset.loc[final_dataset['disease2'].notna(),'disease']:\n",
    "    disease=\"\"\n",
    "    for char in features:\n",
    "        if char!=\"|\":\n",
    "            disease+=disease_symbols[char]+\" \"\n",
    "        if char==\"|\":\n",
    "            disease+=\" | \"\n",
    "    \n",
    "    map_lis.append(disease.strip())\n",
    "\n",
    "final_dataset.loc[final_dataset['disease2'].notna(),'disease']=map_lis"
   ]
  },
  {
   "cell_type": "markdown",
   "id": "ca8af1eb",
   "metadata": {},
   "source": [
    "###### verifying the mapping at disease feature"
   ]
  },
  {
   "cell_type": "code",
   "execution_count": 265,
   "id": "698698a3",
   "metadata": {},
   "outputs": [
    {
     "data": {
      "text/html": [
       "<div>\n",
       "<style scoped>\n",
       "    .dataframe tbody tr th:only-of-type {\n",
       "        vertical-align: middle;\n",
       "    }\n",
       "\n",
       "    .dataframe tbody tr th {\n",
       "        vertical-align: top;\n",
       "    }\n",
       "\n",
       "    .dataframe thead th {\n",
       "        text-align: right;\n",
       "    }\n",
       "</style>\n",
       "<table border=\"1\" class=\"dataframe\">\n",
       "  <thead>\n",
       "    <tr style=\"text-align: right;\">\n",
       "      <th></th>\n",
       "      <th>age</th>\n",
       "      <th>sex</th>\n",
       "      <th>on_thyroxine</th>\n",
       "      <th>query_on_thyroxine</th>\n",
       "      <th>on_antithyroid_medication</th>\n",
       "      <th>sick</th>\n",
       "      <th>pregnant</th>\n",
       "      <th>thyroid_surgery</th>\n",
       "      <th>I131_treatment</th>\n",
       "      <th>query_hypothyroid</th>\n",
       "      <th>query_hyperthyroid</th>\n",
       "      <th>lithium</th>\n",
       "      <th>goitre</th>\n",
       "      <th>tumor</th>\n",
       "      <th>hypopituitary</th>\n",
       "      <th>psych</th>\n",
       "      <th>TSH_measured</th>\n",
       "      <th>TSH</th>\n",
       "      <th>T3_measured</th>\n",
       "      <th>T3</th>\n",
       "      <th>TT4_measured</th>\n",
       "      <th>TT4</th>\n",
       "      <th>T4U_measured</th>\n",
       "      <th>T4U</th>\n",
       "      <th>FTI_measured</th>\n",
       "      <th>FTI</th>\n",
       "      <th>TBG_measured</th>\n",
       "      <th>TBG</th>\n",
       "      <th>referral_source</th>\n",
       "      <th>disease</th>\n",
       "      <th>disease2</th>\n",
       "    </tr>\n",
       "  </thead>\n",
       "  <tbody>\n",
       "  </tbody>\n",
       "</table>\n",
       "</div>"
      ],
      "text/plain": [
       "Empty DataFrame\n",
       "Columns: [age, sex, on_thyroxine, query_on_thyroxine, on_antithyroid_medication, sick, pregnant, thyroid_surgery, I131_treatment, query_hypothyroid, query_hyperthyroid, lithium, goitre, tumor, hypopituitary, psych, TSH_measured, TSH, T3_measured, T3, TT4_measured, TT4, T4U_measured, T4U, FTI_measured, FTI, TBG_measured, TBG, referral_source, disease, disease2]\n",
       "Index: []"
      ]
     },
     "execution_count": 265,
     "metadata": {},
     "output_type": "execute_result"
    }
   ],
   "source": [
    "final_dataset[final_dataset['disease2'].notna()]"
   ]
  },
  {
   "cell_type": "markdown",
   "id": "4446fb79",
   "metadata": {},
   "source": [
    "###### verfying the frequency of each class"
   ]
  },
  {
   "cell_type": "code",
   "execution_count": 266,
   "id": "2fd54002",
   "metadata": {},
   "outputs": [
    {
     "data": {
      "text/plain": [
       "disease\n",
       "negative                   1848\n",
       "compensated hypothyroid      40\n",
       "primary hypothyroid          31\n",
       "hyperthyroid                 17\n",
       "goitre                        5\n",
       "T3 toxic                      2\n",
       "secondary toxic               1\n",
       "Name: count, dtype: int64"
      ]
     },
     "execution_count": 266,
     "metadata": {},
     "output_type": "execute_result"
    }
   ],
   "source": [
    "final_dataset['disease'].value_counts()"
   ]
  },
  {
   "cell_type": "markdown",
   "id": "7d08def4",
   "metadata": {},
   "source": [
    "###### Insights\n",
    "- 7 Rare classes in disease features\n",
    "###### Some of the classes are relative to each other:\n",
    "- antithyroid drugs increased binding protein , antithyroid drugs\n",
    "- replacement therapy class has related classes like: (consistent with replacement therapy decreased binding protein, overreplacement, underreplacement)\n",
    "- goitre class has related classes like: (secondary toxic  | discordant assay results, toxic goitre, toxic goitre  | increased binding protein, secondary toxic)\n",
    "- increased binding proteins has related classes like: (antithyroid drugs increased binding protein, compensated hypothyroid increased binding protein)\n",
    "- decreased binding protein has related classes like: (consistent with replacement therapy decreased binding protein)"
   ]
  },
  {
   "cell_type": "markdown",
   "id": "d5964592",
   "metadata": {},
   "source": [
    "##### dropping disease2 replica from dataset"
   ]
  },
  {
   "cell_type": "code",
   "execution_count": 267,
   "id": "47a7fc09",
   "metadata": {},
   "outputs": [],
   "source": [
    "final_dataset.drop(['disease2'],axis=1,inplace=True)"
   ]
  },
  {
   "cell_type": "markdown",
   "id": "c012bae8",
   "metadata": {},
   "source": [
    "### 4.4 Fixing the boolean features"
   ]
  },
  {
   "cell_type": "code",
   "execution_count": 268,
   "id": "0fc281c7",
   "metadata": {},
   "outputs": [],
   "source": [
    "bool_features=[features for features in final_dataset.columns if features not in num_features+cat_features]"
   ]
  },
  {
   "cell_type": "markdown",
   "id": "0751451d",
   "metadata": {},
   "source": [
    "#### Showing all boolean features"
   ]
  },
  {
   "cell_type": "code",
   "execution_count": 269,
   "id": "adcc6cbc",
   "metadata": {},
   "outputs": [
    {
     "data": {
      "text/plain": [
       "['on_thyroxine',\n",
       " 'query_on_thyroxine',\n",
       " 'on_antithyroid_medication',\n",
       " 'sick',\n",
       " 'pregnant',\n",
       " 'thyroid_surgery',\n",
       " 'I131_treatment',\n",
       " 'query_hypothyroid',\n",
       " 'query_hyperthyroid',\n",
       " 'lithium',\n",
       " 'goitre',\n",
       " 'tumor',\n",
       " 'hypopituitary',\n",
       " 'psych',\n",
       " 'TSH_measured',\n",
       " 'T3_measured',\n",
       " 'TT4_measured',\n",
       " 'T4U_measured',\n",
       " 'FTI_measured',\n",
       " 'TBG_measured']"
      ]
     },
     "execution_count": 269,
     "metadata": {},
     "output_type": "execute_result"
    }
   ],
   "source": [
    "bool_features"
   ]
  },
  {
   "cell_type": "code",
   "execution_count": 270,
   "id": "4b29194f",
   "metadata": {},
   "outputs": [],
   "source": [
    "bool_dict={'y':1, 'n':0, 'f':0, 't':1}\n",
    "\n",
    "for features in bool_features:\n",
    "    final_dataset[features]=final_dataset[features].map(bool_dict)"
   ]
  },
  {
   "cell_type": "markdown",
   "id": "4f5f2171",
   "metadata": {},
   "source": [
    "## 5) Datachecks to performs\n",
    "\n",
    "- Check Missing values\n",
    "- Check data type\n",
    "- Check the number of unique values of each column\n",
    "- Check statistics of data set"
   ]
  },
  {
   "cell_type": "markdown",
   "id": "6b6a8369",
   "metadata": {},
   "source": [
    "### 5.1 Checking Missing values"
   ]
  },
  {
   "cell_type": "code",
   "execution_count": 271,
   "id": "a54662a3",
   "metadata": {},
   "outputs": [
    {
     "data": {
      "text/plain": [
       "age                             0\n",
       "sex                            80\n",
       "on_thyroxine                    0\n",
       "query_on_thyroxine              0\n",
       "on_antithyroid_medication       0\n",
       "sick                            0\n",
       "pregnant                        0\n",
       "thyroid_surgery                 0\n",
       "I131_treatment                  0\n",
       "query_hypothyroid               0\n",
       "query_hyperthyroid              0\n",
       "lithium                         0\n",
       "goitre                          0\n",
       "tumor                           0\n",
       "hypopituitary                   0\n",
       "psych                           0\n",
       "TSH_measured                    0\n",
       "TSH                           170\n",
       "T3_measured                     0\n",
       "T3                            368\n",
       "TT4_measured                    0\n",
       "TT4                            94\n",
       "T4U_measured                    0\n",
       "T4U                           180\n",
       "FTI_measured                    0\n",
       "FTI                           180\n",
       "TBG_measured                    0\n",
       "TBG                          1944\n",
       "referral_source                 0\n",
       "disease                         0\n",
       "dtype: int64"
      ]
     },
     "execution_count": 271,
     "metadata": {},
     "output_type": "execute_result"
    }
   ],
   "source": [
    "final_dataset.isnull().sum()"
   ]
  },
  {
   "cell_type": "markdown",
   "id": "5fae353f",
   "metadata": {},
   "source": [
    "### 5.2 Checking datatypes"
   ]
  },
  {
   "cell_type": "code",
   "execution_count": 272,
   "id": "80fa7f77",
   "metadata": {},
   "outputs": [
    {
     "name": "stdout",
     "output_type": "stream",
     "text": [
      "<class 'pandas.core.frame.DataFrame'>\n",
      "RangeIndex: 1944 entries, 0 to 1943\n",
      "Data columns (total 30 columns):\n",
      " #   Column                     Non-Null Count  Dtype  \n",
      "---  ------                     --------------  -----  \n",
      " 0   age                        1944 non-null   float64\n",
      " 1   sex                        1864 non-null   object \n",
      " 2   on_thyroxine               1944 non-null   int64  \n",
      " 3   query_on_thyroxine         1944 non-null   int64  \n",
      " 4   on_antithyroid_medication  1944 non-null   int64  \n",
      " 5   sick                       1944 non-null   int64  \n",
      " 6   pregnant                   1944 non-null   int64  \n",
      " 7   thyroid_surgery            1944 non-null   int64  \n",
      " 8   I131_treatment             1944 non-null   int64  \n",
      " 9   query_hypothyroid          1944 non-null   int64  \n",
      " 10  query_hyperthyroid         1944 non-null   int64  \n",
      " 11  lithium                    1944 non-null   int64  \n",
      " 12  goitre                     1944 non-null   int64  \n",
      " 13  tumor                      1944 non-null   int64  \n",
      " 14  hypopituitary              1944 non-null   int64  \n",
      " 15  psych                      1944 non-null   int64  \n",
      " 16  TSH_measured               1944 non-null   int64  \n",
      " 17  TSH                        1774 non-null   float64\n",
      " 18  T3_measured                1944 non-null   int64  \n",
      " 19  T3                         1576 non-null   float64\n",
      " 20  TT4_measured               1944 non-null   int64  \n",
      " 21  TT4                        1850 non-null   float64\n",
      " 22  T4U_measured               1944 non-null   int64  \n",
      " 23  T4U                        1764 non-null   float64\n",
      " 24  FTI_measured               1944 non-null   int64  \n",
      " 25  FTI                        1764 non-null   float64\n",
      " 26  TBG_measured               1944 non-null   int64  \n",
      " 27  TBG                        0 non-null      float64\n",
      " 28  referral_source            1944 non-null   object \n",
      " 29  disease                    1944 non-null   object \n",
      "dtypes: float64(7), int64(20), object(3)\n",
      "memory usage: 455.8+ KB\n"
     ]
    }
   ],
   "source": [
    "final_dataset.info()"
   ]
  },
  {
   "cell_type": "markdown",
   "id": "9d173cd2",
   "metadata": {},
   "source": [
    "##### float datatype features: \n",
    "- age\n",
    "- TSH\n",
    "- T3\n",
    "- TT4\n",
    "- T4U\n",
    "- FTI\n",
    "- TBG\n",
    "\n",
    "##### object datatype features:\n",
    "- sex\n",
    "- referral_source\n",
    "- disease\n",
    "\n",
    "##### int datatype features:\n",
    " -  on_thyroxine\n",
    " -   query_on_thyroxine\n",
    " -   on_antithyroid_medication\n",
    " -   sick\n",
    " -   pregnant\n",
    " -  thyroid_surgery\n",
    " -  I131_treatment\n",
    " -   query_hypothyroid\n",
    " -  query_hyperthyroid\n",
    " -  lithium\n",
    " -  goitre \n",
    " -  tumor \n",
    " -  hypopituitary\n",
    " -  psych\n",
    " -  TSH_measured\n",
    " -  T3_measured\n",
    " -  TT4_measured\n",
    " -  T4U_measured\n",
    " -  FTI_measured\n",
    " -  TBG_measured"
   ]
  },
  {
   "cell_type": "markdown",
   "id": "250007ec",
   "metadata": {},
   "source": [
    "#### Dropping \"TBG\" feature"
   ]
  },
  {
   "cell_type": "code",
   "execution_count": 273,
   "id": "d215c5bc",
   "metadata": {},
   "outputs": [],
   "source": [
    "final_dataset.drop([\"TBG\"], axis=1,inplace=True)"
   ]
  },
  {
   "cell_type": "code",
   "execution_count": 274,
   "id": "e59bebbb",
   "metadata": {},
   "outputs": [],
   "source": [
    "num_features.remove('TBG')"
   ]
  },
  {
   "cell_type": "markdown",
   "id": "99d4fc25",
   "metadata": {},
   "source": [
    "### 5.3 Checking the number of unique values in each feature"
   ]
  },
  {
   "cell_type": "code",
   "execution_count": 275,
   "id": "30bed6b5",
   "metadata": {},
   "outputs": [
    {
     "data": {
      "text/plain": [
       "age                           81\n",
       "sex                            2\n",
       "on_thyroxine                   2\n",
       "query_on_thyroxine             2\n",
       "on_antithyroid_medication      2\n",
       "sick                           2\n",
       "pregnant                       2\n",
       "thyroid_surgery                2\n",
       "I131_treatment                 2\n",
       "query_hypothyroid              2\n",
       "query_hyperthyroid             2\n",
       "lithium                        2\n",
       "goitre                         2\n",
       "tumor                          2\n",
       "hypopituitary                  1\n",
       "psych                          2\n",
       "TSH_measured                   2\n",
       "TSH                          203\n",
       "T3_measured                    2\n",
       "T3                            54\n",
       "TT4_measured                   2\n",
       "TT4                          173\n",
       "T4U_measured                   2\n",
       "T4U                          109\n",
       "FTI_measured                   2\n",
       "FTI                          161\n",
       "TBG_measured                   1\n",
       "referral_source                5\n",
       "disease                        7\n",
       "dtype: int64"
      ]
     },
     "execution_count": 275,
     "metadata": {},
     "output_type": "execute_result"
    }
   ],
   "source": [
    "final_dataset.nunique()"
   ]
  },
  {
   "cell_type": "markdown",
   "id": "08b0384e",
   "metadata": {},
   "source": [
    "### 5.4 Check statistics of data set"
   ]
  },
  {
   "cell_type": "code",
   "execution_count": 276,
   "id": "1524bd66",
   "metadata": {},
   "outputs": [
    {
     "data": {
      "text/html": [
       "<div>\n",
       "<style scoped>\n",
       "    .dataframe tbody tr th:only-of-type {\n",
       "        vertical-align: middle;\n",
       "    }\n",
       "\n",
       "    .dataframe tbody tr th {\n",
       "        vertical-align: top;\n",
       "    }\n",
       "\n",
       "    .dataframe thead th {\n",
       "        text-align: right;\n",
       "    }\n",
       "</style>\n",
       "<table border=\"1\" class=\"dataframe\">\n",
       "  <thead>\n",
       "    <tr style=\"text-align: right;\">\n",
       "      <th></th>\n",
       "      <th>age</th>\n",
       "      <th>on_thyroxine</th>\n",
       "      <th>query_on_thyroxine</th>\n",
       "      <th>on_antithyroid_medication</th>\n",
       "      <th>sick</th>\n",
       "      <th>pregnant</th>\n",
       "      <th>thyroid_surgery</th>\n",
       "      <th>I131_treatment</th>\n",
       "      <th>query_hypothyroid</th>\n",
       "      <th>query_hyperthyroid</th>\n",
       "      <th>lithium</th>\n",
       "      <th>goitre</th>\n",
       "      <th>tumor</th>\n",
       "      <th>hypopituitary</th>\n",
       "      <th>psych</th>\n",
       "      <th>TSH_measured</th>\n",
       "      <th>TSH</th>\n",
       "      <th>T3_measured</th>\n",
       "      <th>T3</th>\n",
       "      <th>TT4_measured</th>\n",
       "      <th>TT4</th>\n",
       "      <th>T4U_measured</th>\n",
       "      <th>T4U</th>\n",
       "      <th>FTI_measured</th>\n",
       "      <th>FTI</th>\n",
       "      <th>TBG_measured</th>\n",
       "    </tr>\n",
       "  </thead>\n",
       "  <tbody>\n",
       "    <tr>\n",
       "      <th>count</th>\n",
       "      <td>1944.000000</td>\n",
       "      <td>1944.000000</td>\n",
       "      <td>1944.000000</td>\n",
       "      <td>1944.000000</td>\n",
       "      <td>1944.000000</td>\n",
       "      <td>1944.000000</td>\n",
       "      <td>1944.000000</td>\n",
       "      <td>1944.000000</td>\n",
       "      <td>1944.000000</td>\n",
       "      <td>1944.000000</td>\n",
       "      <td>1944.000000</td>\n",
       "      <td>1944.000000</td>\n",
       "      <td>1944.00000</td>\n",
       "      <td>1944.0</td>\n",
       "      <td>1944.000000</td>\n",
       "      <td>1944.000000</td>\n",
       "      <td>1774.000000</td>\n",
       "      <td>1944.000000</td>\n",
       "      <td>1576.000000</td>\n",
       "      <td>1944.000000</td>\n",
       "      <td>1850.000000</td>\n",
       "      <td>1944.000000</td>\n",
       "      <td>1764.000000</td>\n",
       "      <td>1944.000000</td>\n",
       "      <td>1764.000000</td>\n",
       "      <td>1944.0</td>\n",
       "    </tr>\n",
       "    <tr>\n",
       "      <th>mean</th>\n",
       "      <td>51.423868</td>\n",
       "      <td>0.137860</td>\n",
       "      <td>0.010288</td>\n",
       "      <td>0.009259</td>\n",
       "      <td>0.038066</td>\n",
       "      <td>0.012346</td>\n",
       "      <td>0.014403</td>\n",
       "      <td>0.011317</td>\n",
       "      <td>0.073045</td>\n",
       "      <td>0.065844</td>\n",
       "      <td>0.004115</td>\n",
       "      <td>0.009259</td>\n",
       "      <td>0.02572</td>\n",
       "      <td>0.0</td>\n",
       "      <td>0.050412</td>\n",
       "      <td>0.912551</td>\n",
       "      <td>6.262835</td>\n",
       "      <td>0.810700</td>\n",
       "      <td>1.981269</td>\n",
       "      <td>0.951646</td>\n",
       "      <td>106.189622</td>\n",
       "      <td>0.907407</td>\n",
       "      <td>0.986735</td>\n",
       "      <td>0.907407</td>\n",
       "      <td>109.565533</td>\n",
       "      <td>0.0</td>\n",
       "    </tr>\n",
       "    <tr>\n",
       "      <th>std</th>\n",
       "      <td>18.961818</td>\n",
       "      <td>0.344842</td>\n",
       "      <td>0.100933</td>\n",
       "      <td>0.095803</td>\n",
       "      <td>0.191404</td>\n",
       "      <td>0.110452</td>\n",
       "      <td>0.119177</td>\n",
       "      <td>0.105804</td>\n",
       "      <td>0.260278</td>\n",
       "      <td>0.248072</td>\n",
       "      <td>0.064034</td>\n",
       "      <td>0.095803</td>\n",
       "      <td>0.15834</td>\n",
       "      <td>0.0</td>\n",
       "      <td>0.218849</td>\n",
       "      <td>0.282564</td>\n",
       "      <td>31.629429</td>\n",
       "      <td>0.391848</td>\n",
       "      <td>0.834766</td>\n",
       "      <td>0.214568</td>\n",
       "      <td>36.121177</td>\n",
       "      <td>0.289935</td>\n",
       "      <td>0.198276</td>\n",
       "      <td>0.289935</td>\n",
       "      <td>33.659989</td>\n",
       "      <td>0.0</td>\n",
       "    </tr>\n",
       "    <tr>\n",
       "      <th>min</th>\n",
       "      <td>7.000000</td>\n",
       "      <td>0.000000</td>\n",
       "      <td>0.000000</td>\n",
       "      <td>0.000000</td>\n",
       "      <td>0.000000</td>\n",
       "      <td>0.000000</td>\n",
       "      <td>0.000000</td>\n",
       "      <td>0.000000</td>\n",
       "      <td>0.000000</td>\n",
       "      <td>0.000000</td>\n",
       "      <td>0.000000</td>\n",
       "      <td>0.000000</td>\n",
       "      <td>0.00000</td>\n",
       "      <td>0.0</td>\n",
       "      <td>0.000000</td>\n",
       "      <td>0.000000</td>\n",
       "      <td>0.005000</td>\n",
       "      <td>0.000000</td>\n",
       "      <td>0.200000</td>\n",
       "      <td>0.000000</td>\n",
       "      <td>2.900000</td>\n",
       "      <td>0.000000</td>\n",
       "      <td>0.250000</td>\n",
       "      <td>0.000000</td>\n",
       "      <td>2.800000</td>\n",
       "      <td>0.0</td>\n",
       "    </tr>\n",
       "    <tr>\n",
       "      <th>25%</th>\n",
       "      <td>35.000000</td>\n",
       "      <td>0.000000</td>\n",
       "      <td>0.000000</td>\n",
       "      <td>0.000000</td>\n",
       "      <td>0.000000</td>\n",
       "      <td>0.000000</td>\n",
       "      <td>0.000000</td>\n",
       "      <td>0.000000</td>\n",
       "      <td>0.000000</td>\n",
       "      <td>0.000000</td>\n",
       "      <td>0.000000</td>\n",
       "      <td>0.000000</td>\n",
       "      <td>0.00000</td>\n",
       "      <td>0.0</td>\n",
       "      <td>0.000000</td>\n",
       "      <td>1.000000</td>\n",
       "      <td>0.512500</td>\n",
       "      <td>1.000000</td>\n",
       "      <td>1.500000</td>\n",
       "      <td>1.000000</td>\n",
       "      <td>87.000000</td>\n",
       "      <td>1.000000</td>\n",
       "      <td>0.870000</td>\n",
       "      <td>1.000000</td>\n",
       "      <td>92.000000</td>\n",
       "      <td>0.0</td>\n",
       "    </tr>\n",
       "    <tr>\n",
       "      <th>50%</th>\n",
       "      <td>54.000000</td>\n",
       "      <td>0.000000</td>\n",
       "      <td>0.000000</td>\n",
       "      <td>0.000000</td>\n",
       "      <td>0.000000</td>\n",
       "      <td>0.000000</td>\n",
       "      <td>0.000000</td>\n",
       "      <td>0.000000</td>\n",
       "      <td>0.000000</td>\n",
       "      <td>0.000000</td>\n",
       "      <td>0.000000</td>\n",
       "      <td>0.000000</td>\n",
       "      <td>0.00000</td>\n",
       "      <td>0.0</td>\n",
       "      <td>0.000000</td>\n",
       "      <td>1.000000</td>\n",
       "      <td>1.300000</td>\n",
       "      <td>1.000000</td>\n",
       "      <td>2.000000</td>\n",
       "      <td>1.000000</td>\n",
       "      <td>103.000000</td>\n",
       "      <td>1.000000</td>\n",
       "      <td>0.970000</td>\n",
       "      <td>1.000000</td>\n",
       "      <td>106.000000</td>\n",
       "      <td>0.0</td>\n",
       "    </tr>\n",
       "    <tr>\n",
       "      <th>75%</th>\n",
       "      <td>67.000000</td>\n",
       "      <td>0.000000</td>\n",
       "      <td>0.000000</td>\n",
       "      <td>0.000000</td>\n",
       "      <td>0.000000</td>\n",
       "      <td>0.000000</td>\n",
       "      <td>0.000000</td>\n",
       "      <td>0.000000</td>\n",
       "      <td>0.000000</td>\n",
       "      <td>0.000000</td>\n",
       "      <td>0.000000</td>\n",
       "      <td>0.000000</td>\n",
       "      <td>0.00000</td>\n",
       "      <td>0.0</td>\n",
       "      <td>0.000000</td>\n",
       "      <td>1.000000</td>\n",
       "      <td>2.900000</td>\n",
       "      <td>1.000000</td>\n",
       "      <td>2.300000</td>\n",
       "      <td>1.000000</td>\n",
       "      <td>123.000000</td>\n",
       "      <td>1.000000</td>\n",
       "      <td>1.080000</td>\n",
       "      <td>1.000000</td>\n",
       "      <td>124.000000</td>\n",
       "      <td>0.0</td>\n",
       "    </tr>\n",
       "    <tr>\n",
       "      <th>max</th>\n",
       "      <td>93.000000</td>\n",
       "      <td>1.000000</td>\n",
       "      <td>1.000000</td>\n",
       "      <td>1.000000</td>\n",
       "      <td>1.000000</td>\n",
       "      <td>1.000000</td>\n",
       "      <td>1.000000</td>\n",
       "      <td>1.000000</td>\n",
       "      <td>1.000000</td>\n",
       "      <td>1.000000</td>\n",
       "      <td>1.000000</td>\n",
       "      <td>1.000000</td>\n",
       "      <td>1.00000</td>\n",
       "      <td>0.0</td>\n",
       "      <td>1.000000</td>\n",
       "      <td>1.000000</td>\n",
       "      <td>530.000000</td>\n",
       "      <td>1.000000</td>\n",
       "      <td>8.500000</td>\n",
       "      <td>1.000000</td>\n",
       "      <td>372.000000</td>\n",
       "      <td>1.000000</td>\n",
       "      <td>2.320000</td>\n",
       "      <td>1.000000</td>\n",
       "      <td>291.000000</td>\n",
       "      <td>0.0</td>\n",
       "    </tr>\n",
       "  </tbody>\n",
       "</table>\n",
       "</div>"
      ],
      "text/plain": [
       "               age  on_thyroxine  query_on_thyroxine  \\\n",
       "count  1944.000000   1944.000000         1944.000000   \n",
       "mean     51.423868      0.137860            0.010288   \n",
       "std      18.961818      0.344842            0.100933   \n",
       "min       7.000000      0.000000            0.000000   \n",
       "25%      35.000000      0.000000            0.000000   \n",
       "50%      54.000000      0.000000            0.000000   \n",
       "75%      67.000000      0.000000            0.000000   \n",
       "max      93.000000      1.000000            1.000000   \n",
       "\n",
       "       on_antithyroid_medication         sick     pregnant  thyroid_surgery  \\\n",
       "count                1944.000000  1944.000000  1944.000000      1944.000000   \n",
       "mean                    0.009259     0.038066     0.012346         0.014403   \n",
       "std                     0.095803     0.191404     0.110452         0.119177   \n",
       "min                     0.000000     0.000000     0.000000         0.000000   \n",
       "25%                     0.000000     0.000000     0.000000         0.000000   \n",
       "50%                     0.000000     0.000000     0.000000         0.000000   \n",
       "75%                     0.000000     0.000000     0.000000         0.000000   \n",
       "max                     1.000000     1.000000     1.000000         1.000000   \n",
       "\n",
       "       I131_treatment  query_hypothyroid  query_hyperthyroid      lithium  \\\n",
       "count     1944.000000        1944.000000         1944.000000  1944.000000   \n",
       "mean         0.011317           0.073045            0.065844     0.004115   \n",
       "std          0.105804           0.260278            0.248072     0.064034   \n",
       "min          0.000000           0.000000            0.000000     0.000000   \n",
       "25%          0.000000           0.000000            0.000000     0.000000   \n",
       "50%          0.000000           0.000000            0.000000     0.000000   \n",
       "75%          0.000000           0.000000            0.000000     0.000000   \n",
       "max          1.000000           1.000000            1.000000     1.000000   \n",
       "\n",
       "            goitre       tumor  hypopituitary        psych  TSH_measured  \\\n",
       "count  1944.000000  1944.00000         1944.0  1944.000000   1944.000000   \n",
       "mean      0.009259     0.02572            0.0     0.050412      0.912551   \n",
       "std       0.095803     0.15834            0.0     0.218849      0.282564   \n",
       "min       0.000000     0.00000            0.0     0.000000      0.000000   \n",
       "25%       0.000000     0.00000            0.0     0.000000      1.000000   \n",
       "50%       0.000000     0.00000            0.0     0.000000      1.000000   \n",
       "75%       0.000000     0.00000            0.0     0.000000      1.000000   \n",
       "max       1.000000     1.00000            0.0     1.000000      1.000000   \n",
       "\n",
       "               TSH  T3_measured           T3  TT4_measured          TT4  \\\n",
       "count  1774.000000  1944.000000  1576.000000   1944.000000  1850.000000   \n",
       "mean      6.262835     0.810700     1.981269      0.951646   106.189622   \n",
       "std      31.629429     0.391848     0.834766      0.214568    36.121177   \n",
       "min       0.005000     0.000000     0.200000      0.000000     2.900000   \n",
       "25%       0.512500     1.000000     1.500000      1.000000    87.000000   \n",
       "50%       1.300000     1.000000     2.000000      1.000000   103.000000   \n",
       "75%       2.900000     1.000000     2.300000      1.000000   123.000000   \n",
       "max     530.000000     1.000000     8.500000      1.000000   372.000000   \n",
       "\n",
       "       T4U_measured          T4U  FTI_measured          FTI  TBG_measured  \n",
       "count   1944.000000  1764.000000   1944.000000  1764.000000        1944.0  \n",
       "mean       0.907407     0.986735      0.907407   109.565533           0.0  \n",
       "std        0.289935     0.198276      0.289935    33.659989           0.0  \n",
       "min        0.000000     0.250000      0.000000     2.800000           0.0  \n",
       "25%        1.000000     0.870000      1.000000    92.000000           0.0  \n",
       "50%        1.000000     0.970000      1.000000   106.000000           0.0  \n",
       "75%        1.000000     1.080000      1.000000   124.000000           0.0  \n",
       "max        1.000000     2.320000      1.000000   291.000000           0.0  "
      ]
     },
     "execution_count": 276,
     "metadata": {},
     "output_type": "execute_result"
    }
   ],
   "source": [
    "final_dataset.describe()"
   ]
  },
  {
   "cell_type": "markdown",
   "id": "f9729622",
   "metadata": {},
   "source": [
    "###### Insights\n",
    "- min value for each feature is 0 except age and TT4 feature\n",
    "- high difference in standard deviation of each feature\n",
    "- high difference in count value of TBG with respect to other features"
   ]
  },
  {
   "cell_type": "markdown",
   "id": "fa5877cb",
   "metadata": {},
   "source": [
    "## 1) Imputation of Missing values"
   ]
  },
  {
   "cell_type": "markdown",
   "id": "b693afd5",
   "metadata": {},
   "source": [
    "### 1.1 Imputing numerical features"
   ]
  },
  {
   "cell_type": "markdown",
   "id": "77346c22",
   "metadata": {},
   "source": [
    "- All the values missing in numerical features like 'TSH', 'T3', 'TT4', 'T4U', 'FTI', 'TBG' are treated as report not ready which is represented by 0 value according to the database theory.\n",
    "- Hence we will impute missing feature with 0, except 'age' feature"
   ]
  },
  {
   "cell_type": "code",
   "execution_count": 277,
   "id": "216ca9b5",
   "metadata": {},
   "outputs": [],
   "source": [
    "# for features in num_features:\n",
    "#     if features!='age':\n",
    "#         final_dataset[features]=final_dataset[features].fillna(0)"
   ]
  },
  {
   "cell_type": "markdown",
   "id": "d60d786a",
   "metadata": {},
   "source": [
    "#### 1.1.1 Imputing age numerical feature\n",
    "\n",
    "- Imputing age feature using knn imputer which will calculate the mean value of k closest neighbors mean value\n",
    "\n",
    "\n",
    "#### 1.1.1.1 Importing KNN imputer library"
   ]
  },
  {
   "cell_type": "code",
   "execution_count": 278,
   "id": "5ebdcaad",
   "metadata": {},
   "outputs": [],
   "source": [
    "from sklearn.impute import KNNImputer"
   ]
  },
  {
   "cell_type": "markdown",
   "id": "59b22ba5",
   "metadata": {},
   "source": [
    "#### 1.1.1.2 Creating instance of KNNImputer and fit the numerical features"
   ]
  },
  {
   "cell_type": "code",
   "execution_count": 279,
   "id": "3dfa77f9",
   "metadata": {},
   "outputs": [],
   "source": [
    "knn_imp=KNNImputer()\n",
    "\n",
    "imp_val=knn_imp.fit_transform(final_dataset[num_features])"
   ]
  },
  {
   "cell_type": "markdown",
   "id": "4cf415f9",
   "metadata": {},
   "source": [
    "#### 1.1.1.3 Assigning the missing values to the age feature"
   ]
  },
  {
   "cell_type": "code",
   "execution_count": 280,
   "id": "7174add0",
   "metadata": {},
   "outputs": [],
   "source": [
    "final_dataset[num_features]=imp_val"
   ]
  },
  {
   "cell_type": "markdown",
   "id": "8871b91e",
   "metadata": {},
   "source": [
    "### 1.2 Imputing categorical features"
   ]
  },
  {
   "cell_type": "markdown",
   "id": "976c01c4",
   "metadata": {},
   "source": [
    "#### 1.2.1 Assigning the missing values with most frequent category"
   ]
  },
  {
   "cell_type": "code",
   "execution_count": 281,
   "id": "a63df9be",
   "metadata": {},
   "outputs": [
    {
     "name": "stdout",
     "output_type": "stream",
     "text": [
      "0    F\n",
      "Name: sex, dtype: object\n",
      "0    other\n",
      "Name: referral_source, dtype: object\n",
      "0    negative\n",
      "Name: disease, dtype: object\n"
     ]
    }
   ],
   "source": [
    "for features in cat_features:\n",
    "    print(final_dataset[features].mode())\n",
    "    final_dataset[features]=np.where(final_dataset[features].isnull(),final_dataset[features].mode(),final_dataset[features])"
   ]
  },
  {
   "cell_type": "markdown",
   "id": "b6c1c079",
   "metadata": {},
   "source": [
    "- Checking the null values in dataset"
   ]
  },
  {
   "cell_type": "code",
   "execution_count": 282,
   "id": "867ad5b9",
   "metadata": {},
   "outputs": [
    {
     "data": {
      "text/plain": [
       "age                          0\n",
       "sex                          0\n",
       "on_thyroxine                 0\n",
       "query_on_thyroxine           0\n",
       "on_antithyroid_medication    0\n",
       "sick                         0\n",
       "pregnant                     0\n",
       "thyroid_surgery              0\n",
       "I131_treatment               0\n",
       "query_hypothyroid            0\n",
       "query_hyperthyroid           0\n",
       "lithium                      0\n",
       "goitre                       0\n",
       "tumor                        0\n",
       "hypopituitary                0\n",
       "psych                        0\n",
       "TSH_measured                 0\n",
       "TSH                          0\n",
       "T3_measured                  0\n",
       "T3                           0\n",
       "TT4_measured                 0\n",
       "TT4                          0\n",
       "T4U_measured                 0\n",
       "T4U                          0\n",
       "FTI_measured                 0\n",
       "FTI                          0\n",
       "TBG_measured                 0\n",
       "referral_source              0\n",
       "disease                      0\n",
       "dtype: int64"
      ]
     },
     "execution_count": 282,
     "metadata": {},
     "output_type": "execute_result"
    }
   ],
   "source": [
    "final_dataset.isnull().sum()"
   ]
  },
  {
   "cell_type": "markdown",
   "id": "e254345f",
   "metadata": {},
   "source": [
    "## 2) Performing encoding"
   ]
  },
  {
   "cell_type": "markdown",
   "id": "1a092071",
   "metadata": {},
   "source": [
    "### 2.1 Performing encoding on categorical features"
   ]
  },
  {
   "cell_type": "markdown",
   "id": "d79175d1",
   "metadata": {},
   "source": [
    "- Below code will be used to assign a numeric digit to each unique value in each feature of categorical feature"
   ]
  },
  {
   "cell_type": "code",
   "execution_count": 283,
   "id": "e1871f11",
   "metadata": {},
   "outputs": [
    {
     "name": "stdout",
     "output_type": "stream",
     "text": [
      "{'F': 1, 'M': 2}\n",
      "{'other': 1, 'SVI': 2, 'SVHD': 3, 'SVHC': 4, 'STMW': 5}\n"
     ]
    }
   ],
   "source": [
    "for features in cat_features:\n",
    "    if features!='disease':\n",
    "        cat_encode={val:idx for idx, val in enumerate(final_dataset[features].unique(),start=1)}\n",
    "        print(cat_encode)\n",
    "        final_dataset[features]=final_dataset[features].map(cat_encode)"
   ]
  },
  {
   "cell_type": "markdown",
   "id": "29474d7d",
   "metadata": {},
   "source": [
    "## 3) Handling Rare Classes in disease feature and also classes related to another one"
   ]
  },
  {
   "cell_type": "markdown",
   "id": "24b2b02b",
   "metadata": {},
   "source": [
    "### 3.1 Checking the frequency of each class in disease feature"
   ]
  },
  {
   "cell_type": "code",
   "execution_count": 284,
   "id": "a793bfc0",
   "metadata": {},
   "outputs": [
    {
     "data": {
      "text/plain": [
       "disease\n",
       "negative                   1848\n",
       "compensated hypothyroid      40\n",
       "primary hypothyroid          31\n",
       "hyperthyroid                 17\n",
       "goitre                        5\n",
       "T3 toxic                      2\n",
       "secondary toxic               1\n",
       "Name: count, dtype: int64"
      ]
     },
     "execution_count": 284,
     "metadata": {},
     "output_type": "execute_result"
    }
   ],
   "source": [
    "final_dataset['disease'].value_counts()"
   ]
  },
  {
   "cell_type": "code",
   "execution_count": null,
   "id": "013e34d7",
   "metadata": {},
   "outputs": [],
   "source": []
  },
  {
   "cell_type": "code",
   "execution_count": null,
   "id": "2807d101",
   "metadata": {},
   "outputs": [],
   "source": []
  },
  {
   "cell_type": "markdown",
   "id": "49997b76",
   "metadata": {},
   "source": [
    "### 3.2 Creating dictionary to map extra classes with their relative classes"
   ]
  },
  {
   "cell_type": "code",
   "execution_count": 285,
   "id": "119709cc",
   "metadata": {},
   "outputs": [],
   "source": [
    "disease_features={'hyperthyroid':['hyperthyroid', 'T3 toxic', 'toxic goitre', 'secondary toxic', 'goitre'],\n",
    "                 'hypothyroid':['hypothyroid', 'primary hypothyroid','compensated hypothyroid','secondary hypothyroid'],\n",
    "                 'antithyroid treatment':['antithyroid drugs','I131 treatment','surgery'],\n",
    "                  'replacement therapy': ['consistent with replacement therapy', 'underreplacement', 'overreplacement'],\n",
    "                  'discordant assay results':['discordant'],\n",
    "                  'binding protein': ['increased binding protein', 'decreased binding protein'],\n",
    "                  'miscellaneous': ['discordant assay results'],\n",
    "                  'negative': ['concurrent non-thyroidal illness']\n",
    "                  \n",
    "                 }\n",
    "# 'consistent with replacement therapy decreased binding protein'"
   ]
  },
  {
   "cell_type": "markdown",
   "id": "b0a6f665",
   "metadata": {},
   "source": [
    "### 3.3 Mapping extra classes with their relative classes"
   ]
  },
  {
   "cell_type": "code",
   "execution_count": 286,
   "id": "dc5daf94",
   "metadata": {},
   "outputs": [],
   "source": [
    "for lists in disease_features.values():\n",
    "    for values in lists:\n",
    "        final_dataset['disease']=np.where(final_dataset['disease']==values,list(disease_features.keys())[list(disease_features.values()).index(lists)],final_dataset['disease'])\n",
    "#             print(lists)\n",
    "#             print(disease_features.keys())\n",
    "#             print(list(disease_features.keys())[list(disease_features.values()).index(lists)])"
   ]
  },
  {
   "cell_type": "markdown",
   "id": "99f05c03",
   "metadata": {},
   "source": [
    "### Checking the frequency of each class in disease feature"
   ]
  },
  {
   "cell_type": "code",
   "execution_count": 287,
   "id": "7ed248c8",
   "metadata": {},
   "outputs": [
    {
     "data": {
      "text/plain": [
       "disease\n",
       "negative        1848\n",
       "hypothyroid       71\n",
       "hyperthyroid      25\n",
       "Name: count, dtype: int64"
      ]
     },
     "execution_count": 287,
     "metadata": {},
     "output_type": "execute_result"
    }
   ],
   "source": [
    "final_dataset['disease'].value_counts()"
   ]
  },
  {
   "cell_type": "markdown",
   "id": "a6240f82",
   "metadata": {},
   "source": [
    "#### Combining other categories rather than negative, hyperthyroid or hypothyroid "
   ]
  },
  {
   "cell_type": "code",
   "execution_count": 288,
   "id": "1cf90242",
   "metadata": {},
   "outputs": [],
   "source": [
    "other_categories={ 'other': ['binding protein', 'replacement therapy', 'antithyroid treatment']}"
   ]
  },
  {
   "cell_type": "code",
   "execution_count": 289,
   "id": "eafd84f1",
   "metadata": {},
   "outputs": [],
   "source": [
    "for lists in other_categories.values():\n",
    "    for values in lists:\n",
    "        final_dataset['disease']=np.where(final_dataset['disease']==values,list(other_categories.keys())[list(other_categories.values()).index(lists)],final_dataset['disease'])"
   ]
  },
  {
   "cell_type": "code",
   "execution_count": 290,
   "id": "9e8ccf6d",
   "metadata": {},
   "outputs": [
    {
     "data": {
      "text/plain": [
       "disease\n",
       "negative        1848\n",
       "hypothyroid       71\n",
       "hyperthyroid      25\n",
       "Name: count, dtype: int64"
      ]
     },
     "execution_count": 290,
     "metadata": {},
     "output_type": "execute_result"
    }
   ],
   "source": [
    "final_dataset['disease'].value_counts()"
   ]
  },
  {
   "cell_type": "markdown",
   "id": "777ecb9e",
   "metadata": {},
   "source": [
    "### 3.2 Encoding disease features"
   ]
  },
  {
   "cell_type": "code",
   "execution_count": 291,
   "id": "5184972f",
   "metadata": {},
   "outputs": [],
   "source": [
    "# disease_encoded={cat:idx for idx, cat in enumerate(final_dataset['disease'].unique())}\n",
    "\n",
    "# final_dataset['disease']=final_dataset['disease'].map(disease_encoded)\n",
    "\n",
    "\n",
    "final_dataset['disease']=np.where(final_dataset['disease']=='negative',0,1)"
   ]
  },
  {
   "cell_type": "code",
   "execution_count": 292,
   "id": "f9d17d78",
   "metadata": {},
   "outputs": [],
   "source": [
    "# disease_encoded"
   ]
  },
  {
   "cell_type": "code",
   "execution_count": 293,
   "id": "be5b6280",
   "metadata": {},
   "outputs": [],
   "source": [
    "# disease_encoding={'negative': 1, 'increased binding protein': 2, 'decreased binding protein': 3, \n",
    "#                   'hyperthyroid': 4, 'hypothyroid': 5, 'replacement therapy': 6, 'underreplacement': 7, \n",
    "#                   'overreplacement': 8, 'discordant assay results': 9, 'sick': 10, 'miscellaneous': 11, \n",
    "#                   'concurrent non-thyroidal illness': 12, 'antithyroid treatment': 13}\n",
    "\n",
    "# final_dataset['disease']=final_dataset['disease'].map(disease_encoding)"
   ]
  },
  {
   "cell_type": "code",
   "execution_count": 294,
   "id": "d9b5ec00",
   "metadata": {},
   "outputs": [],
   "source": [
    "# final_dataset['disease']=np.where(final_dataset['disease']=='negative',0,1)"
   ]
  },
  {
   "cell_type": "code",
   "execution_count": 295,
   "id": "1f7081b9",
   "metadata": {},
   "outputs": [
    {
     "data": {
      "text/html": [
       "<div>\n",
       "<style scoped>\n",
       "    .dataframe tbody tr th:only-of-type {\n",
       "        vertical-align: middle;\n",
       "    }\n",
       "\n",
       "    .dataframe tbody tr th {\n",
       "        vertical-align: top;\n",
       "    }\n",
       "\n",
       "    .dataframe thead th {\n",
       "        text-align: right;\n",
       "    }\n",
       "</style>\n",
       "<table border=\"1\" class=\"dataframe\">\n",
       "  <thead>\n",
       "    <tr style=\"text-align: right;\">\n",
       "      <th></th>\n",
       "      <th>age</th>\n",
       "      <th>sex</th>\n",
       "      <th>on_thyroxine</th>\n",
       "      <th>query_on_thyroxine</th>\n",
       "      <th>on_antithyroid_medication</th>\n",
       "      <th>sick</th>\n",
       "      <th>pregnant</th>\n",
       "      <th>thyroid_surgery</th>\n",
       "      <th>I131_treatment</th>\n",
       "      <th>query_hypothyroid</th>\n",
       "      <th>query_hyperthyroid</th>\n",
       "      <th>lithium</th>\n",
       "      <th>goitre</th>\n",
       "      <th>tumor</th>\n",
       "      <th>hypopituitary</th>\n",
       "      <th>psych</th>\n",
       "      <th>TSH_measured</th>\n",
       "      <th>TSH</th>\n",
       "      <th>T3_measured</th>\n",
       "      <th>T3</th>\n",
       "      <th>TT4_measured</th>\n",
       "      <th>TT4</th>\n",
       "      <th>T4U_measured</th>\n",
       "      <th>T4U</th>\n",
       "      <th>FTI_measured</th>\n",
       "      <th>FTI</th>\n",
       "      <th>TBG_measured</th>\n",
       "      <th>referral_source</th>\n",
       "      <th>disease</th>\n",
       "    </tr>\n",
       "  </thead>\n",
       "  <tbody>\n",
       "  </tbody>\n",
       "</table>\n",
       "</div>"
      ],
      "text/plain": [
       "Empty DataFrame\n",
       "Columns: [age, sex, on_thyroxine, query_on_thyroxine, on_antithyroid_medication, sick, pregnant, thyroid_surgery, I131_treatment, query_hypothyroid, query_hyperthyroid, lithium, goitre, tumor, hypopituitary, psych, TSH_measured, TSH, T3_measured, T3, TT4_measured, TT4, T4U_measured, T4U, FTI_measured, FTI, TBG_measured, referral_source, disease]\n",
       "Index: []"
      ]
     },
     "execution_count": 295,
     "metadata": {},
     "output_type": "execute_result"
    }
   ],
   "source": [
    "final_dataset[final_dataset['disease'].isnull()]"
   ]
  },
  {
   "cell_type": "markdown",
   "id": "65ca00f2",
   "metadata": {},
   "source": [
    "### Dropping Unwanted features"
   ]
  },
  {
   "cell_type": "code",
   "execution_count": 296,
   "id": "c2866359",
   "metadata": {},
   "outputs": [],
   "source": [
    "measured_bool_features=[features for features in final_dataset.columns if '_measured' in features]"
   ]
  },
  {
   "cell_type": "code",
   "execution_count": 297,
   "id": "03e24bea",
   "metadata": {},
   "outputs": [],
   "source": [
    "final_dataset.drop(measured_bool_features, axis=1, inplace=True)"
   ]
  },
  {
   "cell_type": "markdown",
   "id": "413457b8",
   "metadata": {},
   "source": [
    "# 5) Feature Selection"
   ]
  },
  {
   "cell_type": "code",
   "execution_count": 298,
   "id": "fa79d586",
   "metadata": {},
   "outputs": [],
   "source": [
    "from sklearn.feature_selection import mutual_info_classif, SelectKBest"
   ]
  },
  {
   "cell_type": "code",
   "execution_count": 299,
   "id": "dc3872e6",
   "metadata": {},
   "outputs": [],
   "source": [
    "best_feature=SelectKBest(mutual_info_classif,k=6)"
   ]
  },
  {
   "cell_type": "code",
   "execution_count": 300,
   "id": "47303d18",
   "metadata": {},
   "outputs": [
    {
     "data": {
      "text/html": [
       "<style>#sk-container-id-4 {color: black;}#sk-container-id-4 pre{padding: 0;}#sk-container-id-4 div.sk-toggleable {background-color: white;}#sk-container-id-4 label.sk-toggleable__label {cursor: pointer;display: block;width: 100%;margin-bottom: 0;padding: 0.3em;box-sizing: border-box;text-align: center;}#sk-container-id-4 label.sk-toggleable__label-arrow:before {content: \"▸\";float: left;margin-right: 0.25em;color: #696969;}#sk-container-id-4 label.sk-toggleable__label-arrow:hover:before {color: black;}#sk-container-id-4 div.sk-estimator:hover label.sk-toggleable__label-arrow:before {color: black;}#sk-container-id-4 div.sk-toggleable__content {max-height: 0;max-width: 0;overflow: hidden;text-align: left;background-color: #f0f8ff;}#sk-container-id-4 div.sk-toggleable__content pre {margin: 0.2em;color: black;border-radius: 0.25em;background-color: #f0f8ff;}#sk-container-id-4 input.sk-toggleable__control:checked~div.sk-toggleable__content {max-height: 200px;max-width: 100%;overflow: auto;}#sk-container-id-4 input.sk-toggleable__control:checked~label.sk-toggleable__label-arrow:before {content: \"▾\";}#sk-container-id-4 div.sk-estimator input.sk-toggleable__control:checked~label.sk-toggleable__label {background-color: #d4ebff;}#sk-container-id-4 div.sk-label input.sk-toggleable__control:checked~label.sk-toggleable__label {background-color: #d4ebff;}#sk-container-id-4 input.sk-hidden--visually {border: 0;clip: rect(1px 1px 1px 1px);clip: rect(1px, 1px, 1px, 1px);height: 1px;margin: -1px;overflow: hidden;padding: 0;position: absolute;width: 1px;}#sk-container-id-4 div.sk-estimator {font-family: monospace;background-color: #f0f8ff;border: 1px dotted black;border-radius: 0.25em;box-sizing: border-box;margin-bottom: 0.5em;}#sk-container-id-4 div.sk-estimator:hover {background-color: #d4ebff;}#sk-container-id-4 div.sk-parallel-item::after {content: \"\";width: 100%;border-bottom: 1px solid gray;flex-grow: 1;}#sk-container-id-4 div.sk-label:hover label.sk-toggleable__label {background-color: #d4ebff;}#sk-container-id-4 div.sk-serial::before {content: \"\";position: absolute;border-left: 1px solid gray;box-sizing: border-box;top: 0;bottom: 0;left: 50%;z-index: 0;}#sk-container-id-4 div.sk-serial {display: flex;flex-direction: column;align-items: center;background-color: white;padding-right: 0.2em;padding-left: 0.2em;position: relative;}#sk-container-id-4 div.sk-item {position: relative;z-index: 1;}#sk-container-id-4 div.sk-parallel {display: flex;align-items: stretch;justify-content: center;background-color: white;position: relative;}#sk-container-id-4 div.sk-item::before, #sk-container-id-4 div.sk-parallel-item::before {content: \"\";position: absolute;border-left: 1px solid gray;box-sizing: border-box;top: 0;bottom: 0;left: 50%;z-index: -1;}#sk-container-id-4 div.sk-parallel-item {display: flex;flex-direction: column;z-index: 1;position: relative;background-color: white;}#sk-container-id-4 div.sk-parallel-item:first-child::after {align-self: flex-end;width: 50%;}#sk-container-id-4 div.sk-parallel-item:last-child::after {align-self: flex-start;width: 50%;}#sk-container-id-4 div.sk-parallel-item:only-child::after {width: 0;}#sk-container-id-4 div.sk-dashed-wrapped {border: 1px dashed gray;margin: 0 0.4em 0.5em 0.4em;box-sizing: border-box;padding-bottom: 0.4em;background-color: white;}#sk-container-id-4 div.sk-label label {font-family: monospace;font-weight: bold;display: inline-block;line-height: 1.2em;}#sk-container-id-4 div.sk-label-container {text-align: center;}#sk-container-id-4 div.sk-container {/* jupyter's `normalize.less` sets `[hidden] { display: none; }` but bootstrap.min.css set `[hidden] { display: none !important; }` so we also need the `!important` here to be able to override the default hidden behavior on the sphinx rendered scikit-learn.org. See: https://github.com/scikit-learn/scikit-learn/issues/21755 */display: inline-block !important;position: relative;}#sk-container-id-4 div.sk-text-repr-fallback {display: none;}</style><div id=\"sk-container-id-4\" class=\"sk-top-container\"><div class=\"sk-text-repr-fallback\"><pre>SelectKBest(k=6,\n",
       "            score_func=&lt;function mutual_info_classif at 0x000001D252218040&gt;)</pre><b>In a Jupyter environment, please rerun this cell to show the HTML representation or trust the notebook. <br />On GitHub, the HTML representation is unable to render, please try loading this page with nbviewer.org.</b></div><div class=\"sk-container\" hidden><div class=\"sk-item\"><div class=\"sk-estimator sk-toggleable\"><input class=\"sk-toggleable__control sk-hidden--visually\" id=\"sk-estimator-id-4\" type=\"checkbox\" checked><label for=\"sk-estimator-id-4\" class=\"sk-toggleable__label sk-toggleable__label-arrow\">SelectKBest</label><div class=\"sk-toggleable__content\"><pre>SelectKBest(k=6,\n",
       "            score_func=&lt;function mutual_info_classif at 0x000001D252218040&gt;)</pre></div></div></div></div></div>"
      ],
      "text/plain": [
       "SelectKBest(k=6,\n",
       "            score_func=<function mutual_info_classif at 0x000001D252218040>)"
      ]
     },
     "execution_count": 300,
     "metadata": {},
     "output_type": "execute_result"
    }
   ],
   "source": [
    "best_feature.fit(final_dataset.iloc[:,:-1],final_dataset['disease'])"
   ]
  },
  {
   "cell_type": "code",
   "execution_count": 301,
   "id": "abe9f393",
   "metadata": {},
   "outputs": [
    {
     "data": {
      "text/plain": [
       "array([False,  True, False, False, False, False, False, False, False,\n",
       "       False, False, False,  True, False, False, False,  True,  True,\n",
       "        True, False,  True, False])"
      ]
     },
     "execution_count": 301,
     "metadata": {},
     "output_type": "execute_result"
    }
   ],
   "source": [
    "best_feature.get_support()"
   ]
  },
  {
   "cell_type": "code",
   "execution_count": 302,
   "id": "c8c0f43c",
   "metadata": {},
   "outputs": [],
   "source": [
    "feature_names=final_dataset.iloc[:,:-1].columns[best_feature.get_support()]"
   ]
  },
  {
   "cell_type": "code",
   "execution_count": 303,
   "id": "e1edf166",
   "metadata": {},
   "outputs": [],
   "source": [
    "X=final_dataset[['age', 'sex', 'TSH', 'T3', 'TT4', 'T4U', 'FTI']]"
   ]
  },
  {
   "cell_type": "code",
   "execution_count": 304,
   "id": "3482cd03",
   "metadata": {},
   "outputs": [],
   "source": [
    "Y=final_dataset['disease']"
   ]
  },
  {
   "cell_type": "markdown",
   "id": "ee69af72",
   "metadata": {},
   "source": [
    "## 6) Data Transformation "
   ]
  },
  {
   "cell_type": "code",
   "execution_count": 305,
   "id": "8e47cb8e",
   "metadata": {},
   "outputs": [],
   "source": [
    "from sklearn.preprocessing import StandardScaler"
   ]
  },
  {
   "cell_type": "code",
   "execution_count": 306,
   "id": "a5482a8b",
   "metadata": {},
   "outputs": [],
   "source": [
    "scale=StandardScaler()"
   ]
  },
  {
   "cell_type": "code",
   "execution_count": 307,
   "id": "0a24551d",
   "metadata": {},
   "outputs": [],
   "source": [
    "trans_x=pd.DataFrame(scale.fit_transform(X), columns=X.columns)"
   ]
  },
  {
   "cell_type": "code",
   "execution_count": 308,
   "id": "4ab6146b",
   "metadata": {},
   "outputs": [],
   "source": [
    "trans_x.to_csv('Processed_testing_data2.csv',index=False)"
   ]
  },
  {
   "cell_type": "code",
   "execution_count": 309,
   "id": "7d03d17c",
   "metadata": {},
   "outputs": [],
   "source": [
    "Y.to_csv('output_testing_data2.csv',index=False)"
   ]
  },
  {
   "cell_type": "code",
   "execution_count": 310,
   "id": "9b3a58a8",
   "metadata": {},
   "outputs": [
    {
     "data": {
      "text/html": [
       "<div>\n",
       "<style scoped>\n",
       "    .dataframe tbody tr th:only-of-type {\n",
       "        vertical-align: middle;\n",
       "    }\n",
       "\n",
       "    .dataframe tbody tr th {\n",
       "        vertical-align: top;\n",
       "    }\n",
       "\n",
       "    .dataframe thead th {\n",
       "        text-align: right;\n",
       "    }\n",
       "</style>\n",
       "<table border=\"1\" class=\"dataframe\">\n",
       "  <thead>\n",
       "    <tr style=\"text-align: right;\">\n",
       "      <th></th>\n",
       "      <th>age</th>\n",
       "      <th>sex</th>\n",
       "      <th>TSH</th>\n",
       "      <th>T3</th>\n",
       "      <th>TT4</th>\n",
       "      <th>T4U</th>\n",
       "      <th>FTI</th>\n",
       "    </tr>\n",
       "  </thead>\n",
       "  <tbody>\n",
       "    <tr>\n",
       "      <th>0</th>\n",
       "      <td>-0.866378</td>\n",
       "      <td>-0.639293</td>\n",
       "      <td>1.543324</td>\n",
       "      <td>-0.349557</td>\n",
       "      <td>-1.204719</td>\n",
       "      <td>0.638624</td>\n",
       "      <td>-1.108246</td>\n",
       "    </tr>\n",
       "    <tr>\n",
       "      <th>1</th>\n",
       "      <td>0.610654</td>\n",
       "      <td>1.564228</td>\n",
       "      <td>-0.087373</td>\n",
       "      <td>0.643906</td>\n",
       "      <td>0.049846</td>\n",
       "      <td>-0.133249</td>\n",
       "      <td>0.112671</td>\n",
       "    </tr>\n",
       "    <tr>\n",
       "      <th>2</th>\n",
       "      <td>-1.393889</td>\n",
       "      <td>-0.639293</td>\n",
       "      <td>-0.051288</td>\n",
       "      <td>0.516539</td>\n",
       "      <td>-1.272230</td>\n",
       "      <td>-0.863400</td>\n",
       "      <td>-1.047200</td>\n",
       "    </tr>\n",
       "    <tr>\n",
       "      <th>3</th>\n",
       "      <td>0.083143</td>\n",
       "      <td>-0.639293</td>\n",
       "      <td>-0.193987</td>\n",
       "      <td>0.134438</td>\n",
       "      <td>1.090628</td>\n",
       "      <td>0.231826</td>\n",
       "      <td>0.967313</td>\n",
       "    </tr>\n",
       "    <tr>\n",
       "      <th>4</th>\n",
       "      <td>2.140437</td>\n",
       "      <td>-0.639293</td>\n",
       "      <td>-0.179225</td>\n",
       "      <td>-0.884499</td>\n",
       "      <td>0.387397</td>\n",
       "      <td>-0.759093</td>\n",
       "      <td>1.028359</td>\n",
       "    </tr>\n",
       "  </tbody>\n",
       "</table>\n",
       "</div>"
      ],
      "text/plain": [
       "        age       sex       TSH        T3       TT4       T4U       FTI\n",
       "0 -0.866378 -0.639293  1.543324 -0.349557 -1.204719  0.638624 -1.108246\n",
       "1  0.610654  1.564228 -0.087373  0.643906  0.049846 -0.133249  0.112671\n",
       "2 -1.393889 -0.639293 -0.051288  0.516539 -1.272230 -0.863400 -1.047200\n",
       "3  0.083143 -0.639293 -0.193987  0.134438  1.090628  0.231826  0.967313\n",
       "4  2.140437 -0.639293 -0.179225 -0.884499  0.387397 -0.759093  1.028359"
      ]
     },
     "execution_count": 310,
     "metadata": {},
     "output_type": "execute_result"
    }
   ],
   "source": [
    "trans_x.head()"
   ]
  },
  {
   "cell_type": "code",
   "execution_count": 311,
   "id": "649e631b",
   "metadata": {},
   "outputs": [
    {
     "data": {
      "text/plain": [
       "(1944, 7)"
      ]
     },
     "execution_count": 311,
     "metadata": {},
     "output_type": "execute_result"
    }
   ],
   "source": [
    "trans_x.shape"
   ]
  },
  {
   "cell_type": "code",
   "execution_count": 312,
   "id": "15ed741b",
   "metadata": {},
   "outputs": [
    {
     "data": {
      "text/plain": [
       "Index(['age', 'sex', 'TSH', 'T3', 'TT4', 'T4U', 'FTI'], dtype='object')"
      ]
     },
     "execution_count": 312,
     "metadata": {},
     "output_type": "execute_result"
    }
   ],
   "source": [
    "trans_x.columns"
   ]
  },
  {
   "cell_type": "code",
   "execution_count": null,
   "id": "be0ceeb4",
   "metadata": {},
   "outputs": [],
   "source": []
  }
 ],
 "metadata": {
  "kernelspec": {
   "display_name": "Python 3 (ipykernel)",
   "language": "python",
   "name": "python3"
  },
  "language_info": {
   "codemirror_mode": {
    "name": "ipython",
    "version": 3
   },
   "file_extension": ".py",
   "mimetype": "text/x-python",
   "name": "python",
   "nbconvert_exporter": "python",
   "pygments_lexer": "ipython3",
   "version": "3.11.5"
  }
 },
 "nbformat": 4,
 "nbformat_minor": 5
}
