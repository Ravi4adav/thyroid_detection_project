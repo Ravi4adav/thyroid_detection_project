{
 "cells": [
  {
   "cell_type": "markdown",
   "id": "bffe999f",
   "metadata": {},
   "source": [
    "# Thyroid Disease Detection\n",
    "\n",
    "##### Life cycle of Thyroid disease Detector\n",
    "- Understanding the problem statement\n",
    "- Data Collection\n",
    "- Data Checks to perform\n",
    "- Exploratory Data Analysis\n",
    "- Data preprocessing\n",
    "- Model Training\n",
    "- Choose best model"
   ]
  },
  {
   "cell_type": "markdown",
   "id": "18418988",
   "metadata": {},
   "source": [
    "## 1) Problem Statement\n",
    "\n",
    "- Thyroid disease is a common cause of medical diagnosis and prediction, with an onset that is difficult to forecast in medical research. The thyroid gland is one of our body's most vital organs. Thyroid hormone releases are responsible for metabolic regulation. Hyperthyroidism and hypothyroidism are one of the two common diseases of the thyroid that releases thyroid hormones in regulating the rate of body's metabolism.The main goal is to predict the estimated risk on a patient's chance of obtaining thyroid disease or not.\n"
   ]
  },
  {
   "cell_type": "markdown",
   "id": "6adf8571",
   "metadata": {},
   "source": [
    "## 2) Data Collection\n",
    "- Dataset Source - https://archive.ics.uci.edu/dataset/102/thyroid+disease\n",
    "- From Garavan Institute\n",
    "- Documentation: as given by Ross Quinlan\n",
    "- 6 databases from the Garavan Institute in Sydney, Australia\n",
    "- Approximately the following for each database:\n",
    "\n",
    "    ** 2800 training (data) instances and 972 test instances\n",
    "    ** Plenty of missing data\n",
    "    ** 29 or so attributes, either Boolean or continuously-valued \n",
    "\n",
    "- 2 additional databases, also from Ross Quinlan, are also here\n",
    "\n",
    "    ** Hypothyroid.data and sick-euthyroid.data\n",
    "    ** Quinlan believes that these databases have been corrupted\n",
    "    ** Their format is highly similar to the other databases \n",
    "\n",
    "- A Thyroid database suited for training ANNs\n",
    "\n",
    "    ** 3 classes\n",
    "    ** 3772 training instances, 3428 testing instances\n",
    "    ** Includes cost data (donated by Peter Turney) "
   ]
  },
  {
   "cell_type": "markdown",
   "id": "3beb2256",
   "metadata": {},
   "source": [
    "### 2.1 Import Required Packages\n",
    "#### Importing Pandas, Numpy, Matplotlib, Seaborn, regular expression and Os Libraries"
   ]
  },
  {
   "cell_type": "code",
   "execution_count": 1,
   "id": "94af5cc7",
   "metadata": {},
   "outputs": [],
   "source": [
    "import matplotlib.pyplot as plt\n",
    "import pandas as pd\n",
    "import seaborn as sns\n",
    "from sklearn.model_selection import train_test_split\n",
    "import numpy as np\n",
    "import os\n",
    "import re"
   ]
  },
  {
   "cell_type": "markdown",
   "id": "779f78a3",
   "metadata": {},
   "source": [
    "### Setting DataFrame max Rows and Columns view\n",
    "- Maximum columns: 5000\n",
    "- Maximum rows: All"
   ]
  },
  {
   "cell_type": "code",
   "execution_count": 2,
   "id": "02623f2a",
   "metadata": {},
   "outputs": [],
   "source": [
    "pd.set_option('display.max_columns',None)\n",
    "pd.set_option('display.max_rows',10000)"
   ]
  },
  {
   "cell_type": "code",
   "execution_count": 3,
   "id": "01388a88",
   "metadata": {},
   "outputs": [],
   "source": [
    "train=pd.read_csv('train.csv')\n",
    "test=pd.read_csv('test.csv')"
   ]
  },
  {
   "cell_type": "code",
   "execution_count": 4,
   "id": "179a9929",
   "metadata": {},
   "outputs": [
    {
     "data": {
      "text/plain": [
       "(6856, 30)"
      ]
     },
     "execution_count": 4,
     "metadata": {},
     "output_type": "execute_result"
    }
   ],
   "source": [
    "train.shape"
   ]
  },
  {
   "cell_type": "code",
   "execution_count": 5,
   "id": "5a3036ca",
   "metadata": {},
   "outputs": [
    {
     "data": {
      "text/plain": [
       "(1715, 30)"
      ]
     },
     "execution_count": 5,
     "metadata": {},
     "output_type": "execute_result"
    }
   ],
   "source": [
    "test.shape"
   ]
  },
  {
   "cell_type": "code",
   "execution_count": 6,
   "id": "7b5d1f3f",
   "metadata": {},
   "outputs": [
    {
     "data": {
      "text/plain": [
       "disease\n",
       "negative                   5713\n",
       "hypothyroid                 652\n",
       "hyperthyroid                249\n",
       "compensated hypothyroid     148\n",
       "primary hypothyroid          73\n",
       "goitre                       10\n",
       "T3 toxic                      9\n",
       "secondary toxic               1\n",
       "disease                       1\n",
       "Name: count, dtype: int64"
      ]
     },
     "execution_count": 6,
     "metadata": {},
     "output_type": "execute_result"
    }
   ],
   "source": [
    "train['disease'].value_counts()"
   ]
  },
  {
   "cell_type": "code",
   "execution_count": 7,
   "id": "40d3d94f",
   "metadata": {},
   "outputs": [],
   "source": [
    "train.drop(train[train['disease']=='disease'].index,inplace=True)\n",
    "test.drop(train[train['disease']=='disease'].index,inplace=True)"
   ]
  },
  {
   "cell_type": "markdown",
   "id": "77ac445f",
   "metadata": {},
   "source": [
    "# Feature Engineering"
   ]
  },
  {
   "cell_type": "markdown",
   "id": "ab8d3e3f",
   "metadata": {},
   "source": [
    "## Dropping duplicate records"
   ]
  },
  {
   "cell_type": "code",
   "execution_count": 8,
   "id": "6494c13c",
   "metadata": {},
   "outputs": [],
   "source": [
    "train.drop_duplicates(inplace=True)\n",
    "test.drop_duplicates(inplace=True)"
   ]
  },
  {
   "cell_type": "code",
   "execution_count": 9,
   "id": "0b5760fe",
   "metadata": {},
   "outputs": [
    {
     "data": {
      "text/plain": [
       "((4591, 30), (1569, 30))"
      ]
     },
     "execution_count": 9,
     "metadata": {},
     "output_type": "execute_result"
    }
   ],
   "source": [
    "train.shape, test.shape"
   ]
  },
  {
   "cell_type": "markdown",
   "id": "002f0ea6",
   "metadata": {},
   "source": [
    "## 1) Imputation of Missing values"
   ]
  },
  {
   "cell_type": "markdown",
   "id": "edf052ae",
   "metadata": {},
   "source": [
    "### 1.1 Imputing numerical features"
   ]
  },
  {
   "cell_type": "markdown",
   "id": "0a570f82",
   "metadata": {},
   "source": [
    "- All the values missing in numerical features like 'TSH', 'T3', 'TT4', 'T4U', 'FTI', 'TBG' are treated as report not ready which is represented by 0 value according to the database theory.\n",
    "- Hence we will impute missing feature with 0, except 'age' feature"
   ]
  },
  {
   "cell_type": "code",
   "execution_count": 10,
   "id": "84e0dbb1",
   "metadata": {},
   "outputs": [],
   "source": [
    "def drop_feature_columns(df,colList):\n",
    "    return df.drop(colList,axis=1)"
   ]
  },
  {
   "cell_type": "code",
   "execution_count": 11,
   "id": "c87b38a3",
   "metadata": {},
   "outputs": [
    {
     "data": {
      "text/plain": [
       "Index(['age', 'disease', 'fti', 'fti_measured', 'goitre', 'hypopituitary',\n",
       "       'i131_treatment', 'lithium', 'on_antithyroid_medication',\n",
       "       'on_thyroxine', 'pregnant', 'psych', 'query_hyperthyroid',\n",
       "       'query_hypothyroid', 'query_on_thyroxine', 'referral_source', 'sex',\n",
       "       'sick', 't3', 't3_measured', 't4u', 't4u_measured', 'tbg',\n",
       "       'tbg_measured', 'thyroid_surgery', 'tsh', 'tsh_measured', 'tt4',\n",
       "       'tt4_measured', 'tumor'],\n",
       "      dtype='object')"
      ]
     },
     "execution_count": 11,
     "metadata": {},
     "output_type": "execute_result"
    }
   ],
   "source": [
    "train.columns"
   ]
  },
  {
   "cell_type": "code",
   "execution_count": 12,
   "id": "a0648f34",
   "metadata": {},
   "outputs": [],
   "source": [
    "train=drop_feature_columns(train,['tbg'])\n",
    "test=drop_feature_columns(test,['tbg'])"
   ]
  },
  {
   "cell_type": "code",
   "execution_count": 13,
   "id": "5aa6c539",
   "metadata": {},
   "outputs": [],
   "source": [
    "def get_num_features(df):\n",
    "    num_features=[features for features in df.columns if df[features].dtypes=='float64']\n",
    "    return num_features"
   ]
  },
  {
   "cell_type": "code",
   "execution_count": 14,
   "id": "01c1ed2a",
   "metadata": {},
   "outputs": [],
   "source": [
    "num_features=get_num_features(train)\n"
   ]
  },
  {
   "cell_type": "markdown",
   "id": "034ab04d",
   "metadata": {},
   "source": [
    "#### 1.1.1 Imputing age numerical feature\n",
    "\n",
    "- Imputing age feature using knn imputer which will calculate the mean value of k closest neighbors mean value\n",
    "\n",
    "\n",
    "#### 1.1.1.1 Importing KNN imputer library"
   ]
  },
  {
   "cell_type": "code",
   "execution_count": 15,
   "id": "abfa4e31",
   "metadata": {},
   "outputs": [],
   "source": [
    "from sklearn.impute import KNNImputer"
   ]
  },
  {
   "cell_type": "markdown",
   "id": "2b2fde94",
   "metadata": {},
   "source": [
    "#### 1.1.1.2 Creating instance of KNNImputer and fit the numerical features"
   ]
  },
  {
   "cell_type": "code",
   "execution_count": 16,
   "id": "b02fb9a0",
   "metadata": {},
   "outputs": [],
   "source": [
    "def num_impute(num_features,df,train_data):\n",
    "    df[num_features]=df[num_features].fillna(0)\n",
    "    return df[num_features]"
   ]
  },
  {
   "cell_type": "code",
   "execution_count": 17,
   "id": "4cf106d5",
   "metadata": {},
   "outputs": [
    {
     "data": {
      "text/html": [
       "<div>\n",
       "<style scoped>\n",
       "    .dataframe tbody tr th:only-of-type {\n",
       "        vertical-align: middle;\n",
       "    }\n",
       "\n",
       "    .dataframe tbody tr th {\n",
       "        vertical-align: top;\n",
       "    }\n",
       "\n",
       "    .dataframe thead th {\n",
       "        text-align: right;\n",
       "    }\n",
       "</style>\n",
       "<table border=\"1\" class=\"dataframe\">\n",
       "  <thead>\n",
       "    <tr style=\"text-align: right;\">\n",
       "      <th></th>\n",
       "      <th>age</th>\n",
       "      <th>disease</th>\n",
       "      <th>fti</th>\n",
       "      <th>fti_measured</th>\n",
       "      <th>goitre</th>\n",
       "      <th>hypopituitary</th>\n",
       "      <th>i131_treatment</th>\n",
       "      <th>lithium</th>\n",
       "      <th>on_antithyroid_medication</th>\n",
       "      <th>on_thyroxine</th>\n",
       "      <th>pregnant</th>\n",
       "      <th>psych</th>\n",
       "      <th>query_hyperthyroid</th>\n",
       "      <th>query_hypothyroid</th>\n",
       "      <th>query_on_thyroxine</th>\n",
       "      <th>referral_source</th>\n",
       "      <th>sex</th>\n",
       "      <th>sick</th>\n",
       "      <th>t3</th>\n",
       "      <th>t3_measured</th>\n",
       "      <th>t4u</th>\n",
       "      <th>t4u_measured</th>\n",
       "      <th>tbg_measured</th>\n",
       "      <th>thyroid_surgery</th>\n",
       "      <th>tsh</th>\n",
       "      <th>tsh_measured</th>\n",
       "      <th>tt4</th>\n",
       "      <th>tt4_measured</th>\n",
       "      <th>tumor</th>\n",
       "    </tr>\n",
       "  </thead>\n",
       "  <tbody>\n",
       "    <tr>\n",
       "      <th>28</th>\n",
       "      <td>36.0</td>\n",
       "      <td>negative</td>\n",
       "      <td>NaN</td>\n",
       "      <td>False</td>\n",
       "      <td>False</td>\n",
       "      <td>False</td>\n",
       "      <td>False</td>\n",
       "      <td>False</td>\n",
       "      <td>False</td>\n",
       "      <td>False</td>\n",
       "      <td>False</td>\n",
       "      <td>False</td>\n",
       "      <td>False</td>\n",
       "      <td>False</td>\n",
       "      <td>False</td>\n",
       "      <td>other</td>\n",
       "      <td>M</td>\n",
       "      <td>True</td>\n",
       "      <td>NaN</td>\n",
       "      <td>False</td>\n",
       "      <td>NaN</td>\n",
       "      <td>False</td>\n",
       "      <td>False</td>\n",
       "      <td>False</td>\n",
       "      <td>NaN</td>\n",
       "      <td>False</td>\n",
       "      <td>NaN</td>\n",
       "      <td>False</td>\n",
       "      <td>False</td>\n",
       "    </tr>\n",
       "    <tr>\n",
       "      <th>36</th>\n",
       "      <td>47.0</td>\n",
       "      <td>negative</td>\n",
       "      <td>NaN</td>\n",
       "      <td>False</td>\n",
       "      <td>False</td>\n",
       "      <td>False</td>\n",
       "      <td>False</td>\n",
       "      <td>False</td>\n",
       "      <td>False</td>\n",
       "      <td>False</td>\n",
       "      <td>False</td>\n",
       "      <td>False</td>\n",
       "      <td>False</td>\n",
       "      <td>False</td>\n",
       "      <td>False</td>\n",
       "      <td>other</td>\n",
       "      <td>M</td>\n",
       "      <td>False</td>\n",
       "      <td>NaN</td>\n",
       "      <td>False</td>\n",
       "      <td>NaN</td>\n",
       "      <td>False</td>\n",
       "      <td>False</td>\n",
       "      <td>False</td>\n",
       "      <td>NaN</td>\n",
       "      <td>False</td>\n",
       "      <td>NaN</td>\n",
       "      <td>False</td>\n",
       "      <td>False</td>\n",
       "    </tr>\n",
       "    <tr>\n",
       "      <th>44</th>\n",
       "      <td>52.0</td>\n",
       "      <td>negative</td>\n",
       "      <td>NaN</td>\n",
       "      <td>False</td>\n",
       "      <td>False</td>\n",
       "      <td>False</td>\n",
       "      <td>False</td>\n",
       "      <td>False</td>\n",
       "      <td>False</td>\n",
       "      <td>True</td>\n",
       "      <td>False</td>\n",
       "      <td>False</td>\n",
       "      <td>False</td>\n",
       "      <td>False</td>\n",
       "      <td>False</td>\n",
       "      <td>other</td>\n",
       "      <td>F</td>\n",
       "      <td>False</td>\n",
       "      <td>NaN</td>\n",
       "      <td>False</td>\n",
       "      <td>NaN</td>\n",
       "      <td>False</td>\n",
       "      <td>False</td>\n",
       "      <td>False</td>\n",
       "      <td>NaN</td>\n",
       "      <td>False</td>\n",
       "      <td>NaN</td>\n",
       "      <td>False</td>\n",
       "      <td>False</td>\n",
       "    </tr>\n",
       "    <tr>\n",
       "      <th>68</th>\n",
       "      <td>40.0</td>\n",
       "      <td>negative</td>\n",
       "      <td>NaN</td>\n",
       "      <td>False</td>\n",
       "      <td>False</td>\n",
       "      <td>False</td>\n",
       "      <td>False</td>\n",
       "      <td>False</td>\n",
       "      <td>False</td>\n",
       "      <td>False</td>\n",
       "      <td>False</td>\n",
       "      <td>False</td>\n",
       "      <td>False</td>\n",
       "      <td>False</td>\n",
       "      <td>False</td>\n",
       "      <td>other</td>\n",
       "      <td>F</td>\n",
       "      <td>False</td>\n",
       "      <td>NaN</td>\n",
       "      <td>False</td>\n",
       "      <td>NaN</td>\n",
       "      <td>False</td>\n",
       "      <td>False</td>\n",
       "      <td>False</td>\n",
       "      <td>NaN</td>\n",
       "      <td>False</td>\n",
       "      <td>NaN</td>\n",
       "      <td>False</td>\n",
       "      <td>False</td>\n",
       "    </tr>\n",
       "    <tr>\n",
       "      <th>90</th>\n",
       "      <td>77.0</td>\n",
       "      <td>negative</td>\n",
       "      <td>NaN</td>\n",
       "      <td>False</td>\n",
       "      <td>False</td>\n",
       "      <td>False</td>\n",
       "      <td>False</td>\n",
       "      <td>False</td>\n",
       "      <td>False</td>\n",
       "      <td>False</td>\n",
       "      <td>False</td>\n",
       "      <td>False</td>\n",
       "      <td>False</td>\n",
       "      <td>False</td>\n",
       "      <td>False</td>\n",
       "      <td>other</td>\n",
       "      <td>F</td>\n",
       "      <td>False</td>\n",
       "      <td>2.6</td>\n",
       "      <td>True</td>\n",
       "      <td>NaN</td>\n",
       "      <td>False</td>\n",
       "      <td>False</td>\n",
       "      <td>False</td>\n",
       "      <td>NaN</td>\n",
       "      <td>False</td>\n",
       "      <td>NaN</td>\n",
       "      <td>False</td>\n",
       "      <td>False</td>\n",
       "    </tr>\n",
       "  </tbody>\n",
       "</table>\n",
       "</div>"
      ],
      "text/plain": [
       "     age   disease  fti fti_measured goitre hypopituitary i131_treatment  \\\n",
       "28  36.0  negative  NaN        False  False         False          False   \n",
       "36  47.0  negative  NaN        False  False         False          False   \n",
       "44  52.0  negative  NaN        False  False         False          False   \n",
       "68  40.0  negative  NaN        False  False         False          False   \n",
       "90  77.0  negative  NaN        False  False         False          False   \n",
       "\n",
       "   lithium on_antithyroid_medication on_thyroxine pregnant  psych  \\\n",
       "28   False                     False        False    False  False   \n",
       "36   False                     False        False    False  False   \n",
       "44   False                     False         True    False  False   \n",
       "68   False                     False        False    False  False   \n",
       "90   False                     False        False    False  False   \n",
       "\n",
       "   query_hyperthyroid query_hypothyroid query_on_thyroxine referral_source  \\\n",
       "28              False             False              False           other   \n",
       "36              False             False              False           other   \n",
       "44              False             False              False           other   \n",
       "68              False             False              False           other   \n",
       "90              False             False              False           other   \n",
       "\n",
       "   sex   sick   t3 t3_measured  t4u t4u_measured tbg_measured thyroid_surgery  \\\n",
       "28   M   True  NaN       False  NaN        False        False           False   \n",
       "36   M  False  NaN       False  NaN        False        False           False   \n",
       "44   F  False  NaN       False  NaN        False        False           False   \n",
       "68   F  False  NaN       False  NaN        False        False           False   \n",
       "90   F  False  2.6        True  NaN        False        False           False   \n",
       "\n",
       "    tsh tsh_measured  tt4 tt4_measured  tumor  \n",
       "28  NaN        False  NaN        False  False  \n",
       "36  NaN        False  NaN        False  False  \n",
       "44  NaN        False  NaN        False  False  \n",
       "68  NaN        False  NaN        False  False  \n",
       "90  NaN        False  NaN        False  False  "
      ]
     },
     "execution_count": 17,
     "metadata": {},
     "output_type": "execute_result"
    }
   ],
   "source": [
    "train[train['tt4'].isnull()].head()"
   ]
  },
  {
   "cell_type": "markdown",
   "id": "26ed73f4",
   "metadata": {},
   "source": [
    "#### 1.1.1.3 Assigning the missing values to the numeric feature"
   ]
  },
  {
   "cell_type": "code",
   "execution_count": 18,
   "id": "1e771687",
   "metadata": {},
   "outputs": [],
   "source": [
    "train[num_features]=num_impute(num_features,train,train)"
   ]
  },
  {
   "cell_type": "code",
   "execution_count": 19,
   "id": "2c80c914",
   "metadata": {},
   "outputs": [],
   "source": [
    "test[num_features]=num_impute(num_features,test,train)"
   ]
  },
  {
   "cell_type": "markdown",
   "id": "3f0e7c87",
   "metadata": {},
   "source": [
    "### 1.2 Imputing categorical features"
   ]
  },
  {
   "cell_type": "markdown",
   "id": "d3920c2e",
   "metadata": {},
   "source": [
    "#### 1.2.1 Assigning the missing values with most frequent category"
   ]
  },
  {
   "cell_type": "code",
   "execution_count": 20,
   "id": "211be47b",
   "metadata": {},
   "outputs": [],
   "source": [
    "def get_cat_features(df):\n",
    "    cat_features=[features for features in df.columns if df[features].dtypes=='object']\n",
    "    return cat_features"
   ]
  },
  {
   "cell_type": "code",
   "execution_count": 21,
   "id": "4203f824",
   "metadata": {},
   "outputs": [],
   "source": [
    "cat_features=get_cat_features(train)"
   ]
  },
  {
   "cell_type": "code",
   "execution_count": 22,
   "id": "1cc098ba",
   "metadata": {
    "scrolled": true
   },
   "outputs": [
    {
     "data": {
      "text/plain": [
       "['disease',\n",
       " 'fti_measured',\n",
       " 'goitre',\n",
       " 'hypopituitary',\n",
       " 'i131_treatment',\n",
       " 'lithium',\n",
       " 'on_antithyroid_medication',\n",
       " 'on_thyroxine',\n",
       " 'pregnant',\n",
       " 'psych',\n",
       " 'query_hyperthyroid',\n",
       " 'query_hypothyroid',\n",
       " 'query_on_thyroxine',\n",
       " 'referral_source',\n",
       " 'sex',\n",
       " 'sick',\n",
       " 't3_measured',\n",
       " 't4u_measured',\n",
       " 'tbg_measured',\n",
       " 'thyroid_surgery',\n",
       " 'tsh_measured',\n",
       " 'tt4_measured',\n",
       " 'tumor']"
      ]
     },
     "execution_count": 22,
     "metadata": {},
     "output_type": "execute_result"
    }
   ],
   "source": [
    "cat_features"
   ]
  },
  {
   "cell_type": "code",
   "execution_count": 23,
   "id": "13872096",
   "metadata": {},
   "outputs": [],
   "source": [
    "def cat_impute(colList,df):\n",
    "    for features in colList:\n",
    "        df[features]=np.where(df[features].isnull(),df[features].mode(),df[features])\n",
    "    return df"
   ]
  },
  {
   "cell_type": "code",
   "execution_count": 24,
   "id": "fc9d7cfc",
   "metadata": {},
   "outputs": [],
   "source": [
    "train=cat_impute(cat_features,train)\n",
    "test=cat_impute(cat_features,test)"
   ]
  },
  {
   "cell_type": "markdown",
   "id": "c0a14298",
   "metadata": {},
   "source": [
    "## 2) Performing encoding on boolean features"
   ]
  },
  {
   "cell_type": "code",
   "execution_count": 25,
   "id": "30b36d42",
   "metadata": {},
   "outputs": [],
   "source": [
    "cat_features=['sex','referral_source','disease']"
   ]
  },
  {
   "cell_type": "code",
   "execution_count": 26,
   "id": "e1d4a258",
   "metadata": {},
   "outputs": [],
   "source": [
    "bool_features=[features for features in train.columns if train[features].dtypes=='object' and features not in cat_features]"
   ]
  },
  {
   "cell_type": "code",
   "execution_count": 27,
   "id": "0c97169a",
   "metadata": {},
   "outputs": [
    {
     "data": {
      "text/plain": [
       "['fti_measured',\n",
       " 'goitre',\n",
       " 'hypopituitary',\n",
       " 'i131_treatment',\n",
       " 'lithium',\n",
       " 'on_antithyroid_medication',\n",
       " 'on_thyroxine',\n",
       " 'pregnant',\n",
       " 'psych',\n",
       " 'query_hyperthyroid',\n",
       " 'query_hypothyroid',\n",
       " 'query_on_thyroxine',\n",
       " 'sick',\n",
       " 't3_measured',\n",
       " 't4u_measured',\n",
       " 'tbg_measured',\n",
       " 'thyroid_surgery',\n",
       " 'tsh_measured',\n",
       " 'tt4_measured',\n",
       " 'tumor']"
      ]
     },
     "execution_count": 27,
     "metadata": {},
     "output_type": "execute_result"
    }
   ],
   "source": [
    "bool_features"
   ]
  },
  {
   "cell_type": "markdown",
   "id": "5318fc90",
   "metadata": {},
   "source": [
    "### 2.2 Performing encoding on categorical features"
   ]
  },
  {
   "cell_type": "markdown",
   "id": "3334e870",
   "metadata": {},
   "source": [
    "- Below code will be used to assign a numeric digit to each unique value in each feature of categorical feature"
   ]
  },
  {
   "cell_type": "code",
   "execution_count": 28,
   "id": "703b90de",
   "metadata": {},
   "outputs": [],
   "source": [
    "def cat_encoding(df,colList, target_feature):\n",
    "    for features in colList:\n",
    "        if features!=target_feature:\n",
    "            cat_encode={val:idx for idx,val in enumerate(np.sort(df[features].unique()),start=1)}\n",
    "            print(cat_encode)\n",
    "            df[features]=df[features].map(cat_encode)\n",
    "    return df"
   ]
  },
  {
   "cell_type": "code",
   "execution_count": 29,
   "id": "daaddcda",
   "metadata": {},
   "outputs": [
    {
     "name": "stdout",
     "output_type": "stream",
     "text": [
      "{'F': 1, 'M': 2}\n",
      "{'STMW': 1, 'SVHC': 2, 'SVHD': 3, 'SVI': 4, 'other': 5}\n",
      "{'F': 1, 'M': 2}\n",
      "{'STMW': 1, 'SVHC': 2, 'SVHD': 3, 'SVI': 4, 'other': 5}\n"
     ]
    }
   ],
   "source": [
    "train=cat_encoding(train,cat_features,'disease')\n",
    "test=cat_encoding(test,cat_features,'disease')"
   ]
  },
  {
   "cell_type": "markdown",
   "id": "f40d8bf7",
   "metadata": {},
   "source": [
    "## 3) Handling Rare Classes in disease feature and also classes related to another one"
   ]
  },
  {
   "cell_type": "markdown",
   "id": "faf19dc7",
   "metadata": {},
   "source": [
    "### 3.1 Checking the frequency of each class in disease feature"
   ]
  },
  {
   "cell_type": "code",
   "execution_count": 30,
   "id": "4fa27c55",
   "metadata": {
    "scrolled": true
   },
   "outputs": [
    {
     "data": {
      "text/plain": [
       "disease\n",
       "negative                   3505\n",
       "hypothyroid                 647\n",
       "hyperthyroid                198\n",
       "compensated hypothyroid     148\n",
       "primary hypothyroid          73\n",
       "goitre                       10\n",
       "T3 toxic                      9\n",
       "secondary toxic               1\n",
       "Name: count, dtype: int64"
      ]
     },
     "execution_count": 30,
     "metadata": {},
     "output_type": "execute_result"
    }
   ],
   "source": [
    "train['disease'].value_counts()"
   ]
  },
  {
   "cell_type": "markdown",
   "id": "ba9930b6",
   "metadata": {},
   "source": [
    "- primary hypothyroid (297) ---> primary hypothyroid concurrent non-thyroidal illness (6) = 303\n",
    "- underreplaced (111) --> underreplacement (35) + underreplaced increased binding protein (2) = 148\n",
    "- overreplaced (110) --> overreplacement (23) + replacement therapy (29) + consistent with replacement therapy decreased binding protein (1) = 163\n",
    "- increased binding protein (470) ---> antithyroid drugs increased binding protein (1) + antithyroid drugs (14) + compensated hypothyroid increased binding protein (10)= 485\n",
    "- secondary toxic (8) ---> secondary toxic  | discordant assay results (1) = 9\n",
    "- discordant assay results (196) ---> secondary toxic  | discordant assay results (1) + discordant (45) = 242\n",
    "- decreased binding protein (39) ---> compensated hypothyroid concurrent non-thyroidal illness decreased binding protein (1) = 40"
   ]
  },
  {
   "cell_type": "markdown",
   "id": "19eade84",
   "metadata": {},
   "source": [
    "### 3.2 Creating dictionary to map extra classes with their relative classes"
   ]
  },
  {
   "cell_type": "code",
   "execution_count": 31,
   "id": "b561784e",
   "metadata": {},
   "outputs": [],
   "source": [
    "disease_features={'hyperthyroid':['hyperthyroid', 'T3 toxic', 'toxic goitre', 'secondary toxic', 'goitre'],\n",
    "                 'hypothyroid':['hypothyroid', 'primary hypothyroid','compensated hypothyroid','secondary hypothyroid'],\n",
    "                 'antithyroid treatment':['antithyroid drugs','I131 treatment','surgery'],\n",
    "                  'replacement therapy': ['consistent with replacement therapy', 'underreplacement', 'overreplacement'],\n",
    "                  'discordant assay results':['discordant'],\n",
    "                  'binding protein': ['increased binding protein', 'decreased binding protein'],\n",
    "                  'miscellaneous': ['discordant assay results'],\n",
    "                  'negative': ['concurrent non-thyroidal illness']\n",
    "                  \n",
    "                 }"
   ]
  },
  {
   "cell_type": "markdown",
   "id": "3855b59c",
   "metadata": {},
   "source": [
    "### 3.3 Mapping extra classes with their relative classes"
   ]
  },
  {
   "cell_type": "code",
   "execution_count": 32,
   "id": "58c703a0",
   "metadata": {},
   "outputs": [],
   "source": [
    "def merge_value(df, mapping_dict):\n",
    "    for lists in mapping_dict.values():\n",
    "        for values in lists:\n",
    "            df['disease']=np.where(df['disease']==values,list(mapping_dict.keys())[list(mapping_dict.values()).index(lists)],df['disease'])\n",
    "    return df"
   ]
  },
  {
   "cell_type": "code",
   "execution_count": 33,
   "id": "94ac6d95",
   "metadata": {},
   "outputs": [],
   "source": [
    "train=merge_value(train,disease_features)\n",
    "test=merge_value(test,disease_features)"
   ]
  },
  {
   "cell_type": "markdown",
   "id": "fb2e36e5",
   "metadata": {},
   "source": [
    "### 3.4 Checking frequency of each class after mapping"
   ]
  },
  {
   "cell_type": "code",
   "execution_count": 34,
   "id": "a4cff987",
   "metadata": {},
   "outputs": [
    {
     "data": {
      "text/plain": [
       "disease\n",
       "negative        3505\n",
       "hypothyroid      868\n",
       "hyperthyroid     218\n",
       "Name: count, dtype: int64"
      ]
     },
     "execution_count": 34,
     "metadata": {},
     "output_type": "execute_result"
    }
   ],
   "source": [
    "train['disease'].value_counts()"
   ]
  },
  {
   "cell_type": "markdown",
   "id": "c7efedda",
   "metadata": {},
   "source": [
    "### Dropping Unwanted features"
   ]
  },
  {
   "cell_type": "code",
   "execution_count": 35,
   "id": "2a33a321",
   "metadata": {},
   "outputs": [
    {
     "data": {
      "text/plain": [
       "['fti_measured',\n",
       " 't3_measured',\n",
       " 't4u_measured',\n",
       " 'tbg_measured',\n",
       " 'tsh_measured',\n",
       " 'tt4_measured']"
      ]
     },
     "execution_count": 35,
     "metadata": {},
     "output_type": "execute_result"
    }
   ],
   "source": [
    "measured_bool_features=[features for features in train.columns if '_measured' in features]\n",
    "measured_bool_features"
   ]
  },
  {
   "cell_type": "code",
   "execution_count": 36,
   "id": "cff2d9f8",
   "metadata": {},
   "outputs": [],
   "source": [
    "# final_dataset.drop(measured_bool_features+['referral_source'], axis=1, inplace=True)\n",
    "train=drop_feature_columns(train,measured_bool_features)\n",
    "test=drop_feature_columns(test,measured_bool_features)"
   ]
  },
  {
   "cell_type": "markdown",
   "id": "1f0dbb9d",
   "metadata": {},
   "source": [
    "### Encoding the disease categories"
   ]
  },
  {
   "cell_type": "code",
   "execution_count": 37,
   "id": "7bb192c3",
   "metadata": {},
   "outputs": [],
   "source": [
    "def encode_target_feature(df,target_feature_name):\n",
    "    df[target_feature_name]=np.where(df[target_feature_name]=='negative', 0,1)\n",
    "    return df"
   ]
  },
  {
   "cell_type": "code",
   "execution_count": 38,
   "id": "2d431bc7",
   "metadata": {},
   "outputs": [],
   "source": [
    "train=encode_target_feature(train,'disease')\n",
    "test=encode_target_feature(test,'disease')"
   ]
  },
  {
   "cell_type": "markdown",
   "id": "339a9824",
   "metadata": {},
   "source": [
    "- All outliers may also useful in detection of disease category hence outlier removal is not necessary"
   ]
  },
  {
   "cell_type": "code",
   "execution_count": 39,
   "id": "d8c0fed6",
   "metadata": {},
   "outputs": [
    {
     "data": {
      "text/plain": [
       "disease\n",
       "0    3505\n",
       "1    1086\n",
       "Name: count, dtype: int64"
      ]
     },
     "execution_count": 39,
     "metadata": {},
     "output_type": "execute_result"
    }
   ],
   "source": [
    "train['disease'].value_counts()"
   ]
  },
  {
   "cell_type": "code",
   "execution_count": 40,
   "id": "a0738d7a",
   "metadata": {},
   "outputs": [
    {
     "data": {
      "text/plain": [
       "<Axes: xlabel='disease', ylabel='count'>"
      ]
     },
     "execution_count": 40,
     "metadata": {},
     "output_type": "execute_result"
    },
    {
     "data": {
      "image/png": "[encoded data removed]",
      "text/plain": [
       "<Figure size 640x480 with 1 Axes>"
      ]
     },
     "metadata": {},
     "output_type": "display_data"
    }
   ],
   "source": [
    "sns.countplot(data=train,x=train['disease'],hue='disease')"
   ]
  },
  {
   "cell_type": "markdown",
   "id": "db9991d3",
   "metadata": {},
   "source": [
    "## 4) Handling imbalanced dataset"
   ]
  },
  {
   "cell_type": "markdown",
   "id": "f86956ee",
   "metadata": {},
   "source": [
    "- Due to very high frequency of negative class in disease feature the data gets highly imbalanced.\n",
    "- Now this highly imbalanced data may reduce the precision and recall value of all classes other than negative class.\n",
    "- So, to avoid this we might have to balance the frequency of other classes also"
   ]
  },
  {
   "cell_type": "markdown",
   "id": "53d40708",
   "metadata": {},
   "source": [
    "### 4.1 Importing the library to oversample the Data\n",
    "- smote library\n",
    "- counter library"
   ]
  },
  {
   "cell_type": "code",
   "execution_count": 41,
   "id": "825f5581",
   "metadata": {},
   "outputs": [],
   "source": [
    "# from collections import Counter\n",
    "# from imblearn.over_sampling import SMOTE, RandomOverSampler\n",
    "# from imblearn.combine import SMOTETomek\n",
    "# from imblearn.under_sampling import NearMiss"
   ]
  },
  {
   "cell_type": "code",
   "execution_count": 42,
   "id": "ab9a80d3",
   "metadata": {},
   "outputs": [],
   "source": [
    "# def oversample_data(df, target_feature_name):\n",
    "#     smote=SMOTE(sampling_strategy='not majority',k_neighbors=4)\n",
    "#     smote=SMOTETomek(sampling_strategy='not minority', random_state=0,smote=smote)\n",
    "\n",
    "#     ros=RandomOverSampler(sampling_strategy='not majority')\n",
    "#     x,y=smote.fit_resample(df.iloc[:,:-1],df[target_feature_name])\n",
    "    \n",
    "#     return x,y"
   ]
  },
  {
   "cell_type": "code",
   "execution_count": 43,
   "id": "a46357f4",
   "metadata": {},
   "outputs": [],
   "source": [
    "# print('Original dataset shape %s' % Counter(train['disease']))\n",
    "# # x,y=smote.fit_resample(final_dataset.iloc[:,:-1],final_dataset['disease'])\n",
    "\n",
    "# x,y=oversample_data(train,'disease')\n",
    "\n",
    "# # x,y=us.fit_resample(final_dataset.iloc[:,:-1],final_dataset['disease'])\n",
    "# print('Resampled dataset shape %s' % Counter(y))"
   ]
  },
  {
   "cell_type": "code",
   "execution_count": 44,
   "id": "c8eb62cf",
   "metadata": {},
   "outputs": [],
   "source": [
    "# X=pd.DataFrame(x)\n",
    "# Y=pd.DataFrame(y)"
   ]
  },
  {
   "cell_type": "code",
   "execution_count": 45,
   "id": "d8879d5d",
   "metadata": {},
   "outputs": [],
   "source": [
    "# balanced_dataset=pd.concat([X,Y],axis=1)\n",
    "# train=balanced_dataset"
   ]
  },
  {
   "cell_type": "code",
   "execution_count": 46,
   "id": "4337e8f1",
   "metadata": {},
   "outputs": [],
   "source": [
    "# X.shape"
   ]
  },
  {
   "cell_type": "markdown",
   "id": "b871cb91",
   "metadata": {},
   "source": [
    "# 5) Feature Selection"
   ]
  },
  {
   "cell_type": "code",
   "execution_count": 47,
   "id": "72e3799f",
   "metadata": {},
   "outputs": [],
   "source": [
    "from sklearn.feature_selection import mutual_info_classif, SelectKBest"
   ]
  },
  {
   "cell_type": "code",
   "execution_count": 48,
   "id": "acb3c1bf",
   "metadata": {},
   "outputs": [],
   "source": [
    "def best_feature(x,y):\n",
    "    best_feature=SelectKBest(mutual_info_classif,k=4)\n",
    "    best_feature.fit(x,y)\n",
    "    feature_names=x.columns[best_feature.get_support()]\n",
    "    return feature_names"
   ]
  },
  {
   "cell_type": "code",
   "execution_count": 49,
   "id": "e5e28d7d",
   "metadata": {},
   "outputs": [],
   "source": [
    "train_output=train['disease']\n",
    "train=train.drop('disease',axis=1)"
   ]
  },
  {
   "cell_type": "code",
   "execution_count": 50,
   "id": "98b39933",
   "metadata": {},
   "outputs": [],
   "source": [
    "test_output=test['disease']\n",
    "test=test.drop('disease',axis=1)"
   ]
  },
  {
   "cell_type": "code",
   "execution_count": 51,
   "id": "caf095e4",
   "metadata": {},
   "outputs": [],
   "source": [
    "feature_names=best_feature(train,train_output)"
   ]
  },
  {
   "cell_type": "code",
   "execution_count": 52,
   "id": "9698c696",
   "metadata": {},
   "outputs": [],
   "source": [
    "train=train[feature_names]"
   ]
  },
  {
   "cell_type": "code",
   "execution_count": 53,
   "id": "8eb779f9",
   "metadata": {},
   "outputs": [
    {
     "data": {
      "text/html": [
       "<div>\n",
       "<style scoped>\n",
       "    .dataframe tbody tr th:only-of-type {\n",
       "        vertical-align: middle;\n",
       "    }\n",
       "\n",
       "    .dataframe tbody tr th {\n",
       "        vertical-align: top;\n",
       "    }\n",
       "\n",
       "    .dataframe thead th {\n",
       "        text-align: right;\n",
       "    }\n",
       "</style>\n",
       "<table border=\"1\" class=\"dataframe\">\n",
       "  <thead>\n",
       "    <tr style=\"text-align: right;\">\n",
       "      <th></th>\n",
       "      <th>fti</th>\n",
       "      <th>t3</th>\n",
       "      <th>tsh</th>\n",
       "      <th>tt4</th>\n",
       "    </tr>\n",
       "  </thead>\n",
       "  <tbody>\n",
       "    <tr>\n",
       "      <th>0</th>\n",
       "      <td>95.0</td>\n",
       "      <td>0.0</td>\n",
       "      <td>1.40</td>\n",
       "      <td>87.0</td>\n",
       "    </tr>\n",
       "    <tr>\n",
       "      <th>1</th>\n",
       "      <td>86.0</td>\n",
       "      <td>1.9</td>\n",
       "      <td>0.90</td>\n",
       "      <td>72.0</td>\n",
       "    </tr>\n",
       "    <tr>\n",
       "      <th>2</th>\n",
       "      <td>95.0</td>\n",
       "      <td>0.0</td>\n",
       "      <td>6.90</td>\n",
       "      <td>85.0</td>\n",
       "    </tr>\n",
       "    <tr>\n",
       "      <th>3</th>\n",
       "      <td>13.0</td>\n",
       "      <td>0.3</td>\n",
       "      <td>11.00</td>\n",
       "      <td>13.0</td>\n",
       "    </tr>\n",
       "    <tr>\n",
       "      <th>4</th>\n",
       "      <td>130.0</td>\n",
       "      <td>1.4</td>\n",
       "      <td>0.75</td>\n",
       "      <td>112.0</td>\n",
       "    </tr>\n",
       "  </tbody>\n",
       "</table>\n",
       "</div>"
      ],
      "text/plain": [
       "     fti   t3    tsh    tt4\n",
       "0   95.0  0.0   1.40   87.0\n",
       "1   86.0  1.9   0.90   72.0\n",
       "2   95.0  0.0   6.90   85.0\n",
       "3   13.0  0.3  11.00   13.0\n",
       "4  130.0  1.4   0.75  112.0"
      ]
     },
     "execution_count": 53,
     "metadata": {},
     "output_type": "execute_result"
    }
   ],
   "source": [
    "train.head()"
   ]
  },
  {
   "cell_type": "code",
   "execution_count": 54,
   "id": "a1897f19",
   "metadata": {},
   "outputs": [],
   "source": [
    "test=test[feature_names]"
   ]
  },
  {
   "cell_type": "code",
   "execution_count": 55,
   "id": "a2a0bb87",
   "metadata": {},
   "outputs": [
    {
     "data": {
      "text/html": [
       "<div>\n",
       "<style scoped>\n",
       "    .dataframe tbody tr th:only-of-type {\n",
       "        vertical-align: middle;\n",
       "    }\n",
       "\n",
       "    .dataframe tbody tr th {\n",
       "        vertical-align: top;\n",
       "    }\n",
       "\n",
       "    .dataframe thead th {\n",
       "        text-align: right;\n",
       "    }\n",
       "</style>\n",
       "<table border=\"1\" class=\"dataframe\">\n",
       "  <thead>\n",
       "    <tr style=\"text-align: right;\">\n",
       "      <th></th>\n",
       "      <th>fti</th>\n",
       "      <th>t3</th>\n",
       "      <th>tsh</th>\n",
       "      <th>tt4</th>\n",
       "    </tr>\n",
       "  </thead>\n",
       "  <tbody>\n",
       "    <tr>\n",
       "      <th>0</th>\n",
       "      <td>0.0</td>\n",
       "      <td>0.0</td>\n",
       "      <td>0.00</td>\n",
       "      <td>0.0</td>\n",
       "    </tr>\n",
       "    <tr>\n",
       "      <th>1</th>\n",
       "      <td>126.0</td>\n",
       "      <td>3.0</td>\n",
       "      <td>0.36</td>\n",
       "      <td>131.0</td>\n",
       "    </tr>\n",
       "    <tr>\n",
       "      <th>2</th>\n",
       "      <td>153.0</td>\n",
       "      <td>1.5</td>\n",
       "      <td>1.00</td>\n",
       "      <td>121.0</td>\n",
       "    </tr>\n",
       "    <tr>\n",
       "      <th>3</th>\n",
       "      <td>138.0</td>\n",
       "      <td>1.3</td>\n",
       "      <td>2.00</td>\n",
       "      <td>124.0</td>\n",
       "    </tr>\n",
       "    <tr>\n",
       "      <th>4</th>\n",
       "      <td>118.0</td>\n",
       "      <td>0.0</td>\n",
       "      <td>0.40</td>\n",
       "      <td>142.0</td>\n",
       "    </tr>\n",
       "  </tbody>\n",
       "</table>\n",
       "</div>"
      ],
      "text/plain": [
       "     fti   t3   tsh    tt4\n",
       "0    0.0  0.0  0.00    0.0\n",
       "1  126.0  3.0  0.36  131.0\n",
       "2  153.0  1.5  1.00  121.0\n",
       "3  138.0  1.3  2.00  124.0\n",
       "4  118.0  0.0  0.40  142.0"
      ]
     },
     "execution_count": 55,
     "metadata": {},
     "output_type": "execute_result"
    }
   ],
   "source": [
    "test.head()"
   ]
  },
  {
   "cell_type": "markdown",
   "id": "140711f7",
   "metadata": {},
   "source": [
    "## 6) Data Transformation "
   ]
  },
  {
   "cell_type": "code",
   "execution_count": 56,
   "id": "2ddc5cf0",
   "metadata": {},
   "outputs": [],
   "source": [
    "from sklearn.preprocessing import StandardScaler"
   ]
  },
  {
   "cell_type": "code",
   "execution_count": 57,
   "id": "8e53cb72",
   "metadata": {},
   "outputs": [
    {
     "data": {
      "text/html": [
       "<style>#sk-container-id-1 {color: black;}#sk-container-id-1 pre{padding: 0;}#sk-container-id-1 div.sk-toggleable {background-color: white;}#sk-container-id-1 label.sk-toggleable__label {cursor: pointer;display: block;width: 100%;margin-bottom: 0;padding: 0.3em;box-sizing: border-box;text-align: center;}#sk-container-id-1 label.sk-toggleable__label-arrow:before {content: \"▸\";float: left;margin-right: 0.25em;color: #696969;}#sk-container-id-1 label.sk-toggleable__label-arrow:hover:before {color: black;}#sk-container-id-1 div.sk-estimator:hover label.sk-toggleable__label-arrow:before {color: black;}#sk-container-id-1 div.sk-toggleable__content {max-height: 0;max-width: 0;overflow: hidden;text-align: left;background-color: #f0f8ff;}#sk-container-id-1 div.sk-toggleable__content pre {margin: 0.2em;color: black;border-radius: 0.25em;background-color: #f0f8ff;}#sk-container-id-1 input.sk-toggleable__control:checked~div.sk-toggleable__content {max-height: 200px;max-width: 100%;overflow: auto;}#sk-container-id-1 input.sk-toggleable__control:checked~label.sk-toggleable__label-arrow:before {content: \"▾\";}#sk-container-id-1 div.sk-estimator input.sk-toggleable__control:checked~label.sk-toggleable__label {background-color: #d4ebff;}#sk-container-id-1 div.sk-label input.sk-toggleable__control:checked~label.sk-toggleable__label {background-color: #d4ebff;}#sk-container-id-1 input.sk-hidden--visually {border: 0;clip: rect(1px 1px 1px 1px);clip: rect(1px, 1px, 1px, 1px);height: 1px;margin: -1px;overflow: hidden;padding: 0;position: absolute;width: 1px;}#sk-container-id-1 div.sk-estimator {font-family: monospace;background-color: #f0f8ff;border: 1px dotted black;border-radius: 0.25em;box-sizing: border-box;margin-bottom: 0.5em;}#sk-container-id-1 div.sk-estimator:hover {background-color: #d4ebff;}#sk-container-id-1 div.sk-parallel-item::after {content: \"\";width: 100%;border-bottom: 1px solid gray;flex-grow: 1;}#sk-container-id-1 div.sk-label:hover label.sk-toggleable__label {background-color: #d4ebff;}#sk-container-id-1 div.sk-serial::before {content: \"\";position: absolute;border-left: 1px solid gray;box-sizing: border-box;top: 0;bottom: 0;left: 50%;z-index: 0;}#sk-container-id-1 div.sk-serial {display: flex;flex-direction: column;align-items: center;background-color: white;padding-right: 0.2em;padding-left: 0.2em;position: relative;}#sk-container-id-1 div.sk-item {position: relative;z-index: 1;}#sk-container-id-1 div.sk-parallel {display: flex;align-items: stretch;justify-content: center;background-color: white;position: relative;}#sk-container-id-1 div.sk-item::before, #sk-container-id-1 div.sk-parallel-item::before {content: \"\";position: absolute;border-left: 1px solid gray;box-sizing: border-box;top: 0;bottom: 0;left: 50%;z-index: -1;}#sk-container-id-1 div.sk-parallel-item {display: flex;flex-direction: column;z-index: 1;position: relative;background-color: white;}#sk-container-id-1 div.sk-parallel-item:first-child::after {align-self: flex-end;width: 50%;}#sk-container-id-1 div.sk-parallel-item:last-child::after {align-self: flex-start;width: 50%;}#sk-container-id-1 div.sk-parallel-item:only-child::after {width: 0;}#sk-container-id-1 div.sk-dashed-wrapped {border: 1px dashed gray;margin: 0 0.4em 0.5em 0.4em;box-sizing: border-box;padding-bottom: 0.4em;background-color: white;}#sk-container-id-1 div.sk-label label {font-family: monospace;font-weight: bold;display: inline-block;line-height: 1.2em;}#sk-container-id-1 div.sk-label-container {text-align: center;}#sk-container-id-1 div.sk-container {/* jupyter's `normalize.less` sets `[hidden] { display: none; }` but bootstrap.min.css set `[hidden] { display: none !important; }` so we also need the `!important` here to be able to override the default hidden behavior on the sphinx rendered scikit-learn.org. See: https://github.com/scikit-learn/scikit-learn/issues/21755 */display: inline-block !important;position: relative;}#sk-container-id-1 div.sk-text-repr-fallback {display: none;}</style><div id=\"sk-container-id-1\" class=\"sk-top-container\"><div class=\"sk-text-repr-fallback\"><pre>StandardScaler()</pre><b>In a Jupyter environment, please rerun this cell to show the HTML representation or trust the notebook. <br />On GitHub, the HTML representation is unable to render, please try loading this page with nbviewer.org.</b></div><div class=\"sk-container\" hidden><div class=\"sk-item\"><div class=\"sk-estimator sk-toggleable\"><input class=\"sk-toggleable__control sk-hidden--visually\" id=\"sk-estimator-id-1\" type=\"checkbox\" checked><label for=\"sk-estimator-id-1\" class=\"sk-toggleable__label sk-toggleable__label-arrow\">StandardScaler</label><div class=\"sk-toggleable__content\"><pre>StandardScaler()</pre></div></div></div></div></div>"
      ],
      "text/plain": [
       "StandardScaler()"
      ]
     },
     "execution_count": 57,
     "metadata": {},
     "output_type": "execute_result"
    }
   ],
   "source": [
    "scale=StandardScaler()\n",
    "scale.fit(train)"
   ]
  },
  {
   "cell_type": "code",
   "execution_count": 58,
   "id": "8f723373",
   "metadata": {},
   "outputs": [],
   "source": [
    "train=pd.DataFrame(scale.transform(train),columns=train.columns)"
   ]
  },
  {
   "cell_type": "code",
   "execution_count": 59,
   "id": "8fe31de7",
   "metadata": {},
   "outputs": [],
   "source": [
    "test=pd.DataFrame(scale.transform(test),columns=test.columns)"
   ]
  },
  {
   "cell_type": "code",
   "execution_count": 60,
   "id": "6ecf0183",
   "metadata": {},
   "outputs": [],
   "source": [
    "train.to_csv('preprocessed_train.csv',index=False)\n",
    "train_output.to_csv('preprocessed_train_output.csv',index=False)"
   ]
  },
  {
   "cell_type": "code",
   "execution_count": 61,
   "id": "ac197ffc",
   "metadata": {},
   "outputs": [],
   "source": [
    "test.to_csv('preprocessed_test.csv',index=False)\n",
    "test_output.to_csv('preprocessed_test_output.csv',index=False)"
   ]
  },
  {
   "cell_type": "code",
   "execution_count": 62,
   "id": "37eca454",
   "metadata": {},
   "outputs": [
    {
     "data": {
      "text/html": [
       "<div>\n",
       "<style scoped>\n",
       "    .dataframe tbody tr th:only-of-type {\n",
       "        vertical-align: middle;\n",
       "    }\n",
       "\n",
       "    .dataframe tbody tr th {\n",
       "        vertical-align: top;\n",
       "    }\n",
       "\n",
       "    .dataframe thead th {\n",
       "        text-align: right;\n",
       "    }\n",
       "</style>\n",
       "<table border=\"1\" class=\"dataframe\">\n",
       "  <thead>\n",
       "    <tr style=\"text-align: right;\">\n",
       "      <th></th>\n",
       "      <th>fti</th>\n",
       "      <th>t3</th>\n",
       "      <th>tsh</th>\n",
       "      <th>tt4</th>\n",
       "    </tr>\n",
       "  </thead>\n",
       "  <tbody>\n",
       "    <tr>\n",
       "      <th>0</th>\n",
       "      <td>-0.070884</td>\n",
       "      <td>-1.296055</td>\n",
       "      <td>-0.254030</td>\n",
       "      <td>-0.279239</td>\n",
       "    </tr>\n",
       "    <tr>\n",
       "      <th>1</th>\n",
       "      <td>-0.234985</td>\n",
       "      <td>0.231688</td>\n",
       "      <td>-0.266095</td>\n",
       "      <td>-0.588743</td>\n",
       "    </tr>\n",
       "    <tr>\n",
       "      <th>2</th>\n",
       "      <td>-0.070884</td>\n",
       "      <td>-1.296055</td>\n",
       "      <td>-0.121316</td>\n",
       "      <td>-0.320506</td>\n",
       "    </tr>\n",
       "    <tr>\n",
       "      <th>3</th>\n",
       "      <td>-1.566025</td>\n",
       "      <td>-1.054833</td>\n",
       "      <td>-0.022384</td>\n",
       "      <td>-1.806129</td>\n",
       "    </tr>\n",
       "    <tr>\n",
       "      <th>4</th>\n",
       "      <td>0.567286</td>\n",
       "      <td>-0.170350</td>\n",
       "      <td>-0.269714</td>\n",
       "      <td>0.236603</td>\n",
       "    </tr>\n",
       "  </tbody>\n",
       "</table>\n",
       "</div>"
      ],
      "text/plain": [
       "        fti        t3       tsh       tt4\n",
       "0 -0.070884 -1.296055 -0.254030 -0.279239\n",
       "1 -0.234985  0.231688 -0.266095 -0.588743\n",
       "2 -0.070884 -1.296055 -0.121316 -0.320506\n",
       "3 -1.566025 -1.054833 -0.022384 -1.806129\n",
       "4  0.567286 -0.170350 -0.269714  0.236603"
      ]
     },
     "execution_count": 62,
     "metadata": {},
     "output_type": "execute_result"
    }
   ],
   "source": [
    "train.head()"
   ]
  },
  {
   "cell_type": "code",
   "execution_count": 63,
   "id": "2101bdf6",
   "metadata": {},
   "outputs": [
    {
     "data": {
      "text/plain": [
       "(4591, 4)"
      ]
     },
     "execution_count": 63,
     "metadata": {},
     "output_type": "execute_result"
    }
   ],
   "source": [
    "train.shape"
   ]
  },
  {
   "cell_type": "code",
   "execution_count": 64,
   "id": "5945f625",
   "metadata": {},
   "outputs": [
    {
     "data": {
      "text/html": [
       "<div>\n",
       "<style scoped>\n",
       "    .dataframe tbody tr th:only-of-type {\n",
       "        vertical-align: middle;\n",
       "    }\n",
       "\n",
       "    .dataframe tbody tr th {\n",
       "        vertical-align: top;\n",
       "    }\n",
       "\n",
       "    .dataframe thead th {\n",
       "        text-align: right;\n",
       "    }\n",
       "</style>\n",
       "<table border=\"1\" class=\"dataframe\">\n",
       "  <thead>\n",
       "    <tr style=\"text-align: right;\">\n",
       "      <th></th>\n",
       "      <th>fti</th>\n",
       "      <th>t3</th>\n",
       "      <th>tsh</th>\n",
       "      <th>tt4</th>\n",
       "    </tr>\n",
       "  </thead>\n",
       "  <tbody>\n",
       "    <tr>\n",
       "      <th>0</th>\n",
       "      <td>-1.803060</td>\n",
       "      <td>-1.296055</td>\n",
       "      <td>-0.287812</td>\n",
       "      <td>-2.074367</td>\n",
       "    </tr>\n",
       "    <tr>\n",
       "      <th>1</th>\n",
       "      <td>0.494352</td>\n",
       "      <td>1.116171</td>\n",
       "      <td>-0.279125</td>\n",
       "      <td>0.628642</td>\n",
       "    </tr>\n",
       "    <tr>\n",
       "      <th>2</th>\n",
       "      <td>0.986655</td>\n",
       "      <td>-0.089942</td>\n",
       "      <td>-0.263682</td>\n",
       "      <td>0.422306</td>\n",
       "    </tr>\n",
       "    <tr>\n",
       "      <th>3</th>\n",
       "      <td>0.713154</td>\n",
       "      <td>-0.250757</td>\n",
       "      <td>-0.239552</td>\n",
       "      <td>0.484207</td>\n",
       "    </tr>\n",
       "    <tr>\n",
       "      <th>4</th>\n",
       "      <td>0.348485</td>\n",
       "      <td>-1.296055</td>\n",
       "      <td>-0.278160</td>\n",
       "      <td>0.855612</td>\n",
       "    </tr>\n",
       "  </tbody>\n",
       "</table>\n",
       "</div>"
      ],
      "text/plain": [
       "        fti        t3       tsh       tt4\n",
       "0 -1.803060 -1.296055 -0.287812 -2.074367\n",
       "1  0.494352  1.116171 -0.279125  0.628642\n",
       "2  0.986655 -0.089942 -0.263682  0.422306\n",
       "3  0.713154 -0.250757 -0.239552  0.484207\n",
       "4  0.348485 -1.296055 -0.278160  0.855612"
      ]
     },
     "execution_count": 64,
     "metadata": {},
     "output_type": "execute_result"
    }
   ],
   "source": [
    "test.head()"
   ]
  }
 ],
 "metadata": {
  "kernelspec": {
   "display_name": "Python 3 (ipykernel)",
   "language": "python",
   "name": "python3"
  },
  "language_info": {
   "codemirror_mode": {
    "name": "ipython",
    "version": 3
   },
   "file_extension": ".py",
   "mimetype": "text/x-python",
   "name": "python",
   "nbconvert_exporter": "python",
   "pygments_lexer": "ipython3",
   "version": "3.11.5"
  }
 },
 "nbformat": 4,
 "nbformat_minor": 5
}
