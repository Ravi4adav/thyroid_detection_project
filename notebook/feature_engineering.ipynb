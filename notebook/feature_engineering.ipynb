{
 "cells": [
  {
   "cell_type": "markdown",
   "id": "bffe999f",
   "metadata": {},
   "source": [
    "# Thyroid Disease Detection\n",
    "\n",
    "##### Life cycle of Thyroid disease Detector\n",
    "- Understanding the problem statement\n",
    "- Data Collection\n",
    "- Data Checks to perform\n",
    "- Exploratory Data Analysis\n",
    "- Data preprocessing\n",
    "- Model Training\n",
    "- Choose best model"
   ]
  },
  {
   "cell_type": "markdown",
   "id": "18418988",
   "metadata": {},
   "source": [
    "## 1) Problem Statement\n",
    "\n",
    "- Thyroid disease is a common cause of medical diagnosis and prediction, with an onset that is difficult to forecast in medical research. The thyroid gland is one of our body's most vital organs. Thyroid hormone releases are responsible for metabolic regulation. Hyperthyroidism and hypothyroidism are one of the two common diseases of the thyroid that releases thyroid hormones in regulating the rate of body's metabolism.The main goal is to predict the estimated risk on a patient's chance of obtaining thyroid disease or not.\n"
   ]
  },
  {
   "cell_type": "markdown",
   "id": "6adf8571",
   "metadata": {},
   "source": [
    "## 2) Data Collection\n",
    "- Dataset Source - https://archive.ics.uci.edu/dataset/102/thyroid+disease\n",
    "- From Garavan Institute\n",
    "- Documentation: as given by Ross Quinlan\n",
    "- 6 databases from the Garavan Institute in Sydney, Australia\n",
    "- Approximately the following for each database:\n",
    "\n",
    "    ** 2800 training (data) instances and 972 test instances\n",
    "    ** Plenty of missing data\n",
    "    ** 29 or so attributes, either Boolean or continuously-valued \n",
    "\n",
    "- 2 additional databases, also from Ross Quinlan, are also here\n",
    "\n",
    "    ** Hypothyroid.data and sick-euthyroid.data\n",
    "    ** Quinlan believes that these databases have been corrupted\n",
    "    ** Their format is highly similar to the other databases \n",
    "\n",
    "- A Thyroid database suited for training ANNs\n",
    "\n",
    "    ** 3 classes\n",
    "    ** 3772 training instances, 3428 testing instances\n",
    "    ** Includes cost data (donated by Peter Turney) "
   ]
  },
  {
   "cell_type": "markdown",
   "id": "3beb2256",
   "metadata": {},
   "source": [
    "### 2.1 Import Required Packages\n",
    "#### Importing Pandas, Numpy, Matplotlib, Seaborn, regular expression and Os Libraries"
   ]
  },
  {
   "cell_type": "code",
   "execution_count": 71,
   "id": "94af5cc7",
   "metadata": {},
   "outputs": [],
   "source": [
    "import matplotlib.pyplot as plt\n",
    "import pandas as pd\n",
    "import seaborn as sns\n",
    "from sklearn.model_selection import train_test_split\n",
    "import numpy as np\n",
    "import os\n",
    "import re"
   ]
  },
  {
   "cell_type": "markdown",
   "id": "779f78a3",
   "metadata": {},
   "source": [
    "### Setting DataFrame max Rows and Columns view\n",
    "- Maximum columns: 5000\n",
    "- Maximum rows: All"
   ]
  },
  {
   "cell_type": "code",
   "execution_count": 72,
   "id": "02623f2a",
   "metadata": {},
   "outputs": [],
   "source": [
    "pd.set_option('display.max_columns',None)\n",
    "pd.set_option('display.max_rows',10000)"
   ]
  },
  {
   "cell_type": "code",
   "execution_count": 73,
   "id": "01388a88",
   "metadata": {},
   "outputs": [],
   "source": [
    "final_dataset=pd.read_csv('blended_data.csv')"
   ]
  },
  {
   "cell_type": "code",
   "execution_count": 74,
   "id": "179a9929",
   "metadata": {},
   "outputs": [
    {
     "data": {
      "text/plain": [
       "(7544, 31)"
      ]
     },
     "execution_count": 74,
     "metadata": {},
     "output_type": "execute_result"
    }
   ],
   "source": [
    "final_dataset.shape"
   ]
  },
  {
   "cell_type": "code",
   "execution_count": 75,
   "id": "7b5d1f3f",
   "metadata": {},
   "outputs": [
    {
     "data": {
      "text/plain": [
       "disease\n",
       "negative                   7151\n",
       "compensated hypothyroid     194\n",
       "primary hypothyroid          95\n",
       "hyperthyroid                 79\n",
       "goitre                       12\n",
       "T3 toxic                     10\n",
       "secondary hypothyroid         2\n",
       "secondary toxic               1\n",
       "Name: count, dtype: int64"
      ]
     },
     "execution_count": 75,
     "metadata": {},
     "output_type": "execute_result"
    }
   ],
   "source": [
    "final_dataset['disease'].value_counts()"
   ]
  },
  {
   "cell_type": "code",
   "execution_count": 76,
   "id": "0ec25f44",
   "metadata": {},
   "outputs": [],
   "source": [
    "train, test =train_test_split(final_dataset,test_size=0.2)"
   ]
  },
  {
   "cell_type": "code",
   "execution_count": 77,
   "id": "b72ccc2e",
   "metadata": {},
   "outputs": [
    {
     "data": {
      "text/plain": [
       "((6035, 31), (1509, 31))"
      ]
     },
     "execution_count": 77,
     "metadata": {},
     "output_type": "execute_result"
    }
   ],
   "source": [
    "train.shape, test.shape"
   ]
  },
  {
   "cell_type": "markdown",
   "id": "77ac445f",
   "metadata": {},
   "source": [
    "# Feature Engineering"
   ]
  },
  {
   "cell_type": "markdown",
   "id": "ab8d3e3f",
   "metadata": {},
   "source": [
    "## Dropping duplicate records"
   ]
  },
  {
   "cell_type": "code",
   "execution_count": 78,
   "id": "6494c13c",
   "metadata": {},
   "outputs": [],
   "source": [
    "train.drop_duplicates(inplace=True)\n",
    "test.drop_duplicates(inplace=True)"
   ]
  },
  {
   "cell_type": "code",
   "execution_count": 79,
   "id": "0b5760fe",
   "metadata": {},
   "outputs": [
    {
     "data": {
      "text/plain": [
       "((6035, 31), (1509, 31))"
      ]
     },
     "execution_count": 79,
     "metadata": {},
     "output_type": "execute_result"
    }
   ],
   "source": [
    "train.shape, test.shape"
   ]
  },
  {
   "cell_type": "markdown",
   "id": "002f0ea6",
   "metadata": {},
   "source": [
    "## 1) Imputation of Missing values"
   ]
  },
  {
   "cell_type": "markdown",
   "id": "edf052ae",
   "metadata": {},
   "source": [
    "### 1.1 Imputing numerical features"
   ]
  },
  {
   "cell_type": "markdown",
   "id": "0a570f82",
   "metadata": {},
   "source": [
    "- All the values missing in numerical features like 'TSH', 'T3', 'TT4', 'T4U', 'FTI', 'TBG' are treated as report not ready which is represented by 0 value according to the database theory.\n",
    "- Hence we will impute missing feature with 0, except 'age' feature"
   ]
  },
  {
   "cell_type": "code",
   "execution_count": 80,
   "id": "84e0dbb1",
   "metadata": {},
   "outputs": [],
   "source": [
    "def drop_feature_columns(df,colList):\n",
    "    return df.drop(colList,axis=1)"
   ]
  },
  {
   "cell_type": "code",
   "execution_count": 81,
   "id": "c87b38a3",
   "metadata": {},
   "outputs": [
    {
     "data": {
      "text/plain": [
       "Index(['Unnamed: 0', 'age', 'sex', 'on_thyroxine', 'query_on_thyroxine',\n",
       "       'on_antithyroid_medication', 'sick', 'pregnant', 'thyroid_surgery',\n",
       "       'I131_treatment', 'query_hypothyroid', 'query_hyperthyroid', 'lithium',\n",
       "       'goitre', 'tumor', 'hypopituitary', 'psych', 'TSH_measured', 'TSH',\n",
       "       'T3_measured', 'T3', 'TT4_measured', 'TT4', 'T4U_measured', 'T4U',\n",
       "       'FTI_measured', 'FTI', 'TBG_measured', 'TBG', 'referral_source',\n",
       "       'disease'],\n",
       "      dtype='object')"
      ]
     },
     "execution_count": 81,
     "metadata": {},
     "output_type": "execute_result"
    }
   ],
   "source": [
    "train.columns"
   ]
  },
  {
   "cell_type": "code",
   "execution_count": 82,
   "id": "a0648f34",
   "metadata": {},
   "outputs": [],
   "source": [
    "train=drop_feature_columns(train,['TBG','TSH','Unnamed: 0'])\n",
    "test=drop_feature_columns(test,['TBG','TSH','Unnamed: 0'])"
   ]
  },
  {
   "cell_type": "code",
   "execution_count": 83,
   "id": "5aa6c539",
   "metadata": {},
   "outputs": [],
   "source": [
    "def get_num_features(df):\n",
    "    num_features=[features for features in df.columns if df[features].dtypes=='float64']\n",
    "    return num_features"
   ]
  },
  {
   "cell_type": "code",
   "execution_count": 84,
   "id": "01c1ed2a",
   "metadata": {},
   "outputs": [],
   "source": [
    "num_features=get_num_features(train)\n"
   ]
  },
  {
   "cell_type": "markdown",
   "id": "034ab04d",
   "metadata": {},
   "source": [
    "#### 1.1.1 Imputing age numerical feature\n",
    "\n",
    "- Imputing age feature using knn imputer which will calculate the mean value of k closest neighbors mean value\n",
    "\n",
    "\n",
    "#### 1.1.1.1 Importing KNN imputer library"
   ]
  },
  {
   "cell_type": "code",
   "execution_count": 85,
   "id": "abfa4e31",
   "metadata": {},
   "outputs": [],
   "source": [
    "from sklearn.impute import KNNImputer"
   ]
  },
  {
   "cell_type": "markdown",
   "id": "2b2fde94",
   "metadata": {},
   "source": [
    "#### 1.1.1.2 Creating instance of KNNImputer and fit the numerical features"
   ]
  },
  {
   "cell_type": "code",
   "execution_count": 86,
   "id": "b02fb9a0",
   "metadata": {},
   "outputs": [],
   "source": [
    "def num_impute(num_features,df):\n",
    "    knn_imp=KNNImputer()\n",
    "    imp_val=knn_imp.fit_transform(df[num_features])\n",
    "    return imp_val"
   ]
  },
  {
   "cell_type": "markdown",
   "id": "26ed73f4",
   "metadata": {},
   "source": [
    "#### 1.1.1.3 Assigning the missing values to the numeric feature"
   ]
  },
  {
   "cell_type": "code",
   "execution_count": 87,
   "id": "1e771687",
   "metadata": {},
   "outputs": [],
   "source": [
    "train[num_features]=num_impute(num_features,train)"
   ]
  },
  {
   "cell_type": "markdown",
   "id": "3f0e7c87",
   "metadata": {},
   "source": [
    "### 1.2 Imputing categorical features"
   ]
  },
  {
   "cell_type": "markdown",
   "id": "d3920c2e",
   "metadata": {},
   "source": [
    "#### 1.2.1 Assigning the missing values with most frequent category"
   ]
  },
  {
   "cell_type": "code",
   "execution_count": 88,
   "id": "211be47b",
   "metadata": {},
   "outputs": [],
   "source": [
    "def get_cat_features(df):\n",
    "    cat_features=[features for features in df.columns if df[features].dtypes=='object']\n",
    "    return cat_features"
   ]
  },
  {
   "cell_type": "code",
   "execution_count": 89,
   "id": "4203f824",
   "metadata": {},
   "outputs": [],
   "source": [
    "cat_features=get_cat_features(train)"
   ]
  },
  {
   "cell_type": "code",
   "execution_count": 90,
   "id": "1cc098ba",
   "metadata": {},
   "outputs": [
    {
     "data": {
      "text/plain": [
       "['sex', 'referral_source', 'disease']"
      ]
     },
     "execution_count": 90,
     "metadata": {},
     "output_type": "execute_result"
    }
   ],
   "source": [
    "cat_features"
   ]
  },
  {
   "cell_type": "code",
   "execution_count": 91,
   "id": "13872096",
   "metadata": {},
   "outputs": [],
   "source": [
    "def cat_impute(colList,df):\n",
    "    for features in colList:\n",
    "        df[features]=np.where(df[features].isnull(),df[features].mode(),df[features])\n",
    "    return df"
   ]
  },
  {
   "cell_type": "code",
   "execution_count": 92,
   "id": "fc9d7cfc",
   "metadata": {},
   "outputs": [],
   "source": [
    "train=cat_impute(cat_features,train)\n",
    "test=cat_impute(cat_features,test)"
   ]
  },
  {
   "cell_type": "markdown",
   "id": "9bc0b5ea",
   "metadata": {},
   "source": [
    "### 1.3 Imputing boolean features"
   ]
  },
  {
   "cell_type": "code",
   "execution_count": 93,
   "id": "5e9e80d1",
   "metadata": {},
   "outputs": [],
   "source": [
    "def get_bool_features(df):\n",
    "    bool_features=[features for features in df.columns if df[features].dtypes=='int64']\n",
    "    return df"
   ]
  },
  {
   "cell_type": "code",
   "execution_count": 94,
   "id": "66a16e56",
   "metadata": {},
   "outputs": [],
   "source": [
    "bool_features=get_bool_features(train)"
   ]
  },
  {
   "cell_type": "code",
   "execution_count": 95,
   "id": "038fea94",
   "metadata": {},
   "outputs": [],
   "source": [
    "def bool_impute(df,colList):\n",
    "    for features in colList:\n",
    "        df[features]=np.where(df[features].isnull(), 0, df[features])\n",
    "    return df"
   ]
  },
  {
   "cell_type": "code",
   "execution_count": 96,
   "id": "18ee6b53",
   "metadata": {},
   "outputs": [],
   "source": [
    "train=bool_impute(train,bool_features)\n",
    "test=bool_impute(test,bool_features)"
   ]
  },
  {
   "cell_type": "markdown",
   "id": "b42ccafb",
   "metadata": {},
   "source": [
    "- Checking the null values in dataset"
   ]
  },
  {
   "cell_type": "code",
   "execution_count": 97,
   "id": "cd32ecd9",
   "metadata": {},
   "outputs": [
    {
     "data": {
      "text/plain": [
       "age                          0\n",
       "sex                          0\n",
       "on_thyroxine                 0\n",
       "query_on_thyroxine           0\n",
       "on_antithyroid_medication    0\n",
       "sick                         0\n",
       "pregnant                     0\n",
       "thyroid_surgery              0\n",
       "I131_treatment               0\n",
       "query_hypothyroid            0\n",
       "query_hyperthyroid           0\n",
       "lithium                      0\n",
       "goitre                       0\n",
       "tumor                        0\n",
       "hypopituitary                0\n",
       "psych                        0\n",
       "TSH_measured                 0\n",
       "T3_measured                  0\n",
       "T3                           0\n",
       "TT4_measured                 0\n",
       "TT4                          0\n",
       "T4U_measured                 0\n",
       "T4U                          0\n",
       "FTI_measured                 0\n",
       "FTI                          0\n",
       "TBG_measured                 0\n",
       "referral_source              0\n",
       "disease                      0\n",
       "dtype: int64"
      ]
     },
     "execution_count": 97,
     "metadata": {},
     "output_type": "execute_result"
    }
   ],
   "source": [
    "train.isnull().sum()"
   ]
  },
  {
   "cell_type": "markdown",
   "id": "c0a14298",
   "metadata": {},
   "source": [
    "## 2) Performing encoding on boolean features"
   ]
  },
  {
   "cell_type": "markdown",
   "id": "5318fc90",
   "metadata": {},
   "source": [
    "### 2.2 Performing encoding on categorical features"
   ]
  },
  {
   "cell_type": "markdown",
   "id": "3334e870",
   "metadata": {},
   "source": [
    "- Below code will be used to assign a numeric digit to each unique value in each feature of categorical feature"
   ]
  },
  {
   "cell_type": "code",
   "execution_count": 98,
   "id": "703b90de",
   "metadata": {},
   "outputs": [],
   "source": [
    "def cat_encoding(df,colList, target_feature):\n",
    "    for features in colList:\n",
    "        if features!=target_feature:\n",
    "            cat_encode={val:idx for idx,val in enumerate(df[features].value_counts().index,start=1)}\n",
    "            print(cat_encode)\n",
    "            df[features]=df[features].map(cat_encode)\n",
    "    return df"
   ]
  },
  {
   "cell_type": "code",
   "execution_count": 99,
   "id": "daaddcda",
   "metadata": {},
   "outputs": [
    {
     "name": "stdout",
     "output_type": "stream",
     "text": [
      "{'F': 1, 'M': 2}\n",
      "{'other': 1, 'SVI': 2, 'SVHC': 3, 'STMW': 4, 'SVHD': 5}\n",
      "{'F': 1, 'M': 2}\n",
      "{'other': 1, 'SVI': 2, 'SVHC': 3, 'STMW': 4, 'SVHD': 5}\n"
     ]
    }
   ],
   "source": [
    "train=cat_encoding(train,cat_features,'disease')\n",
    "test=cat_encoding(test,cat_features,'disease')"
   ]
  },
  {
   "cell_type": "markdown",
   "id": "f40d8bf7",
   "metadata": {},
   "source": [
    "## 3) Handling Rare Classes in disease feature and also classes related to another one"
   ]
  },
  {
   "cell_type": "markdown",
   "id": "faf19dc7",
   "metadata": {},
   "source": [
    "### 3.1 Checking the frequency of each class in disease feature"
   ]
  },
  {
   "cell_type": "code",
   "execution_count": 100,
   "id": "4fa27c55",
   "metadata": {
    "scrolled": true
   },
   "outputs": [
    {
     "data": {
      "text/plain": [
       "disease\n",
       "negative                   5718\n",
       "compensated hypothyroid     156\n",
       "primary hypothyroid          78\n",
       "hyperthyroid                 62\n",
       "T3 toxic                      9\n",
       "goitre                        9\n",
       "secondary hypothyroid         2\n",
       "secondary toxic               1\n",
       "Name: count, dtype: int64"
      ]
     },
     "execution_count": 100,
     "metadata": {},
     "output_type": "execute_result"
    }
   ],
   "source": [
    "train['disease'].value_counts()"
   ]
  },
  {
   "cell_type": "markdown",
   "id": "ba9930b6",
   "metadata": {},
   "source": [
    "- primary hypothyroid (297) ---> primary hypothyroid concurrent non-thyroidal illness (6) = 303\n",
    "- underreplaced (111) --> underreplacement (35) + underreplaced increased binding protein (2) = 148\n",
    "- overreplaced (110) --> overreplacement (23) + replacement therapy (29) + consistent with replacement therapy decreased binding protein (1) = 163\n",
    "- increased binding protein (470) ---> antithyroid drugs increased binding protein (1) + antithyroid drugs (14) + compensated hypothyroid increased binding protein (10)= 485\n",
    "- secondary toxic (8) ---> secondary toxic  | discordant assay results (1) = 9\n",
    "- discordant assay results (196) ---> secondary toxic  | discordant assay results (1) + discordant (45) = 242\n",
    "- decreased binding protein (39) ---> compensated hypothyroid concurrent non-thyroidal illness decreased binding protein (1) = 40"
   ]
  },
  {
   "cell_type": "markdown",
   "id": "19eade84",
   "metadata": {},
   "source": [
    "### 3.2 Creating dictionary to map extra classes with their relative classes"
   ]
  },
  {
   "cell_type": "code",
   "execution_count": 101,
   "id": "b561784e",
   "metadata": {},
   "outputs": [],
   "source": [
    "disease_features={'hyperthyroid':['hyperthyroid', 'T3 toxic', 'toxic goitre', 'secondary toxic', 'goitre'],\n",
    "                 'hypothyroid':['hypothyroid', 'primary hypothyroid','compensated hypothyroid','secondary hypothyroid'],\n",
    "                 'antithyroid treatment':['antithyroid drugs','I131 treatment','surgery'],\n",
    "                  'replacement therapy': ['consistent with replacement therapy', 'underreplacement', 'overreplacement'],\n",
    "                  'discordant assay results':['discordant'],\n",
    "                  'binding protein': ['increased binding protein', 'decreased binding protein'],\n",
    "                  'miscellaneous': ['discordant assay results'],\n",
    "                  'negative': ['concurrent non-thyroidal illness']\n",
    "                  \n",
    "                 }"
   ]
  },
  {
   "cell_type": "markdown",
   "id": "3855b59c",
   "metadata": {},
   "source": [
    "### 3.3 Mapping extra classes with their relative classes"
   ]
  },
  {
   "cell_type": "code",
   "execution_count": 102,
   "id": "58c703a0",
   "metadata": {},
   "outputs": [],
   "source": [
    "def merge_value(df, mapping_dict):\n",
    "    for lists in mapping_dict.values():\n",
    "        for values in lists:\n",
    "            df['disease']=np.where(df['disease']==values,list(mapping_dict.keys())[list(mapping_dict.values()).index(lists)],df['disease'])\n",
    "    return df"
   ]
  },
  {
   "cell_type": "code",
   "execution_count": 103,
   "id": "94ac6d95",
   "metadata": {},
   "outputs": [],
   "source": [
    "train=merge_value(train,disease_features)\n",
    "test=merge_value(test,disease_features)"
   ]
  },
  {
   "cell_type": "markdown",
   "id": "fb2e36e5",
   "metadata": {},
   "source": [
    "### 3.4 Checking frequency of each class after mapping"
   ]
  },
  {
   "cell_type": "code",
   "execution_count": 104,
   "id": "a4cff987",
   "metadata": {},
   "outputs": [
    {
     "data": {
      "text/plain": [
       "disease\n",
       "negative        5718\n",
       "hypothyroid      236\n",
       "hyperthyroid      81\n",
       "Name: count, dtype: int64"
      ]
     },
     "execution_count": 104,
     "metadata": {},
     "output_type": "execute_result"
    }
   ],
   "source": [
    "train['disease'].value_counts()"
   ]
  },
  {
   "cell_type": "markdown",
   "id": "c7efedda",
   "metadata": {},
   "source": [
    "### Dropping Unwanted features"
   ]
  },
  {
   "cell_type": "code",
   "execution_count": 105,
   "id": "2a33a321",
   "metadata": {},
   "outputs": [
    {
     "data": {
      "text/plain": [
       "['TSH_measured',\n",
       " 'T3_measured',\n",
       " 'TT4_measured',\n",
       " 'T4U_measured',\n",
       " 'FTI_measured',\n",
       " 'TBG_measured']"
      ]
     },
     "execution_count": 105,
     "metadata": {},
     "output_type": "execute_result"
    }
   ],
   "source": [
    "measured_bool_features=[features for features in final_dataset.columns if '_measured' in features]\n",
    "measured_bool_features"
   ]
  },
  {
   "cell_type": "code",
   "execution_count": 106,
   "id": "cff2d9f8",
   "metadata": {},
   "outputs": [],
   "source": [
    "# final_dataset.drop(measured_bool_features+['referral_source'], axis=1, inplace=True)\n",
    "train=drop_feature_columns(train,measured_bool_features)\n",
    "test=drop_feature_columns(test,measured_bool_features)"
   ]
  },
  {
   "cell_type": "markdown",
   "id": "1f0dbb9d",
   "metadata": {},
   "source": [
    "### Encoding the disease categories"
   ]
  },
  {
   "cell_type": "code",
   "execution_count": 107,
   "id": "7bb192c3",
   "metadata": {},
   "outputs": [],
   "source": [
    "def encode_target_feature(df,target_feature_name):\n",
    "    df[target_feature_name]=np.where(df[target_feature_name]=='negative', 0,1)\n",
    "    return df"
   ]
  },
  {
   "cell_type": "code",
   "execution_count": 108,
   "id": "2d431bc7",
   "metadata": {},
   "outputs": [],
   "source": [
    "train=encode_target_feature(train,'disease')\n",
    "test=encode_target_feature(test,'disease')"
   ]
  },
  {
   "cell_type": "markdown",
   "id": "339a9824",
   "metadata": {},
   "source": [
    "- All outliers may also useful in detection of disease category hence outlier removal is not necessary"
   ]
  },
  {
   "cell_type": "code",
   "execution_count": 109,
   "id": "d8c0fed6",
   "metadata": {},
   "outputs": [
    {
     "data": {
      "text/plain": [
       "disease\n",
       "0    5718\n",
       "1     317\n",
       "Name: count, dtype: int64"
      ]
     },
     "execution_count": 109,
     "metadata": {},
     "output_type": "execute_result"
    }
   ],
   "source": [
    "train['disease'].value_counts()"
   ]
  },
  {
   "cell_type": "code",
   "execution_count": 110,
   "id": "a0738d7a",
   "metadata": {},
   "outputs": [
    {
     "data": {
      "text/plain": [
       "<Axes: xlabel='disease', ylabel='count'>"
      ]
     },
     "execution_count": 110,
     "metadata": {},
     "output_type": "execute_result"
    },
    {
     "data": {
      "image/png": "[encoded data removed]",
      "text/plain": [
       "<Figure size 640x480 with 1 Axes>"
      ]
     },
     "metadata": {},
     "output_type": "display_data"
    }
   ],
   "source": [
    "sns.countplot(data=train,x=train['disease'],hue='disease')"
   ]
  },
  {
   "cell_type": "markdown",
   "id": "db9991d3",
   "metadata": {},
   "source": [
    "## 4) Handling imbalanced dataset"
   ]
  },
  {
   "cell_type": "markdown",
   "id": "f86956ee",
   "metadata": {},
   "source": [
    "- Due to very high frequency of negative class in disease feature the data gets highly imbalanced.\n",
    "- Now this highly imbalanced data may reduce the precision and recall value of all classes other than negative class.\n",
    "- So, to avoid this we might have to balance the frequency of other classes also"
   ]
  },
  {
   "cell_type": "markdown",
   "id": "53d40708",
   "metadata": {},
   "source": [
    "### 4.1 Importing the library to oversample the Data\n",
    "- smote library\n",
    "- counter library"
   ]
  },
  {
   "cell_type": "code",
   "execution_count": 111,
   "id": "825f5581",
   "metadata": {},
   "outputs": [],
   "source": [
    "from collections import Counter\n",
    "from imblearn.over_sampling import SMOTE, RandomOverSampler\n",
    "from imblearn.combine import SMOTETomek\n",
    "from imblearn.under_sampling import NearMiss"
   ]
  },
  {
   "cell_type": "code",
   "execution_count": 112,
   "id": "ab9a80d3",
   "metadata": {},
   "outputs": [],
   "source": [
    "def oversample_data(df, target_feature_name):\n",
    "    smote=SMOTE(sampling_strategy='not majority',k_neighbors=4)\n",
    "    smote=SMOTETomek(sampling_strategy='not minority', random_state=0,smote=smote)\n",
    "\n",
    "    ros=RandomOverSampler(sampling_strategy='not majority')\n",
    "    x,y=smote.fit_resample(df.iloc[:,:-1],df[target_feature_name])\n",
    "    \n",
    "    return x,y"
   ]
  },
  {
   "cell_type": "code",
   "execution_count": 113,
   "id": "a46357f4",
   "metadata": {},
   "outputs": [
    {
     "name": "stdout",
     "output_type": "stream",
     "text": [
      "Original dataset shape Counter({0: 5718, 1: 317})\n",
      "Resampled dataset shape Counter({0: 5707, 1: 5707})\n"
     ]
    }
   ],
   "source": [
    "print('Original dataset shape %s' % Counter(train['disease']))\n",
    "# x,y=smote.fit_resample(final_dataset.iloc[:,:-1],final_dataset['disease'])\n",
    "\n",
    "x,y=oversample_data(train,'disease')\n",
    "\n",
    "# x,y=us.fit_resample(final_dataset.iloc[:,:-1],final_dataset['disease'])\n",
    "print('Resampled dataset shape %s' % Counter(y))"
   ]
  },
  {
   "cell_type": "code",
   "execution_count": 114,
   "id": "c8eb62cf",
   "metadata": {},
   "outputs": [],
   "source": [
    "X=pd.DataFrame(x)\n",
    "Y=pd.DataFrame(y)"
   ]
  },
  {
   "cell_type": "code",
   "execution_count": 115,
   "id": "d8879d5d",
   "metadata": {},
   "outputs": [],
   "source": [
    "balanced_dataset=pd.concat([X,Y],axis=1)\n",
    "train=balanced_dataset"
   ]
  },
  {
   "cell_type": "code",
   "execution_count": 116,
   "id": "4337e8f1",
   "metadata": {},
   "outputs": [
    {
     "data": {
      "text/plain": [
       "(11414, 21)"
      ]
     },
     "execution_count": 116,
     "metadata": {},
     "output_type": "execute_result"
    }
   ],
   "source": [
    "X.shape"
   ]
  },
  {
   "cell_type": "markdown",
   "id": "b871cb91",
   "metadata": {},
   "source": [
    "# 5) Feature Selection"
   ]
  },
  {
   "cell_type": "code",
   "execution_count": 117,
   "id": "72e3799f",
   "metadata": {},
   "outputs": [],
   "source": [
    "from sklearn.feature_selection import mutual_info_classif, SelectKBest"
   ]
  },
  {
   "cell_type": "code",
   "execution_count": 118,
   "id": "acb3c1bf",
   "metadata": {},
   "outputs": [],
   "source": [
    "def best_feature(df,target_feature_name):\n",
    "    best_feature=SelectKBest(mutual_info_classif,k=5)\n",
    "    best_feature.fit(df.iloc[:,:-1],df[target_feature_name])\n",
    "    feature_names=df.iloc[:,:-1].columns[best_feature.get_support()]\n",
    "    return feature_names"
   ]
  },
  {
   "cell_type": "code",
   "execution_count": 119,
   "id": "caf095e4",
   "metadata": {},
   "outputs": [],
   "source": [
    "feature_names=best_feature(train,'disease')"
   ]
  },
  {
   "cell_type": "code",
   "execution_count": 120,
   "id": "9698c696",
   "metadata": {},
   "outputs": [],
   "source": [
    "train_X=train[feature_names]\n",
    "train_Y=train['disease']"
   ]
  },
  {
   "cell_type": "code",
   "execution_count": 121,
   "id": "a1897f19",
   "metadata": {},
   "outputs": [],
   "source": [
    "test_X=test[feature_names]\n",
    "test_Y=test['disease']"
   ]
  },
  {
   "cell_type": "code",
   "execution_count": 122,
   "id": "a2a0bb87",
   "metadata": {},
   "outputs": [
    {
     "data": {
      "text/html": [
       "<div>\n",
       "<style scoped>\n",
       "    .dataframe tbody tr th:only-of-type {\n",
       "        vertical-align: middle;\n",
       "    }\n",
       "\n",
       "    .dataframe tbody tr th {\n",
       "        vertical-align: top;\n",
       "    }\n",
       "\n",
       "    .dataframe thead th {\n",
       "        text-align: right;\n",
       "    }\n",
       "</style>\n",
       "<table border=\"1\" class=\"dataframe\">\n",
       "  <thead>\n",
       "    <tr style=\"text-align: right;\">\n",
       "      <th></th>\n",
       "      <th>age</th>\n",
       "      <th>T3</th>\n",
       "      <th>TT4</th>\n",
       "      <th>T4U</th>\n",
       "      <th>FTI</th>\n",
       "    </tr>\n",
       "  </thead>\n",
       "  <tbody>\n",
       "    <tr>\n",
       "      <th>0</th>\n",
       "      <td>24.0</td>\n",
       "      <td>2.70</td>\n",
       "      <td>116.0</td>\n",
       "      <td>0.82</td>\n",
       "      <td>143.0</td>\n",
       "    </tr>\n",
       "    <tr>\n",
       "      <th>1</th>\n",
       "      <td>43.0</td>\n",
       "      <td>2.26</td>\n",
       "      <td>160.0</td>\n",
       "      <td>1.03</td>\n",
       "      <td>156.0</td>\n",
       "    </tr>\n",
       "    <tr>\n",
       "      <th>2</th>\n",
       "      <td>50.0</td>\n",
       "      <td>0.20</td>\n",
       "      <td>33.0</td>\n",
       "      <td>0.70</td>\n",
       "      <td>47.0</td>\n",
       "    </tr>\n",
       "    <tr>\n",
       "      <th>3</th>\n",
       "      <td>60.0</td>\n",
       "      <td>1.92</td>\n",
       "      <td>45.0</td>\n",
       "      <td>0.47</td>\n",
       "      <td>96.0</td>\n",
       "    </tr>\n",
       "    <tr>\n",
       "      <th>4</th>\n",
       "      <td>66.0</td>\n",
       "      <td>2.58</td>\n",
       "      <td>95.0</td>\n",
       "      <td>0.99</td>\n",
       "      <td>95.0</td>\n",
       "    </tr>\n",
       "  </tbody>\n",
       "</table>\n",
       "</div>"
      ],
      "text/plain": [
       "    age    T3    TT4   T4U    FTI\n",
       "0  24.0  2.70  116.0  0.82  143.0\n",
       "1  43.0  2.26  160.0  1.03  156.0\n",
       "2  50.0  0.20   33.0  0.70   47.0\n",
       "3  60.0  1.92   45.0  0.47   96.0\n",
       "4  66.0  2.58   95.0  0.99   95.0"
      ]
     },
     "execution_count": 122,
     "metadata": {},
     "output_type": "execute_result"
    }
   ],
   "source": [
    "train_X.head()"
   ]
  },
  {
   "cell_type": "code",
   "execution_count": 123,
   "id": "a0deb391",
   "metadata": {},
   "outputs": [
    {
     "data": {
      "text/html": [
       "<div>\n",
       "<style scoped>\n",
       "    .dataframe tbody tr th:only-of-type {\n",
       "        vertical-align: middle;\n",
       "    }\n",
       "\n",
       "    .dataframe tbody tr th {\n",
       "        vertical-align: top;\n",
       "    }\n",
       "\n",
       "    .dataframe thead th {\n",
       "        text-align: right;\n",
       "    }\n",
       "</style>\n",
       "<table border=\"1\" class=\"dataframe\">\n",
       "  <thead>\n",
       "    <tr style=\"text-align: right;\">\n",
       "      <th></th>\n",
       "      <th>age</th>\n",
       "      <th>T3</th>\n",
       "      <th>TT4</th>\n",
       "      <th>T4U</th>\n",
       "      <th>FTI</th>\n",
       "    </tr>\n",
       "  </thead>\n",
       "  <tbody>\n",
       "    <tr>\n",
       "      <th>1649</th>\n",
       "      <td>34.0</td>\n",
       "      <td>0.2</td>\n",
       "      <td>5.8</td>\n",
       "      <td>0.00</td>\n",
       "      <td>0.0</td>\n",
       "    </tr>\n",
       "    <tr>\n",
       "      <th>1633</th>\n",
       "      <td>34.0</td>\n",
       "      <td>3.9</td>\n",
       "      <td>200.0</td>\n",
       "      <td>1.36</td>\n",
       "      <td>147.0</td>\n",
       "    </tr>\n",
       "    <tr>\n",
       "      <th>6851</th>\n",
       "      <td>77.0</td>\n",
       "      <td>2.0</td>\n",
       "      <td>105.0</td>\n",
       "      <td>1.05</td>\n",
       "      <td>100.0</td>\n",
       "    </tr>\n",
       "    <tr>\n",
       "      <th>604</th>\n",
       "      <td>27.0</td>\n",
       "      <td>5.3</td>\n",
       "      <td>272.0</td>\n",
       "      <td>0.97</td>\n",
       "      <td>281.0</td>\n",
       "    </tr>\n",
       "    <tr>\n",
       "      <th>6752</th>\n",
       "      <td>23.0</td>\n",
       "      <td>2.0</td>\n",
       "      <td>102.0</td>\n",
       "      <td>0.97</td>\n",
       "      <td>106.0</td>\n",
       "    </tr>\n",
       "  </tbody>\n",
       "</table>\n",
       "</div>"
      ],
      "text/plain": [
       "       age   T3    TT4   T4U    FTI\n",
       "1649  34.0  0.2    5.8  0.00    0.0\n",
       "1633  34.0  3.9  200.0  1.36  147.0\n",
       "6851  77.0  2.0  105.0  1.05  100.0\n",
       "604   27.0  5.3  272.0  0.97  281.0\n",
       "6752  23.0  2.0  102.0  0.97  106.0"
      ]
     },
     "execution_count": 123,
     "metadata": {},
     "output_type": "execute_result"
    }
   ],
   "source": [
    "test_X.head()"
   ]
  },
  {
   "cell_type": "markdown",
   "id": "140711f7",
   "metadata": {},
   "source": [
    "## 6) Data Transformation "
   ]
  },
  {
   "cell_type": "code",
   "execution_count": 124,
   "id": "2ddc5cf0",
   "metadata": {},
   "outputs": [],
   "source": [
    "from sklearn.preprocessing import StandardScaler"
   ]
  },
  {
   "cell_type": "code",
   "execution_count": 125,
   "id": "8e53cb72",
   "metadata": {},
   "outputs": [],
   "source": [
    "def transform(X):\n",
    "    scale=StandardScaler()\n",
    "    trans_x=pd.DataFrame(scale.fit_transform(X), columns=X.columns)\n",
    "    return trans_x"
   ]
  },
  {
   "cell_type": "code",
   "execution_count": 126,
   "id": "4b4bd0b2",
   "metadata": {},
   "outputs": [],
   "source": [
    "x_train=transform(train_X)"
   ]
  },
  {
   "cell_type": "code",
   "execution_count": 127,
   "id": "8fe31de7",
   "metadata": {},
   "outputs": [],
   "source": [
    "x_test=transform(test_X)"
   ]
  },
  {
   "cell_type": "code",
   "execution_count": 128,
   "id": "6ecf0183",
   "metadata": {},
   "outputs": [],
   "source": [
    "x_train.to_csv('train_data.csv',index=False)\n",
    "train_Y.to_csv('output_train_data.csv',index=False)"
   ]
  },
  {
   "cell_type": "code",
   "execution_count": 129,
   "id": "ac197ffc",
   "metadata": {},
   "outputs": [],
   "source": [
    "x_test.to_csv('test_data.csv',index=False)\n",
    "test_Y.to_csv('output_test_data.csv',index=False)"
   ]
  },
  {
   "cell_type": "code",
   "execution_count": 130,
   "id": "37eca454",
   "metadata": {},
   "outputs": [
    {
     "data": {
      "text/html": [
       "<div>\n",
       "<style scoped>\n",
       "    .dataframe tbody tr th:only-of-type {\n",
       "        vertical-align: middle;\n",
       "    }\n",
       "\n",
       "    .dataframe tbody tr th {\n",
       "        vertical-align: top;\n",
       "    }\n",
       "\n",
       "    .dataframe thead th {\n",
       "        text-align: right;\n",
       "    }\n",
       "</style>\n",
       "<table border=\"1\" class=\"dataframe\">\n",
       "  <thead>\n",
       "    <tr style=\"text-align: right;\">\n",
       "      <th></th>\n",
       "      <th>age</th>\n",
       "      <th>T3</th>\n",
       "      <th>TT4</th>\n",
       "      <th>T4U</th>\n",
       "      <th>FTI</th>\n",
       "    </tr>\n",
       "  </thead>\n",
       "  <tbody>\n",
       "    <tr>\n",
       "      <th>0</th>\n",
       "      <td>-1.448509</td>\n",
       "      <td>0.630499</td>\n",
       "      <td>0.246507</td>\n",
       "      <td>-1.004965</td>\n",
       "      <td>0.753185</td>\n",
       "    </tr>\n",
       "    <tr>\n",
       "      <th>1</th>\n",
       "      <td>-0.448451</td>\n",
       "      <td>0.199630</td>\n",
       "      <td>1.139965</td>\n",
       "      <td>0.188162</td>\n",
       "      <td>1.015693</td>\n",
       "    </tr>\n",
       "    <tr>\n",
       "      <th>2</th>\n",
       "      <td>-0.080009</td>\n",
       "      <td>-1.817622</td>\n",
       "      <td>-1.438880</td>\n",
       "      <td>-1.686752</td>\n",
       "      <td>-1.185335</td>\n",
       "    </tr>\n",
       "    <tr>\n",
       "      <th>3</th>\n",
       "      <td>0.446337</td>\n",
       "      <td>-0.133314</td>\n",
       "      <td>-1.195210</td>\n",
       "      <td>-2.993510</td>\n",
       "      <td>-0.195882</td>\n",
       "    </tr>\n",
       "    <tr>\n",
       "      <th>4</th>\n",
       "      <td>0.762145</td>\n",
       "      <td>0.512990</td>\n",
       "      <td>-0.179916</td>\n",
       "      <td>-0.039100</td>\n",
       "      <td>-0.216075</td>\n",
       "    </tr>\n",
       "  </tbody>\n",
       "</table>\n",
       "</div>"
      ],
      "text/plain": [
       "        age        T3       TT4       T4U       FTI\n",
       "0 -1.448509  0.630499  0.246507 -1.004965  0.753185\n",
       "1 -0.448451  0.199630  1.139965  0.188162  1.015693\n",
       "2 -0.080009 -1.817622 -1.438880 -1.686752 -1.185335\n",
       "3  0.446337 -0.133314 -1.195210 -2.993510 -0.195882\n",
       "4  0.762145  0.512990 -0.179916 -0.039100 -0.216075"
      ]
     },
     "execution_count": 130,
     "metadata": {},
     "output_type": "execute_result"
    }
   ],
   "source": [
    "x_train.head()"
   ]
  },
  {
   "cell_type": "code",
   "execution_count": 131,
   "id": "fe83b653",
   "metadata": {},
   "outputs": [
    {
     "data": {
      "text/plain": [
       "Index(['age', 'T3', 'TT4', 'T4U', 'FTI'], dtype='object')"
      ]
     },
     "execution_count": 131,
     "metadata": {},
     "output_type": "execute_result"
    }
   ],
   "source": [
    "x_train.columns"
   ]
  },
  {
   "cell_type": "code",
   "execution_count": 132,
   "id": "2101bdf6",
   "metadata": {},
   "outputs": [
    {
     "data": {
      "text/plain": [
       "(11414, 5)"
      ]
     },
     "execution_count": 132,
     "metadata": {},
     "output_type": "execute_result"
    }
   ],
   "source": [
    "x_train.shape"
   ]
  },
  {
   "cell_type": "code",
   "execution_count": null,
   "id": "5945f625",
   "metadata": {},
   "outputs": [],
   "source": []
  }
 ],
 "metadata": {
  "kernelspec": {
   "display_name": "Python 3 (ipykernel)",
   "language": "python",
   "name": "python3"
  },
  "language_info": {
   "codemirror_mode": {
    "name": "ipython",
    "version": 3
   },
   "file_extension": ".py",
   "mimetype": "text/x-python",
   "name": "python",
   "nbconvert_exporter": "python",
   "pygments_lexer": "ipython3",
   "version": "3.11.5"
  }
 },
 "nbformat": 4,
 "nbformat_minor": 5
}
